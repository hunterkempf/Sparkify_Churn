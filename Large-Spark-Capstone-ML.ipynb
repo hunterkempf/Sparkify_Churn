{
 "cells": [
  {
   "cell_type": "markdown",
   "metadata": {},
   "source": [
    "# Sparkify Capstone Project"
   ]
  },
  {
   "cell_type": "markdown",
   "metadata": {},
   "source": [
    "First pip install pyspark if it is not already installed"
   ]
  },
  {
   "cell_type": "code",
   "execution_count": 1,
   "metadata": {},
   "outputs": [
    {
     "name": "stdout",
     "output_type": "stream",
     "text": [
      "Requirement already satisfied: pyspark in /anaconda3/lib/python3.7/site-packages (2.4.5)\r\n",
      "Requirement already satisfied: py4j==0.10.7 in /anaconda3/lib/python3.7/site-packages (from pyspark) (0.10.7)\r\n"
     ]
    }
   ],
   "source": [
    "!pip install pyspark"
   ]
  },
  {
   "cell_type": "markdown",
   "metadata": {},
   "source": [
    "We need to first load in the necessary pyspark libaries"
   ]
  },
  {
   "cell_type": "code",
   "execution_count": 2,
   "metadata": {},
   "outputs": [],
   "source": [
    "import pandas as pd\n",
    "import numpy as np\n",
    "import matplotlib.pyplot as plt\n",
    "import sklearn.metrics as metrics\n",
    "\n",
    "from pyspark.sql import SparkSession\n",
    "from pyspark.sql.functions import isnan, count, when, col, desc, udf, col, sort_array, asc, avg\n",
    "from pyspark.sql.functions import sum as _sum\n",
    "from pyspark.sql.types import FloatType\n",
    "\n",
    "from pyspark.ml.classification import LogisticRegression, DecisionTreeClassifier, GBTClassifier \n",
    "from pyspark.ml.evaluation import BinaryClassificationEvaluator\n",
    "from pyspark.ml.tuning import ParamGridBuilder, TrainValidationSplit\n",
    "from pyspark.ml.linalg import Vectors"
   ]
  },
  {
   "cell_type": "code",
   "execution_count": 3,
   "metadata": {},
   "outputs": [],
   "source": [
    "spark = SparkSession \\\n",
    "    .builder \\\n",
    "    .appName(\"Data Frames practice\") \\\n",
    "    .getOrCreate()\n",
    "\n",
    "user_event_data = spark.read.json(\"/Users/hk720x/Documents/GitHub/Sparkify_Churn/full_sparkify_event_data.json\")"
   ]
  },
  {
   "cell_type": "markdown",
   "metadata": {},
   "source": [
    "# Data Exploration"
   ]
  },
  {
   "cell_type": "code",
   "execution_count": 4,
   "metadata": {},
   "outputs": [
    {
     "name": "stdout",
     "output_type": "stream",
     "text": [
      "root\n",
      " |-- artist: string (nullable = true)\n",
      " |-- auth: string (nullable = true)\n",
      " |-- firstName: string (nullable = true)\n",
      " |-- gender: string (nullable = true)\n",
      " |-- itemInSession: long (nullable = true)\n",
      " |-- lastName: string (nullable = true)\n",
      " |-- length: double (nullable = true)\n",
      " |-- level: string (nullable = true)\n",
      " |-- location: string (nullable = true)\n",
      " |-- method: string (nullable = true)\n",
      " |-- page: string (nullable = true)\n",
      " |-- registration: long (nullable = true)\n",
      " |-- sessionId: long (nullable = true)\n",
      " |-- song: string (nullable = true)\n",
      " |-- status: long (nullable = true)\n",
      " |-- ts: long (nullable = true)\n",
      " |-- userAgent: string (nullable = true)\n",
      " |-- userId: string (nullable = true)\n",
      "\n"
     ]
    }
   ],
   "source": [
    "user_event_data.printSchema()"
   ]
  },
  {
   "cell_type": "code",
   "execution_count": 5,
   "metadata": {},
   "outputs": [
    {
     "name": "stdout",
     "output_type": "stream",
     "text": [
      "+---------+---------+---------+------+-------------+--------+---------+-----+--------------------+------+--------+-------------+---------+--------------------+------+-------------+--------------------+-------+\n",
      "|   artist|     auth|firstName|gender|itemInSession|lastName|   length|level|            location|method|    page| registration|sessionId|                song|status|           ts|           userAgent| userId|\n",
      "+---------+---------+---------+------+-------------+--------+---------+-----+--------------------+------+--------+-------------+---------+--------------------+------+-------------+--------------------+-------+\n",
      "|Popol Vuh|Logged In|    Shlok|     M|          278| Johnson|524.32934| paid|Dallas-Fort Worth...|   PUT|NextSong|1533734541000|    22683|Ich mache einen S...|   200|1538352001000|\"Mozilla/5.0 (Win...|1749042|\n",
      "+---------+---------+---------+------+-------------+--------+---------+-----+--------------------+------+--------+-------------+---------+--------------------+------+-------------+--------------------+-------+\n",
      "only showing top 1 row\n",
      "\n"
     ]
    }
   ],
   "source": [
    "user_event_data.show(1)"
   ]
  },
  {
   "cell_type": "code",
   "execution_count": 6,
   "metadata": {},
   "outputs": [
    {
     "data": {
      "text/plain": [
       "26259199"
      ]
     },
     "execution_count": 6,
     "metadata": {},
     "output_type": "execute_result"
    }
   ],
   "source": [
    "user_event_data.count()"
   ]
  },
  {
   "cell_type": "markdown",
   "metadata": {},
   "source": [
    "### Most Visited Pages"
   ]
  },
  {
   "cell_type": "code",
   "execution_count": 7,
   "metadata": {},
   "outputs": [
    {
     "name": "stdout",
     "output_type": "stream",
     "text": [
      "+--------------------+--------+\n",
      "|                page|   count|\n",
      "+--------------------+--------+\n",
      "|            NextSong|20850272|\n",
      "|                Home| 1343102|\n",
      "|           Thumbs Up| 1151465|\n",
      "|     Add to Playlist|  597921|\n",
      "|         Roll Advert|  385212|\n",
      "|          Add Friend|  381664|\n",
      "|               Login|  296350|\n",
      "|              Logout|  296005|\n",
      "|         Thumbs Down|  239212|\n",
      "|           Downgrade|  184240|\n",
      "|                Help|  155100|\n",
      "|            Settings|  147074|\n",
      "|               About|   92759|\n",
      "|             Upgrade|   50507|\n",
      "|       Save Settings|   29516|\n",
      "|               Error|   25962|\n",
      "|      Submit Upgrade|   15135|\n",
      "|    Submit Downgrade|    6494|\n",
      "|              Cancel|    5003|\n",
      "|Cancellation Conf...|    5003|\n",
      "|            Register|     802|\n",
      "| Submit Registration|     401|\n",
      "+--------------------+--------+\n",
      "\n"
     ]
    }
   ],
   "source": [
    "user_event_data.groupBy('page') \\\n",
    "  .count()\\\n",
    "  .sort(desc(\"count\"))\\\n",
    "  .show(25)"
   ]
  },
  {
   "cell_type": "markdown",
   "metadata": {},
   "source": [
    "### User IDs\n",
    "Lets investigate how many users we have in the dataset and if there are any obvious things we need to clean up"
   ]
  },
  {
   "cell_type": "code",
   "execution_count": 8,
   "metadata": {},
   "outputs": [
    {
     "data": {
      "text/plain": [
       "22278"
      ]
     },
     "execution_count": 8,
     "metadata": {},
     "output_type": "execute_result"
    }
   ],
   "source": [
    "user_event_data.select('userId')\\\n",
    "  .dropDuplicates()\\\n",
    "  .count()"
   ]
  },
  {
   "cell_type": "code",
   "execution_count": 9,
   "metadata": {},
   "outputs": [
    {
     "name": "stdout",
     "output_type": "stream",
     "text": [
      "+-------+------+\n",
      "| userId| count|\n",
      "+-------+------+\n",
      "|1261737|778479|\n",
      "|1564221| 13591|\n",
      "|1931933| 12831|\n",
      "|1006695| 12372|\n",
      "|1336969| 11858|\n",
      "+-------+------+\n",
      "only showing top 5 rows\n",
      "\n"
     ]
    }
   ],
   "source": [
    "user_event_data.groupBy('userId') \\\n",
    "  .count()\\\n",
    "  .sort(desc(\"count\"))\\\n",
    "  .show(5)"
   ]
  },
  {
   "cell_type": "code",
   "execution_count": 11,
   "metadata": {},
   "outputs": [],
   "source": [
    "user_event_valid_id = user_event_data.dropna(how = \"any\", subset = [\"userId\", \"sessionId\"])\n",
    "user_event_valid_id = user_event_valid_id.filter(user_event_valid_id[\"userId\"] != \"\")"
   ]
  },
  {
   "cell_type": "markdown",
   "metadata": {},
   "source": [
    "### Churned Users Counts"
   ]
  },
  {
   "cell_type": "code",
   "execution_count": 12,
   "metadata": {},
   "outputs": [
    {
     "name": "stdout",
     "output_type": "stream",
     "text": [
      "+------+-----+\n",
      "|gender|count|\n",
      "+------+-----+\n",
      "|     F| 2347|\n",
      "|     M| 2656|\n",
      "+------+-----+\n",
      "\n"
     ]
    }
   ],
   "source": [
    "user_event_valid_id.filter(user_event_valid_id.page=='Cancellation Confirmation') \\\n",
    "  .groupBy('gender') \\\n",
    "  .count()\\\n",
    "  .show(2)"
   ]
  },
  {
   "cell_type": "markdown",
   "metadata": {},
   "source": [
    "# Create Truth Set\n",
    "Determine the users that are cancelling their services (Churning) and label them as 1 and those that havent cancelled their service as 0"
   ]
  },
  {
   "cell_type": "code",
   "execution_count": 13,
   "metadata": {},
   "outputs": [],
   "source": [
    "labeled_df = user_event_valid_id.withColumn('churned', (when(col('page')== 'Cancellation Confirmation',1)\\\n",
    "                                                            .otherwise(0)))\n",
    "                                            "
   ]
  },
  {
   "cell_type": "code",
   "execution_count": 14,
   "metadata": {},
   "outputs": [],
   "source": [
    "user_labeled_df = labeled_df.groupby('userId')\\\n",
    "                       .agg(_sum('churned')\\\n",
    "                       .alias('churned'))"
   ]
  },
  {
   "cell_type": "code",
   "execution_count": 15,
   "metadata": {},
   "outputs": [
    {
     "name": "stdout",
     "output_type": "stream",
     "text": [
      "+-------+-------+\n",
      "| userId|churned|\n",
      "+-------+-------+\n",
      "|1390009|      1|\n",
      "|1519090|      0|\n",
      "+-------+-------+\n",
      "only showing top 2 rows\n",
      "\n"
     ]
    }
   ],
   "source": [
    "user_labeled_df.show(2)"
   ]
  },
  {
   "cell_type": "code",
   "execution_count": 16,
   "metadata": {},
   "outputs": [
    {
     "name": "stdout",
     "output_type": "stream",
     "text": [
      "+-------+-----+\n",
      "|churned|count|\n",
      "+-------+-----+\n",
      "|      0|17275|\n",
      "|      1| 5003|\n",
      "+-------+-----+\n",
      "\n"
     ]
    }
   ],
   "source": [
    "user_labeled_df.groupBy('churned')\\\n",
    "               .count()\\\n",
    "               .show()"
   ]
  },
  {
   "cell_type": "markdown",
   "metadata": {},
   "source": [
    "Out of our total number of 448 users 349 are subscribers and 99 are no longer subscribers and have churned. This is a bit unbalanced but not as bad as many fraud datasets. What is not ideal for a machine learning algorithm is that despite starting with what seemed to be a resonably large dataset of 543705 rows of logs there are effectively only 448 data points in our model. "
   ]
  },
  {
   "cell_type": "markdown",
   "metadata": {},
   "source": [
    "#### EDA Chart Churn by Gender"
   ]
  },
  {
   "cell_type": "code",
   "execution_count": 17,
   "metadata": {},
   "outputs": [],
   "source": [
    "eda = user_labeled_df.join(user_event_valid_id, on = 'userId')\\\n",
    "                        .select('userId','gender','churned')\\\n",
    "                        .dropDuplicates()\\\n",
    "                        .groupBy('gender','churned')\\\n",
    "                        .count()\\\n",
    "                        .toPandas()"
   ]
  },
  {
   "cell_type": "code",
   "execution_count": null,
   "metadata": {},
   "outputs": [],
   "source": [
    "eda"
   ]
  },
  {
   "cell_type": "code",
   "execution_count": 18,
   "metadata": {},
   "outputs": [
    {
     "data": {
      "image/png": "[encoded data removed]",
      "text/plain": [
       "<Figure size 432x288 with 1 Axes>"
      ]
     },
     "metadata": {
      "needs_background": "light"
     },
     "output_type": "display_data"
    }
   ],
   "source": [
    "N = 2\n",
    "men_count = eda[eda.gender==\"M\"]['count']\n",
    "women_count = eda[eda.gender==\"F\"]['count']\n",
    "\n",
    "total_count = men_count.reset_index(drop = True) + women_count.reset_index(drop = True)\n",
    "\n",
    "\n",
    "ind = np.arange(N) \n",
    "width = 0.35       \n",
    "plt.bar(ind, men_count, width, label='Men')\n",
    "plt.bar(ind + width, women_count, width,\n",
    "    label='Women')\n",
    "\n",
    "plt.ylabel('Scores')\n",
    "plt.xlabel('Churned')\n",
    "plt.title('Churn Count By Gender')\n",
    "\n",
    "plt.xticks(ind + width / 2, ('No', 'Yes'))\n",
    "plt.legend(loc='best')\n",
    "plt.show()"
   ]
  },
  {
   "cell_type": "code",
   "execution_count": 19,
   "metadata": {},
   "outputs": [
    {
     "data": {
      "text/plain": [
       "0        NaN\n",
       "1    10935.0\n",
       "2        NaN\n",
       "Name: count, dtype: float64"
      ]
     },
     "execution_count": 19,
     "metadata": {},
     "output_type": "execute_result"
    }
   ],
   "source": [
    "total_count"
   ]
  },
  {
   "cell_type": "code",
   "execution_count": 20,
   "metadata": {},
   "outputs": [
    {
     "data": {
      "text/plain": [
       "3    8995\n",
       "4    2656\n",
       "Name: count, dtype: int64"
      ]
     },
     "execution_count": 20,
     "metadata": {},
     "output_type": "execute_result"
    }
   ],
   "source": [
    "men_count"
   ]
  },
  {
   "cell_type": "code",
   "execution_count": 21,
   "metadata": {},
   "outputs": [
    {
     "data": {
      "text/plain": [
       "1    8279\n",
       "2    2347\n",
       "Name: count, dtype: int64"
      ]
     },
     "execution_count": 21,
     "metadata": {},
     "output_type": "execute_result"
    }
   ],
   "source": [
    "women_count"
   ]
  },
  {
   "cell_type": "markdown",
   "metadata": {},
   "source": [
    "# Generate User Behavior Features\n",
    "Now that we have the user truth values we need to generate aggregated features about the user behavior that we know before the user decides to churn. We will then use those features to predict if a user will churn based on their behavior. This will allow us to potentially keep more customers on our service and grow revenue and profit for the company."
   ]
  },
  {
   "cell_type": "markdown",
   "metadata": {},
   "source": [
    "## Feature 1 : Count of Thumbs:  up / down / total\n",
    "I think that the more a user gives songs thumbs up the less likely they are to churn and the more they give songs thumbs down the more likely they are to churn"
   ]
  },
  {
   "cell_type": "markdown",
   "metadata": {},
   "source": [
    "### 1.a countThumbsUp\n",
    "a count of the times a user has given a thumbs up"
   ]
  },
  {
   "cell_type": "code",
   "execution_count": 22,
   "metadata": {},
   "outputs": [],
   "source": [
    "# Thumbs Up\n",
    "labeled_df = labeled_df.withColumn('ThumbsUp', (when(col('page')== 'Thumbs Up',1)\\\n",
    "                                                            .otherwise(0)))\n",
    "user_thumbsUp_df = labeled_df.groupby('userId')\\\n",
    "                       .agg(_sum('ThumbsUp')\\\n",
    "                       .alias('countThumbsUp'))"
   ]
  },
  {
   "cell_type": "markdown",
   "metadata": {},
   "source": [
    "##### Feature Summary"
   ]
  },
  {
   "cell_type": "code",
   "execution_count": 23,
   "metadata": {},
   "outputs": [
    {
     "name": "stdout",
     "output_type": "stream",
     "text": [
      "+-------+------------------+\n",
      "|summary|     countThumbsUp|\n",
      "+-------+------------------+\n",
      "|  count|             22278|\n",
      "|   mean|51.686192656432354|\n",
      "| stddev| 64.58884961218529|\n",
      "|    min|                 0|\n",
      "|    max|               836|\n",
      "+-------+------------------+\n",
      "\n"
     ]
    }
   ],
   "source": [
    "user_thumbsUp_df.dropDuplicates()\\\n",
    "                .describe('countThumbsUp')\\\n",
    "                .show()"
   ]
  },
  {
   "cell_type": "code",
   "execution_count": 24,
   "metadata": {},
   "outputs": [
    {
     "name": "stdout",
     "output_type": "stream",
     "text": [
      "+-------+-------+-------------+\n",
      "| userId|churned|countThumbsUp|\n",
      "+-------+-------+-------------+\n",
      "|1000280|      1|           53|\n",
      "|1002185|      0|           92|\n",
      "|1017805|      0|            7|\n",
      "|1030587|      0|           66|\n",
      "|1033297|      0|           10|\n",
      "+-------+-------+-------------+\n",
      "only showing top 5 rows\n",
      "\n"
     ]
    }
   ],
   "source": [
    "# Join data back to our user dataframe\n",
    "user_labeled_df = user_labeled_df.join(user_thumbsUp_df, 'userId')\n",
    "user_labeled_df.show(5)"
   ]
  },
  {
   "cell_type": "markdown",
   "metadata": {},
   "source": [
    "#### EDA of Count of Thumbs Up"
   ]
  },
  {
   "cell_type": "code",
   "execution_count": 25,
   "metadata": {},
   "outputs": [
    {
     "data": {
      "image/png": "[encoded data removed]",
      "text/plain": [
       "<Figure size 432x288 with 1 Axes>"
      ]
     },
     "metadata": {
      "needs_background": "light"
     },
     "output_type": "display_data"
    },
    {
     "name": "stdout",
     "output_type": "stream",
     "text": [
      "Median for Active subscribers: 31.0\n",
      "Median for Churned subscribers: 25.0\n"
     ]
    }
   ],
   "source": [
    "eda = user_labeled_df.toPandas()\n",
    "churn = eda[eda.churned==1]\n",
    "noChurn = eda[eda.churned==0]\n",
    "\n",
    "plot_dict = {'Active': noChurn.countThumbsUp.values, 'Churned': churn.countThumbsUp.values}\n",
    "plt.boxplot(plot_dict.values())\n",
    "\n",
    "plt.title(\"EDA for countThumbsUp\")\n",
    "plt.xticks([1,2],plot_dict.keys())\n",
    "plt.ylabel(\"Count of Thumbs Up Ratings\")\n",
    "plt.show()\n",
    "print(\"Median for Active subscribers:\",round(np.median(noChurn.countThumbsUp.values),3))\n",
    "print(\"Median for Churned subscribers:\",round(np.median(churn.countThumbsUp.values),3))"
   ]
  },
  {
   "cell_type": "markdown",
   "metadata": {},
   "source": [
    "### 1.b countThumbsDown\n",
    "a count of the times a user has given a thumbs down"
   ]
  },
  {
   "cell_type": "code",
   "execution_count": 26,
   "metadata": {},
   "outputs": [],
   "source": [
    "# Thumbs Down\n",
    "labeled_df = labeled_df.withColumn('ThumbsDown', (when(col('page')== 'Thumbs Down',1)\\\n",
    "                                                            .otherwise(0)))\n",
    "user_thumbsDown_df = labeled_df.groupby('userId')\\\n",
    "                       .agg(_sum('ThumbsDown')\\\n",
    "                       .alias('countThumbsDown'))"
   ]
  },
  {
   "cell_type": "markdown",
   "metadata": {},
   "source": [
    "##### Feature Summary"
   ]
  },
  {
   "cell_type": "code",
   "execution_count": 27,
   "metadata": {},
   "outputs": [
    {
     "name": "stdout",
     "output_type": "stream",
     "text": [
      "+-------+------------------+\n",
      "|summary|   countThumbsDown|\n",
      "+-------+------------------+\n",
      "|  count|             22278|\n",
      "|   mean| 10.73758865248227|\n",
      "| stddev|12.615942418588652|\n",
      "|    min|                 0|\n",
      "|    max|               154|\n",
      "+-------+------------------+\n",
      "\n"
     ]
    }
   ],
   "source": [
    "user_thumbsDown_df.dropDuplicates()\\\n",
    "                .describe('countThumbsDown')\\\n",
    "                .show()"
   ]
  },
  {
   "cell_type": "code",
   "execution_count": 28,
   "metadata": {},
   "outputs": [
    {
     "name": "stdout",
     "output_type": "stream",
     "text": [
      "+-------+-------+-------------+---------------+\n",
      "| userId|churned|countThumbsUp|countThumbsDown|\n",
      "+-------+-------+-------------+---------------+\n",
      "|1000280|      1|           53|             33|\n",
      "|1002185|      0|           92|             14|\n",
      "|1017805|      0|            7|              4|\n",
      "|1030587|      0|           66|             16|\n",
      "|1033297|      0|           10|              3|\n",
      "+-------+-------+-------------+---------------+\n",
      "only showing top 5 rows\n",
      "\n"
     ]
    }
   ],
   "source": [
    "# Join data back to our user dataframe\n",
    "user_labeled_df = user_labeled_df.join(user_thumbsDown_df, 'userId')\n",
    "user_labeled_df.show(5)"
   ]
  },
  {
   "cell_type": "markdown",
   "metadata": {},
   "source": [
    "#### EDA of Count of Thumbs Down"
   ]
  },
  {
   "cell_type": "code",
   "execution_count": 29,
   "metadata": {},
   "outputs": [
    {
     "data": {
      "image/png": "[encoded data removed]",
      "text/plain": [
       "<Figure size 432x288 with 1 Axes>"
      ]
     },
     "metadata": {
      "needs_background": "light"
     },
     "output_type": "display_data"
    },
    {
     "name": "stdout",
     "output_type": "stream",
     "text": [
      "Median for Active subscribers: 6.0\n",
      "Median for Churned subscribers: 7.0\n"
     ]
    }
   ],
   "source": [
    "eda = user_labeled_df.toPandas()\n",
    "churn = eda[eda.churned==1]\n",
    "noChurn = eda[eda.churned==0]\n",
    "\n",
    "plot_dict = {'Active': noChurn.countThumbsDown.values, 'Churned': churn.countThumbsDown.values}\n",
    "plt.boxplot(plot_dict.values())\n",
    "\n",
    "plt.title(\"EDA for countThumbsDown\")\n",
    "plt.xticks([1,2],plot_dict.keys())\n",
    "plt.ylabel(\"Count of Thumbs Down Ratings\")\n",
    "plt.show()\n",
    "print(\"Median for Active subscribers:\",round(np.median(noChurn.countThumbsDown.values),3))\n",
    "print(\"Median for Churned subscribers:\",round(np.median(churn.countThumbsDown.values),3))"
   ]
  },
  {
   "cell_type": "markdown",
   "metadata": {},
   "source": [
    "#### EDA Chart Churn and Count of Thumbs Up / Thumbs Down"
   ]
  },
  {
   "cell_type": "code",
   "execution_count": 30,
   "metadata": {},
   "outputs": [
    {
     "data": {
      "image/png": "[encoded data removed]",
      "text/plain": [
       "<Figure size 432x288 with 1 Axes>"
      ]
     },
     "metadata": {
      "needs_background": "light"
     },
     "output_type": "display_data"
    }
   ],
   "source": [
    "eda = user_labeled_df.toPandas()\n",
    "churn = eda[eda.churned==1]\n",
    "noChurn = eda[eda.churned==0]\n",
    "\n",
    "plt.scatter(noChurn.countThumbsUp,noChurn.countThumbsDown,color='gray',label='Active')\n",
    "plt.scatter(churn.countThumbsUp,churn.countThumbsDown,color='red',label='Churned')\n",
    "\n",
    "plt.ylabel('Thumbs Down')\n",
    "plt.xlabel('Thumbs Up')\n",
    "plt.title('User Song Rating vs Churn')\n",
    "plt.legend(loc='lower right')\n",
    "plt.show()"
   ]
  },
  {
   "cell_type": "markdown",
   "metadata": {},
   "source": [
    "### 1.c Total Thumbs\n",
    "Another easy feature to add is total between thumbs up and thumbs down. This can allow us to create percentage based features for users that are"
   ]
  },
  {
   "cell_type": "code",
   "execution_count": 31,
   "metadata": {},
   "outputs": [
    {
     "name": "stdout",
     "output_type": "stream",
     "text": [
      "+-------+-------+-------------+---------------+-----------+\n",
      "| userId|churned|countThumbsUp|countThumbsDown|totalThumbs|\n",
      "+-------+-------+-------------+---------------+-----------+\n",
      "|1000280|      1|           53|             33|         86|\n",
      "|1002185|      0|           92|             14|        106|\n",
      "|1017805|      0|            7|              4|         11|\n",
      "|1030587|      0|           66|             16|         82|\n",
      "|1033297|      0|           10|              3|         13|\n",
      "+-------+-------+-------------+---------------+-----------+\n",
      "only showing top 5 rows\n",
      "\n"
     ]
    }
   ],
   "source": [
    "user_labeled_df = user_labeled_df.withColumn('totalThumbs',user_labeled_df.countThumbsUp + user_labeled_df.countThumbsDown)\n",
    "user_labeled_df.show(5)"
   ]
  },
  {
   "cell_type": "markdown",
   "metadata": {},
   "source": [
    "##### Feature Summary"
   ]
  },
  {
   "cell_type": "code",
   "execution_count": 32,
   "metadata": {},
   "outputs": [
    {
     "name": "stdout",
     "output_type": "stream",
     "text": [
      "+-------+-----------------+\n",
      "|summary|      totalThumbs|\n",
      "+-------+-----------------+\n",
      "|  count|            22278|\n",
      "|   mean|62.42378130891463|\n",
      "| stddev| 75.3224106826546|\n",
      "|    min|                0|\n",
      "|    max|              926|\n",
      "+-------+-----------------+\n",
      "\n"
     ]
    }
   ],
   "source": [
    "user_labeled_df.describe('totalThumbs')\\\n",
    "               .show()"
   ]
  },
  {
   "cell_type": "markdown",
   "metadata": {},
   "source": [
    "#### EDA Chart Churn and Count of Logins"
   ]
  },
  {
   "cell_type": "code",
   "execution_count": 33,
   "metadata": {},
   "outputs": [
    {
     "data": {
      "image/png": "[encoded data removed]",
      "text/plain": [
       "<Figure size 432x288 with 1 Axes>"
      ]
     },
     "metadata": {
      "needs_background": "light"
     },
     "output_type": "display_data"
    },
    {
     "name": "stdout",
     "output_type": "stream",
     "text": [
      "Median for Active subscribers: 38.0\n",
      "Median for Churned subscribers: 33.0\n"
     ]
    }
   ],
   "source": [
    "eda = user_labeled_df.toPandas()\n",
    "churn = eda[eda.churned==1]\n",
    "noChurn = eda[eda.churned==0]\n",
    "\n",
    "plot_dict = {'Active': noChurn.totalThumbs.values, 'Churned': churn.totalThumbs.values}\n",
    "plt.boxplot(plot_dict.values())\n",
    "\n",
    "plt.title(\"EDA for totalThumbs\")\n",
    "plt.xticks([1,2],plot_dict.keys())\n",
    "plt.ylabel(\"Count of Total Song Ratings\")\n",
    "plt.show()\n",
    "print(\"Median for Active subscribers:\",round(np.median(noChurn.totalThumbs.values),3))\n",
    "print(\"Median for Churned subscribers:\",round(np.median(churn.totalThumbs.values),3))"
   ]
  },
  {
   "cell_type": "markdown",
   "metadata": {},
   "source": [
    "## Feature 2 : Number of Logins\n",
    "I assume that the more a user engages with the service the more likely they are to not churn"
   ]
  },
  {
   "cell_type": "code",
   "execution_count": 34,
   "metadata": {},
   "outputs": [],
   "source": [
    "\n",
    "num_logins_df = user_event_valid_id\\\n",
    "                   .select('userId','sessionId')\\\n",
    "                   .dropDuplicates()\\\n",
    "                   .groupBy('userId')\\\n",
    "                   .count()\\\n",
    "                   .withColumnRenamed(\"count\",\"countLogins\")"
   ]
  },
  {
   "cell_type": "markdown",
   "metadata": {},
   "source": [
    "##### Feature Summary"
   ]
  },
  {
   "cell_type": "code",
   "execution_count": 35,
   "metadata": {},
   "outputs": [
    {
     "name": "stdout",
     "output_type": "stream",
     "text": [
      "+-------+------------------+\n",
      "|summary|       countLogins|\n",
      "+-------+------------------+\n",
      "|  count|             22278|\n",
      "|   mean|20.431726366819284|\n",
      "| stddev|1059.3297847404108|\n",
      "|    min|                 1|\n",
      "|    max|            158115|\n",
      "+-------+------------------+\n",
      "\n"
     ]
    }
   ],
   "source": [
    "num_logins_df.describe('countLogins')\\\n",
    "             .show()"
   ]
  },
  {
   "cell_type": "code",
   "execution_count": 36,
   "metadata": {},
   "outputs": [
    {
     "name": "stdout",
     "output_type": "stream",
     "text": [
      "+-------+-------+-------------+---------------+-----------+-----------+\n",
      "| userId|churned|countThumbsUp|countThumbsDown|totalThumbs|countLogins|\n",
      "+-------+-------+-------------+---------------+-----------+-----------+\n",
      "|1000280|      1|           53|             33|         86|         22|\n",
      "|1002185|      0|           92|             14|        106|         17|\n",
      "|1017805|      0|            7|              4|         11|          3|\n",
      "|1030587|      0|           66|             16|         82|         11|\n",
      "|1033297|      0|           10|              3|         13|          5|\n",
      "+-------+-------+-------------+---------------+-----------+-----------+\n",
      "only showing top 5 rows\n",
      "\n"
     ]
    }
   ],
   "source": [
    "# Join data back to our user dataframe\n",
    "user_labeled_df = user_labeled_df.join(num_logins_df, 'userId')\n",
    "user_labeled_df.show(5)"
   ]
  },
  {
   "cell_type": "markdown",
   "metadata": {},
   "source": [
    "#### EDA Chart Churn and Count of Total Ratings"
   ]
  },
  {
   "cell_type": "code",
   "execution_count": 37,
   "metadata": {},
   "outputs": [
    {
     "data": {
      "image/png": "[encoded data removed]",
      "text/plain": [
       "<Figure size 432x288 with 1 Axes>"
      ]
     },
     "metadata": {
      "needs_background": "light"
     },
     "output_type": "display_data"
    },
    {
     "name": "stdout",
     "output_type": "stream",
     "text": [
      "Median for Active subscribers: 10.0\n",
      "Median for Churned subscribers: 8.0\n"
     ]
    }
   ],
   "source": [
    "eda = user_labeled_df.toPandas()\n",
    "churn = eda[eda.churned==1]\n",
    "noChurn = eda[eda.churned==0]\n",
    "\n",
    "plot_dict = {'Active': noChurn.countLogins.values, 'Churned': churn.countLogins.values}\n",
    "plt.boxplot(plot_dict.values())\n",
    "\n",
    "plt.title(\"EDA for countLogins\")\n",
    "plt.xticks([1,2],plot_dict.keys())\n",
    "plt.ylabel(\"Count of Logins\")\n",
    "plt.show()\n",
    "print(\"Median for Active subscribers:\",round(np.median(noChurn.countLogins.values),3))\n",
    "print(\"Median for Churned subscribers:\",round(np.median(churn.countLogins.values),3))"
   ]
  },
  {
   "cell_type": "markdown",
   "metadata": {},
   "source": [
    "## Feature 3 : Number of Friends\n",
    "I assume that the more friends a user has the more likely they will stay on our service. "
   ]
  },
  {
   "cell_type": "code",
   "execution_count": 38,
   "metadata": {},
   "outputs": [],
   "source": [
    "num_friends_df = user_event_valid_id\\\n",
    "                   .filter(user_event_valid_id.page==\"Add Friend\")\\\n",
    "                   .groupBy('userId')\\\n",
    "                   .count()\\\n",
    "                   .withColumnRenamed(\"count\",\"countFriends\")"
   ]
  },
  {
   "cell_type": "markdown",
   "metadata": {},
   "source": [
    "##### Feature Summary"
   ]
  },
  {
   "cell_type": "code",
   "execution_count": 39,
   "metadata": {},
   "outputs": [
    {
     "name": "stdout",
     "output_type": "stream",
     "text": [
      "+-------+-----------------+\n",
      "|summary|     countFriends|\n",
      "+-------+-----------------+\n",
      "|  count|            20305|\n",
      "|   mean|18.79655257325782|\n",
      "| stddev|20.74770411629507|\n",
      "|    min|                1|\n",
      "|    max|              222|\n",
      "+-------+-----------------+\n",
      "\n"
     ]
    }
   ],
   "source": [
    "num_friends_df.describe('countFriends')\\\n",
    "              .show()"
   ]
  },
  {
   "cell_type": "code",
   "execution_count": 40,
   "metadata": {},
   "outputs": [
    {
     "name": "stdout",
     "output_type": "stream",
     "text": [
      "+-------+-------+-------------+---------------+-----------+-----------+------------+\n",
      "| userId|churned|countThumbsUp|countThumbsDown|totalThumbs|countLogins|countFriends|\n",
      "+-------+-------+-------------+---------------+-----------+-----------+------------+\n",
      "|1000280|      1|           53|             33|         86|         22|          14|\n",
      "|1002185|      0|           92|             14|        106|         17|          25|\n",
      "|1017805|      0|            7|              4|         11|          3|          13|\n",
      "|1030587|      0|           66|             16|         82|         11|          23|\n",
      "|1033297|      0|           10|              3|         13|          5|           4|\n",
      "+-------+-------+-------------+---------------+-----------+-----------+------------+\n",
      "only showing top 5 rows\n",
      "\n"
     ]
    }
   ],
   "source": [
    "# Join data back to our user dataframe\n",
    "user_labeled_df = user_labeled_df.join(num_friends_df, 'userId', how='left').fillna(0)\n",
    "user_labeled_df.show(5)"
   ]
  },
  {
   "cell_type": "markdown",
   "metadata": {},
   "source": [
    "#### EDA Chart Churn and Number of Friends"
   ]
  },
  {
   "cell_type": "code",
   "execution_count": 41,
   "metadata": {},
   "outputs": [
    {
     "data": {
      "image/png": "[encoded data removed]",
      "text/plain": [
       "<Figure size 432x288 with 1 Axes>"
      ]
     },
     "metadata": {
      "needs_background": "light"
     },
     "output_type": "display_data"
    },
    {
     "name": "stdout",
     "output_type": "stream",
     "text": [
      "Median Active subscribers: 10.0\n",
      "Median Churned subscribers: 9.0\n"
     ]
    }
   ],
   "source": [
    "eda = user_labeled_df.toPandas()\n",
    "churn = eda[eda.churned==1]\n",
    "noChurn = eda[eda.churned==0]\n",
    "\n",
    "plot_dict = {'Active': noChurn.countFriends.values, 'Churned': churn.countFriends.values}\n",
    "plt.boxplot(plot_dict.values())\n",
    "\n",
    "plt.title(\"EDA for countFriends\")\n",
    "plt.xticks([1,2],plot_dict.keys())\n",
    "plt.ylabel(\"Number of Friends\")\n",
    "plt.show()\n",
    "print(\"Median Active subscribers:\",round(np.median(noChurn.countFriends.values),3))\n",
    "print(\"Median Churned subscribers:\",round(np.median(churn.countFriends.values),3))"
   ]
  },
  {
   "cell_type": "markdown",
   "metadata": {},
   "source": [
    "## Feature 4 : Number of Errors\n",
    "I assume that the more errors a user faces especially compared to the number of songs they listen to the more likely they are to churn"
   ]
  },
  {
   "cell_type": "code",
   "execution_count": 42,
   "metadata": {},
   "outputs": [],
   "source": [
    "num_errors_df = user_event_valid_id\\\n",
    "                   .filter(user_event_valid_id.page==\"Error\")\\\n",
    "                   .groupBy('userId')\\\n",
    "                   .count()\\\n",
    "                   .withColumnRenamed(\"count\",\"countErrors\")"
   ]
  },
  {
   "cell_type": "markdown",
   "metadata": {},
   "source": [
    "##### Feature Summary"
   ]
  },
  {
   "cell_type": "code",
   "execution_count": 43,
   "metadata": {},
   "outputs": [
    {
     "name": "stdout",
     "output_type": "stream",
     "text": [
      "+-------+------------------+\n",
      "|summary|       countErrors|\n",
      "+-------+------------------+\n",
      "|  count|             11273|\n",
      "|   mean|2.3030249268162866|\n",
      "| stddev| 8.761906969237886|\n",
      "|    min|                 1|\n",
      "|    max|               914|\n",
      "+-------+------------------+\n",
      "\n"
     ]
    }
   ],
   "source": [
    "num_errors_df.describe('countErrors')\\\n",
    "              .show()"
   ]
  },
  {
   "cell_type": "code",
   "execution_count": 44,
   "metadata": {},
   "outputs": [
    {
     "name": "stdout",
     "output_type": "stream",
     "text": [
      "+-------+-------+-------------+---------------+-----------+-----------+------------+-----------+\n",
      "| userId|churned|countThumbsUp|countThumbsDown|totalThumbs|countLogins|countFriends|countErrors|\n",
      "+-------+-------+-------------+---------------+-----------+-----------+------------+-----------+\n",
      "|1000280|      1|           53|             33|         86|         22|          14|          3|\n",
      "|1002185|      0|           92|             14|        106|         17|          25|          2|\n",
      "|1017805|      0|            7|              4|         11|          3|          13|          0|\n",
      "|1030587|      0|           66|             16|         82|         11|          23|          1|\n",
      "|1033297|      0|           10|              3|         13|          5|           4|          0|\n",
      "+-------+-------+-------------+---------------+-----------+-----------+------------+-----------+\n",
      "only showing top 5 rows\n",
      "\n"
     ]
    }
   ],
   "source": [
    "# Join data back to our user dataframe\n",
    "user_labeled_df = user_labeled_df.join(num_errors_df, 'userId', how='left').fillna(0)\n",
    "user_labeled_df.show(5)"
   ]
  },
  {
   "cell_type": "markdown",
   "metadata": {},
   "source": [
    "#### EDA Chart Churn and Count of Errors"
   ]
  },
  {
   "cell_type": "code",
   "execution_count": 45,
   "metadata": {},
   "outputs": [
    {
     "data": {
      "image/png": "[encoded data removed]",
      "text/plain": [
       "<Figure size 432x288 with 1 Axes>"
      ]
     },
     "metadata": {
      "needs_background": "light"
     },
     "output_type": "display_data"
    },
    {
     "name": "stdout",
     "output_type": "stream",
     "text": [
      "Median for Active subscribers: 1.0\n",
      "Median for Churned subscribers: 0.0\n"
     ]
    }
   ],
   "source": [
    "eda = user_labeled_df.toPandas()\n",
    "churn = eda[eda.churned==1]\n",
    "noChurn = eda[eda.churned==0]\n",
    "\n",
    "plot_dict = {'Active': noChurn.countErrors.values, 'Churned': churn.countErrors.values}\n",
    "plt.boxplot(plot_dict.values())\n",
    "\n",
    "plt.title(\"EDA for countErrors\")\n",
    "plt.xticks([1,2],plot_dict.keys())\n",
    "plt.ylabel(\"Count of Errors\")\n",
    "plt.show()\n",
    "print(\"Median for Active subscribers:\",round(np.median(noChurn.countErrors.values),3))\n",
    "print(\"Median for Churned subscribers:\",round(np.median(churn.countErrors.values),3))"
   ]
  },
  {
   "cell_type": "markdown",
   "metadata": {},
   "source": [
    "## Feature 5 : Number of visits to the help page\n",
    "I assume that the more visits to the help page the more likely a user is to be having trouble with the service and is thus more likely to leave"
   ]
  },
  {
   "cell_type": "code",
   "execution_count": 46,
   "metadata": {},
   "outputs": [],
   "source": [
    "num_help_df = user_event_valid_id\\\n",
    "                   .filter(user_event_valid_id.page==\"Help\")\\\n",
    "                   .groupBy('userId')\\\n",
    "                   .count()\\\n",
    "                   .withColumnRenamed(\"count\",\"countHelp\")"
   ]
  },
  {
   "cell_type": "markdown",
   "metadata": {},
   "source": [
    "##### Feature Summary"
   ]
  },
  {
   "cell_type": "code",
   "execution_count": 47,
   "metadata": {},
   "outputs": [
    {
     "name": "stdout",
     "output_type": "stream",
     "text": [
      "+-------+-----------------+\n",
      "|summary|        countHelp|\n",
      "+-------+-----------------+\n",
      "|  count|            18244|\n",
      "|   mean|8.501425126068845|\n",
      "| stddev|190.0036248544131|\n",
      "|    min|                1|\n",
      "|    max|            25652|\n",
      "+-------+-----------------+\n",
      "\n"
     ]
    }
   ],
   "source": [
    "num_help_df.describe('countHelp')\\\n",
    "              .show()"
   ]
  },
  {
   "cell_type": "code",
   "execution_count": 48,
   "metadata": {},
   "outputs": [
    {
     "name": "stdout",
     "output_type": "stream",
     "text": [
      "+-------+-------+-------------+---------------+-----------+-----------+------------+-----------+---------+\n",
      "| userId|churned|countThumbsUp|countThumbsDown|totalThumbs|countLogins|countFriends|countErrors|countHelp|\n",
      "+-------+-------+-------------+---------------+-----------+-----------+------------+-----------+---------+\n",
      "|1000280|      1|           53|             33|         86|         22|          14|          3|        8|\n",
      "|1002185|      0|           92|             14|        106|         17|          25|          2|       12|\n",
      "|1017805|      0|            7|              4|         11|          3|          13|          0|        1|\n",
      "|1030587|      0|           66|             16|         82|         11|          23|          1|       10|\n",
      "|1033297|      0|           10|              3|         13|          5|           4|          0|        2|\n",
      "+-------+-------+-------------+---------------+-----------+-----------+------------+-----------+---------+\n",
      "only showing top 5 rows\n",
      "\n"
     ]
    }
   ],
   "source": [
    "# Join data back to our user dataframe\n",
    "user_labeled_df = user_labeled_df.join(num_help_df, 'userId', how='left').fillna(0)\n",
    "user_labeled_df.show(5)"
   ]
  },
  {
   "cell_type": "markdown",
   "metadata": {},
   "source": [
    "#### EDA Chart Churn and Count of Help Page Visits"
   ]
  },
  {
   "cell_type": "code",
   "execution_count": 49,
   "metadata": {},
   "outputs": [
    {
     "data": {
      "image/png": "[encoded data removed]",
      "text/plain": [
       "<Figure size 432x288 with 1 Axes>"
      ]
     },
     "metadata": {
      "needs_background": "light"
     },
     "output_type": "display_data"
    },
    {
     "name": "stdout",
     "output_type": "stream",
     "text": [
      "Median for Active subscribers: 3.0\n",
      "Median for Churned subscribers: 3.0\n"
     ]
    }
   ],
   "source": [
    "eda = user_labeled_df.toPandas()\n",
    "churn = eda[eda.churned==1]\n",
    "noChurn = eda[eda.churned==0]\n",
    "\n",
    "plot_dict = {'Active': noChurn.countHelp.values, 'Churned': churn.countHelp.values}\n",
    "plt.boxplot(plot_dict.values())\n",
    "\n",
    "plt.title(\"EDA for countHelp\")\n",
    "plt.xticks([1,2],plot_dict.keys())\n",
    "plt.ylabel(\"Count of Help Page Visits\")\n",
    "plt.show()\n",
    "print(\"Median for Active subscribers:\",round(np.median(noChurn.countHelp.values),3))\n",
    "print(\"Median for Churned subscribers:\",round(np.median(churn.countHelp.values),3))"
   ]
  },
  {
   "cell_type": "markdown",
   "metadata": {},
   "source": [
    "## Feature 6 : Number of Songs\n",
    "If a user listens to a lot of songs they are likely to be engaged and probably enjoy using the service"
   ]
  },
  {
   "cell_type": "code",
   "execution_count": 50,
   "metadata": {},
   "outputs": [],
   "source": [
    "num_songs_df = user_event_valid_id\\\n",
    "                   .select('userId','song')\\\n",
    "                   .groupBy('userId')\\\n",
    "                   .count()\\\n",
    "                   .withColumnRenamed(\"count\",\"countSong\")"
   ]
  },
  {
   "cell_type": "markdown",
   "metadata": {},
   "source": [
    "#### Feature Summary"
   ]
  },
  {
   "cell_type": "code",
   "execution_count": 51,
   "metadata": {},
   "outputs": [
    {
     "name": "stdout",
     "output_type": "stream",
     "text": [
      "+-------+------------------+\n",
      "|summary|         countSong|\n",
      "+-------+------------------+\n",
      "|  count|             22278|\n",
      "|   mean|1178.7054044348686|\n",
      "| stddev| 5372.959939882274|\n",
      "|    min|                 1|\n",
      "|    max|            778479|\n",
      "+-------+------------------+\n",
      "\n"
     ]
    }
   ],
   "source": [
    "num_songs_df.describe('countSong')\\\n",
    "              .show()"
   ]
  },
  {
   "cell_type": "code",
   "execution_count": 52,
   "metadata": {},
   "outputs": [],
   "source": [
    "# Join data back to our user dataframe\n",
    "user_labeled_df = user_labeled_df.join(num_songs_df, 'userId')"
   ]
  },
  {
   "cell_type": "markdown",
   "metadata": {},
   "source": [
    "#### EDA Chart Churn and Count of Songs A User Has Listened To"
   ]
  },
  {
   "cell_type": "code",
   "execution_count": 53,
   "metadata": {},
   "outputs": [
    {
     "data": {
      "image/png": "[encoded data removed]",
      "text/plain": [
       "<Figure size 432x288 with 1 Axes>"
      ]
     },
     "metadata": {
      "needs_background": "light"
     },
     "output_type": "display_data"
    },
    {
     "name": "stdout",
     "output_type": "stream",
     "text": [
      "Median for Active subscribers: 702.0\n",
      "Median for Churned subscribers: 646.0\n"
     ]
    }
   ],
   "source": [
    "eda = user_labeled_df.toPandas()\n",
    "churn = eda[eda.churned==1]\n",
    "noChurn = eda[eda.churned==0]\n",
    "\n",
    "plot_dict = {'Active': noChurn.countSong.values, 'Churned': churn.countSong.values}\n",
    "plt.boxplot(plot_dict.values())\n",
    "\n",
    "plt.title(\"EDA for countSong\")\n",
    "plt.xticks([1,2],plot_dict.keys())\n",
    "plt.ylabel(\"Count of Songs Listened To\")\n",
    "plt.show()\n",
    "print(\"Median for Active subscribers:\",round(np.median(noChurn.countSong.values),3))\n",
    "print(\"Median for Churned subscribers:\",round(np.median(churn.countSong.values),3))"
   ]
  },
  {
   "cell_type": "markdown",
   "metadata": {},
   "source": [
    "## Feature 7 : Percent of Sessions Paid vs Free\n"
   ]
  },
  {
   "cell_type": "code",
   "execution_count": 54,
   "metadata": {},
   "outputs": [],
   "source": [
    "mean_level_df = user_event_valid_id\\\n",
    "                   .select('userId','level')\\\n",
    "                   .withColumn('levelBinary', (when(col('level')== 'free',0)\\\n",
    "                                                            .otherwise(1)))\\\n",
    "                   .groupBy('userId')\\\n",
    "                   .agg(avg('levelBinary')\\\n",
    "                       .alias('meanLevel'))"
   ]
  },
  {
   "cell_type": "markdown",
   "metadata": {},
   "source": [
    "#### Feature Summary"
   ]
  },
  {
   "cell_type": "code",
   "execution_count": 55,
   "metadata": {},
   "outputs": [
    {
     "name": "stdout",
     "output_type": "stream",
     "text": [
      "+-------+-------------------+\n",
      "|summary|          meanLevel|\n",
      "+-------+-------------------+\n",
      "|  count|              22278|\n",
      "|   mean| 0.5692392364784483|\n",
      "| stddev|0.40865613731057543|\n",
      "|    min|                0.0|\n",
      "|    max|                1.0|\n",
      "+-------+-------------------+\n",
      "\n"
     ]
    }
   ],
   "source": [
    "mean_level_df.describe('meanLevel')\\\n",
    "              .show()"
   ]
  },
  {
   "cell_type": "code",
   "execution_count": 56,
   "metadata": {},
   "outputs": [],
   "source": [
    "# Join data back to our user dataframe\n",
    "user_labeled_df = user_labeled_df.join(mean_level_df, 'userId')"
   ]
  },
  {
   "cell_type": "markdown",
   "metadata": {},
   "source": [
    "#### EDA Chart Churn and Percent of Time on Paid vs Free Subscription"
   ]
  },
  {
   "cell_type": "code",
   "execution_count": 57,
   "metadata": {},
   "outputs": [
    {
     "data": {
      "image/png": "[encoded data removed]",
      "text/plain": [
       "<Figure size 432x288 with 1 Axes>"
      ]
     },
     "metadata": {
      "needs_background": "light"
     },
     "output_type": "display_data"
    },
    {
     "name": "stdout",
     "output_type": "stream",
     "text": [
      "Median for Active subscribers: 0.74\n",
      "Median for Churned subscribers: 0.74\n"
     ]
    }
   ],
   "source": [
    "eda = user_labeled_df.toPandas()\n",
    "churn = eda[eda.churned==1]\n",
    "noChurn = eda[eda.churned==0]\n",
    "\n",
    "plot_dict = {'Active': noChurn.meanLevel.values, 'Churned': churn.meanLevel.values}\n",
    "plt.boxplot(plot_dict.values())\n",
    "\n",
    "plt.title(\"EDA for meanLevel\")\n",
    "plt.xticks([1,2],plot_dict.keys())\n",
    "plt.ylabel(\"Percentage of Time Paid vs Free\")\n",
    "plt.show()\n",
    "print(\"Median for Active subscribers:\",round(np.median(noChurn.meanLevel.values),3))\n",
    "print(\"Median for Churned subscribers:\",round(np.median(churn.meanLevel.values),3))"
   ]
  },
  {
   "cell_type": "code",
   "execution_count": 58,
   "metadata": {},
   "outputs": [
    {
     "data": {
      "text/plain": [
       "22278"
      ]
     },
     "execution_count": 58,
     "metadata": {},
     "output_type": "execute_result"
    }
   ],
   "source": [
    "user_labeled_df.count()"
   ]
  },
  {
   "cell_type": "markdown",
   "metadata": {},
   "source": [
    "## Interaction Features\n",
    "The way features interact with eachother may be useful like the number of errors in a session or the percentage of thumbs up vs thumbs down a user gives to songs."
   ]
  },
  {
   "cell_type": "code",
   "execution_count": 59,
   "metadata": {},
   "outputs": [],
   "source": [
    "user_labeled_df = user_labeled_df.withColumn('percThumbsUp',\\\n",
    "                                             user_labeled_df.countThumbsUp / user_labeled_df.totalThumbs)\\\n",
    "                                 .fillna(0)"
   ]
  },
  {
   "cell_type": "markdown",
   "metadata": {},
   "source": [
    "#### EDA Chart Churn and Percent of Ratings that are Thumbs Up"
   ]
  },
  {
   "cell_type": "code",
   "execution_count": 60,
   "metadata": {},
   "outputs": [
    {
     "data": {
      "image/png": "[encoded data removed]",
      "text/plain": [
       "<Figure size 432x288 with 1 Axes>"
      ]
     },
     "metadata": {
      "needs_background": "light"
     },
     "output_type": "display_data"
    },
    {
     "name": "stdout",
     "output_type": "stream",
     "text": [
      "Median for Active subscribers: 0.836\n",
      "Median for Churned subscribers: 0.804\n"
     ]
    }
   ],
   "source": [
    "eda = user_labeled_df.toPandas()\n",
    "churn = eda[eda.churned==1]\n",
    "noChurn = eda[eda.churned==0]\n",
    "\n",
    "plot_dict = {'Active': noChurn.percThumbsUp.values, 'Churned': churn.percThumbsUp.values}\n",
    "plt.boxplot(plot_dict.values())\n",
    "\n",
    "plt.title(\"EDA for percThumbsUp\")\n",
    "plt.xticks([1,2],plot_dict.keys())\n",
    "plt.ylabel(\"Percentage of Ratings Thumbs Up\")\n",
    "plt.show()\n",
    "print(\"Median for Active subscribers:\",round(np.median(noChurn.percThumbsUp.values),3))\n",
    "print(\"Median for Churned subscribers:\",round(np.median(churn.percThumbsUp.values),3))"
   ]
  },
  {
   "cell_type": "code",
   "execution_count": 61,
   "metadata": {},
   "outputs": [],
   "source": [
    "user_labeled_df = user_labeled_df.withColumn('errorsPerLogin',\\\n",
    "                                             user_labeled_df.countErrors / user_labeled_df.countLogins)"
   ]
  },
  {
   "cell_type": "markdown",
   "metadata": {},
   "source": [
    "#### EDA Chart Churn and Errors per Login"
   ]
  },
  {
   "cell_type": "code",
   "execution_count": 62,
   "metadata": {},
   "outputs": [
    {
     "data": {
      "image/png": "[encoded data removed]",
      "text/plain": [
       "<Figure size 432x288 with 1 Axes>"
      ]
     },
     "metadata": {
      "needs_background": "light"
     },
     "output_type": "display_data"
    },
    {
     "name": "stdout",
     "output_type": "stream",
     "text": [
      "Median for Active subscribers: 0.031\n",
      "Median for Churned subscribers: 0.0\n"
     ]
    }
   ],
   "source": [
    "eda = user_labeled_df.toPandas()\n",
    "churn = eda[eda.churned==1]\n",
    "noChurn = eda[eda.churned==0]\n",
    "\n",
    "plot_dict = {'Active': noChurn.errorsPerLogin.values, 'Churned': churn.errorsPerLogin.values}\n",
    "plt.boxplot(plot_dict.values())\n",
    "\n",
    "plt.title(\"EDA for errorsPerLogin\")\n",
    "plt.xticks([1,2],plot_dict.keys())\n",
    "plt.ylabel(\"Errors Per Login\")\n",
    "plt.show()\n",
    "print(\"Median for Active subscribers:\",round(np.median(noChurn.errorsPerLogin.values),3))\n",
    "print(\"Median for Churned subscribers:\",round(np.median(churn.errorsPerLogin.values),3))"
   ]
  },
  {
   "cell_type": "code",
   "execution_count": 63,
   "metadata": {},
   "outputs": [],
   "source": [
    "user_labeled_df = user_labeled_df.withColumn('helpPerLogin',\\\n",
    "                                             user_labeled_df.countHelp / user_labeled_df.countLogins)"
   ]
  },
  {
   "cell_type": "markdown",
   "metadata": {},
   "source": [
    "#### EDA Chart Churn and Help Page Visits per Login"
   ]
  },
  {
   "cell_type": "code",
   "execution_count": 64,
   "metadata": {},
   "outputs": [
    {
     "data": {
      "image/png": "[encoded data removed]",
      "text/plain": [
       "<Figure size 432x288 with 1 Axes>"
      ]
     },
     "metadata": {
      "needs_background": "light"
     },
     "output_type": "display_data"
    },
    {
     "name": "stdout",
     "output_type": "stream",
     "text": [
      "Median for Active subscribers: 0.35\n",
      "Median for Churned subscribers: 0.357\n"
     ]
    }
   ],
   "source": [
    "eda = user_labeled_df.toPandas()\n",
    "churn = eda[eda.churned==1]\n",
    "noChurn = eda[eda.churned==0]\n",
    "\n",
    "plot_dict = {'Active': noChurn.helpPerLogin.values, 'Churned': churn.helpPerLogin.values}\n",
    "plt.boxplot(plot_dict.values())\n",
    "\n",
    "plt.title(\"EDA for helpPerLogin\")\n",
    "plt.xticks([1,2],plot_dict.keys())\n",
    "plt.ylabel(\"Help Page Visits per Login\")\n",
    "plt.show()\n",
    "print(\"Median for Active subscribers:\",round(np.median(noChurn.helpPerLogin.values),3))\n",
    "print(\"Median for Churned subscribers:\",round(np.median(churn.helpPerLogin.values),3))"
   ]
  },
  {
   "cell_type": "code",
   "execution_count": 65,
   "metadata": {},
   "outputs": [],
   "source": [
    "user_labeled_df = user_labeled_df.withColumn('songsPerLogin',\\\n",
    "                                             user_labeled_df.countSong / user_labeled_df.countLogins)"
   ]
  },
  {
   "cell_type": "markdown",
   "metadata": {},
   "source": [
    "#### EDA Chart Churn and Songs per Login"
   ]
  },
  {
   "cell_type": "code",
   "execution_count": 66,
   "metadata": {},
   "outputs": [
    {
     "data": {
      "image/png": "[encoded data removed]",
      "text/plain": [
       "<Figure size 432x288 with 1 Axes>"
      ]
     },
     "metadata": {
      "needs_background": "light"
     },
     "output_type": "display_data"
    },
    {
     "name": "stdout",
     "output_type": "stream",
     "text": [
      "Median for Active subscribers: 72.688\n",
      "Median for Churned subscribers: 76.0\n"
     ]
    }
   ],
   "source": [
    "eda = user_labeled_df.toPandas()\n",
    "churn = eda[eda.churned==1]\n",
    "noChurn = eda[eda.churned==0]\n",
    "\n",
    "plot_dict = {'Active': noChurn.songsPerLogin.values, 'Churned': churn.songsPerLogin.values}\n",
    "plt.boxplot(plot_dict.values())\n",
    "\n",
    "plt.title(\"EDA for songsPerLogin\")\n",
    "plt.xticks([1,2],plot_dict.keys())\n",
    "plt.ylabel(\"Songs per Login\")\n",
    "plt.show()\n",
    "print(\"Median for Active subscribers:\",round(np.median(noChurn.songsPerLogin.values),3))\n",
    "print(\"Median for Churned subscribers:\",round(np.median(churn.songsPerLogin.values),3))"
   ]
  },
  {
   "cell_type": "markdown",
   "metadata": {},
   "source": [
    "### Final Dataframe"
   ]
  },
  {
   "cell_type": "code",
   "execution_count": 67,
   "metadata": {},
   "outputs": [
    {
     "name": "stdout",
     "output_type": "stream",
     "text": [
      "+-------------+------------------+---------------+-----------+-----------+------------+-----------+-------------------+---------+-------------------+---------+------------------+-------------------+-------+\n",
      "|countThumbsUp|      percThumbsUp|countThumbsDown|totalThumbs|countLogins|countFriends|countErrors|     errorsPerLogin|countHelp|       helpPerLogin|countSong|     songsPerLogin|          meanLevel|churned|\n",
      "+-------------+------------------+---------------+-----------+-----------+------------+-----------+-------------------+---------+-------------------+---------+------------------+-------------------+-------+\n",
      "|           53|0.6162790697674418|             33|         86|         22|          14|          3|0.13636363636363635|        8|0.36363636363636365|     1317| 59.86363636363637|0.10933940774487472|      1|\n",
      "|           92|0.8679245283018868|             14|        106|         17|          25|          2|0.11764705882352941|       12| 0.7058823529411765|     2080| 122.3529411764706|                1.0|      0|\n",
      "|            7|0.6363636363636364|              4|         11|          3|          13|          0|                0.0|        1| 0.3333333333333333|      320|106.66666666666667|                1.0|      0|\n",
      "|           66|0.8048780487804879|             16|         82|         11|          23|          1|0.09090909090909091|       10| 0.9090909090909091|     1752|159.27272727272728| 0.9937214611872146|      0|\n",
      "|           10|0.7692307692307693|              3|         13|          5|           4|          0|                0.0|        2|                0.4|      299|              59.8| 0.6254180602006689|      0|\n",
      "+-------------+------------------+---------------+-----------+-----------+------------+-----------+-------------------+---------+-------------------+---------+------------------+-------------------+-------+\n",
      "only showing top 5 rows\n",
      "\n"
     ]
    }
   ],
   "source": [
    "# reorder for ML feature selection and remove userId\n",
    "final_user_labeled_df = user_labeled_df.select('countThumbsUp','percThumbsUp','countThumbsDown','totalThumbs',\n",
    "                                         'countLogins','countFriends','countErrors','errorsPerLogin',\n",
    "                                         'countHelp','helpPerLogin','countSong','songsPerLogin','meanLevel',\n",
    "                                         'churned')\n",
    "final_user_labeled_df.show(5)"
   ]
  },
  {
   "cell_type": "code",
   "execution_count": 68,
   "metadata": {},
   "outputs": [
    {
     "data": {
      "text/html": [
       "<div>\n",
       "<style scoped>\n",
       "    .dataframe tbody tr th:only-of-type {\n",
       "        vertical-align: middle;\n",
       "    }\n",
       "\n",
       "    .dataframe tbody tr th {\n",
       "        vertical-align: top;\n",
       "    }\n",
       "\n",
       "    .dataframe thead th {\n",
       "        text-align: right;\n",
       "    }\n",
       "</style>\n",
       "<table border=\"1\" class=\"dataframe\">\n",
       "  <thead>\n",
       "    <tr style=\"text-align: right;\">\n",
       "      <th></th>\n",
       "      <th>countThumbsUp</th>\n",
       "      <th>percThumbsUp</th>\n",
       "      <th>countThumbsDown</th>\n",
       "      <th>totalThumbs</th>\n",
       "      <th>countLogins</th>\n",
       "      <th>countFriends</th>\n",
       "      <th>countErrors</th>\n",
       "      <th>errorsPerLogin</th>\n",
       "      <th>countHelp</th>\n",
       "      <th>helpPerLogin</th>\n",
       "      <th>countSong</th>\n",
       "      <th>songsPerLogin</th>\n",
       "      <th>meanLevel</th>\n",
       "      <th>churned</th>\n",
       "    </tr>\n",
       "  </thead>\n",
       "  <tbody>\n",
       "    <tr>\n",
       "      <th>0</th>\n",
       "      <td>53</td>\n",
       "      <td>0.616279</td>\n",
       "      <td>33</td>\n",
       "      <td>86</td>\n",
       "      <td>22</td>\n",
       "      <td>14</td>\n",
       "      <td>3</td>\n",
       "      <td>0.136364</td>\n",
       "      <td>8</td>\n",
       "      <td>0.363636</td>\n",
       "      <td>1317</td>\n",
       "      <td>59.863636</td>\n",
       "      <td>0.109339</td>\n",
       "      <td>1</td>\n",
       "    </tr>\n",
       "    <tr>\n",
       "      <th>1</th>\n",
       "      <td>92</td>\n",
       "      <td>0.867925</td>\n",
       "      <td>14</td>\n",
       "      <td>106</td>\n",
       "      <td>17</td>\n",
       "      <td>25</td>\n",
       "      <td>2</td>\n",
       "      <td>0.117647</td>\n",
       "      <td>12</td>\n",
       "      <td>0.705882</td>\n",
       "      <td>2080</td>\n",
       "      <td>122.352941</td>\n",
       "      <td>1.000000</td>\n",
       "      <td>0</td>\n",
       "    </tr>\n",
       "    <tr>\n",
       "      <th>2</th>\n",
       "      <td>7</td>\n",
       "      <td>0.636364</td>\n",
       "      <td>4</td>\n",
       "      <td>11</td>\n",
       "      <td>3</td>\n",
       "      <td>13</td>\n",
       "      <td>0</td>\n",
       "      <td>0.000000</td>\n",
       "      <td>1</td>\n",
       "      <td>0.333333</td>\n",
       "      <td>320</td>\n",
       "      <td>106.666667</td>\n",
       "      <td>1.000000</td>\n",
       "      <td>0</td>\n",
       "    </tr>\n",
       "    <tr>\n",
       "      <th>3</th>\n",
       "      <td>66</td>\n",
       "      <td>0.804878</td>\n",
       "      <td>16</td>\n",
       "      <td>82</td>\n",
       "      <td>11</td>\n",
       "      <td>23</td>\n",
       "      <td>1</td>\n",
       "      <td>0.090909</td>\n",
       "      <td>10</td>\n",
       "      <td>0.909091</td>\n",
       "      <td>1752</td>\n",
       "      <td>159.272727</td>\n",
       "      <td>0.993721</td>\n",
       "      <td>0</td>\n",
       "    </tr>\n",
       "    <tr>\n",
       "      <th>4</th>\n",
       "      <td>10</td>\n",
       "      <td>0.769231</td>\n",
       "      <td>3</td>\n",
       "      <td>13</td>\n",
       "      <td>5</td>\n",
       "      <td>4</td>\n",
       "      <td>0</td>\n",
       "      <td>0.000000</td>\n",
       "      <td>2</td>\n",
       "      <td>0.400000</td>\n",
       "      <td>299</td>\n",
       "      <td>59.800000</td>\n",
       "      <td>0.625418</td>\n",
       "      <td>0</td>\n",
       "    </tr>\n",
       "    <tr>\n",
       "      <th>...</th>\n",
       "      <td>...</td>\n",
       "      <td>...</td>\n",
       "      <td>...</td>\n",
       "      <td>...</td>\n",
       "      <td>...</td>\n",
       "      <td>...</td>\n",
       "      <td>...</td>\n",
       "      <td>...</td>\n",
       "      <td>...</td>\n",
       "      <td>...</td>\n",
       "      <td>...</td>\n",
       "      <td>...</td>\n",
       "      <td>...</td>\n",
       "      <td>...</td>\n",
       "    </tr>\n",
       "    <tr>\n",
       "      <th>22273</th>\n",
       "      <td>64</td>\n",
       "      <td>0.876712</td>\n",
       "      <td>9</td>\n",
       "      <td>73</td>\n",
       "      <td>13</td>\n",
       "      <td>19</td>\n",
       "      <td>3</td>\n",
       "      <td>0.230769</td>\n",
       "      <td>5</td>\n",
       "      <td>0.384615</td>\n",
       "      <td>1184</td>\n",
       "      <td>91.076923</td>\n",
       "      <td>0.641892</td>\n",
       "      <td>0</td>\n",
       "    </tr>\n",
       "    <tr>\n",
       "      <th>22274</th>\n",
       "      <td>23</td>\n",
       "      <td>0.884615</td>\n",
       "      <td>3</td>\n",
       "      <td>26</td>\n",
       "      <td>9</td>\n",
       "      <td>6</td>\n",
       "      <td>0</td>\n",
       "      <td>0.000000</td>\n",
       "      <td>4</td>\n",
       "      <td>0.444444</td>\n",
       "      <td>567</td>\n",
       "      <td>63.000000</td>\n",
       "      <td>0.768959</td>\n",
       "      <td>0</td>\n",
       "    </tr>\n",
       "    <tr>\n",
       "      <th>22275</th>\n",
       "      <td>3</td>\n",
       "      <td>0.500000</td>\n",
       "      <td>3</td>\n",
       "      <td>6</td>\n",
       "      <td>4</td>\n",
       "      <td>4</td>\n",
       "      <td>0</td>\n",
       "      <td>0.000000</td>\n",
       "      <td>0</td>\n",
       "      <td>0.000000</td>\n",
       "      <td>120</td>\n",
       "      <td>30.000000</td>\n",
       "      <td>0.000000</td>\n",
       "      <td>0</td>\n",
       "    </tr>\n",
       "    <tr>\n",
       "      <th>22276</th>\n",
       "      <td>13</td>\n",
       "      <td>0.866667</td>\n",
       "      <td>2</td>\n",
       "      <td>15</td>\n",
       "      <td>12</td>\n",
       "      <td>10</td>\n",
       "      <td>1</td>\n",
       "      <td>0.083333</td>\n",
       "      <td>3</td>\n",
       "      <td>0.250000</td>\n",
       "      <td>668</td>\n",
       "      <td>55.666667</td>\n",
       "      <td>0.000000</td>\n",
       "      <td>0</td>\n",
       "    </tr>\n",
       "    <tr>\n",
       "      <th>22277</th>\n",
       "      <td>5</td>\n",
       "      <td>0.555556</td>\n",
       "      <td>4</td>\n",
       "      <td>9</td>\n",
       "      <td>6</td>\n",
       "      <td>3</td>\n",
       "      <td>0</td>\n",
       "      <td>0.000000</td>\n",
       "      <td>0</td>\n",
       "      <td>0.000000</td>\n",
       "      <td>219</td>\n",
       "      <td>36.500000</td>\n",
       "      <td>0.000000</td>\n",
       "      <td>1</td>\n",
       "    </tr>\n",
       "  </tbody>\n",
       "</table>\n",
       "<p>22278 rows × 14 columns</p>\n",
       "</div>"
      ],
      "text/plain": [
       "       countThumbsUp  percThumbsUp  countThumbsDown  totalThumbs  countLogins  \\\n",
       "0                 53      0.616279               33           86           22   \n",
       "1                 92      0.867925               14          106           17   \n",
       "2                  7      0.636364                4           11            3   \n",
       "3                 66      0.804878               16           82           11   \n",
       "4                 10      0.769231                3           13            5   \n",
       "...              ...           ...              ...          ...          ...   \n",
       "22273             64      0.876712                9           73           13   \n",
       "22274             23      0.884615                3           26            9   \n",
       "22275              3      0.500000                3            6            4   \n",
       "22276             13      0.866667                2           15           12   \n",
       "22277              5      0.555556                4            9            6   \n",
       "\n",
       "       countFriends  countErrors  errorsPerLogin  countHelp  helpPerLogin  \\\n",
       "0                14            3        0.136364          8      0.363636   \n",
       "1                25            2        0.117647         12      0.705882   \n",
       "2                13            0        0.000000          1      0.333333   \n",
       "3                23            1        0.090909         10      0.909091   \n",
       "4                 4            0        0.000000          2      0.400000   \n",
       "...             ...          ...             ...        ...           ...   \n",
       "22273            19            3        0.230769          5      0.384615   \n",
       "22274             6            0        0.000000          4      0.444444   \n",
       "22275             4            0        0.000000          0      0.000000   \n",
       "22276            10            1        0.083333          3      0.250000   \n",
       "22277             3            0        0.000000          0      0.000000   \n",
       "\n",
       "       countSong  songsPerLogin  meanLevel  churned  \n",
       "0           1317      59.863636   0.109339        1  \n",
       "1           2080     122.352941   1.000000        0  \n",
       "2            320     106.666667   1.000000        0  \n",
       "3           1752     159.272727   0.993721        0  \n",
       "4            299      59.800000   0.625418        0  \n",
       "...          ...            ...        ...      ...  \n",
       "22273       1184      91.076923   0.641892        0  \n",
       "22274        567      63.000000   0.768959        0  \n",
       "22275        120      30.000000   0.000000        0  \n",
       "22276        668      55.666667   0.000000        0  \n",
       "22277        219      36.500000   0.000000        1  \n",
       "\n",
       "[22278 rows x 14 columns]"
      ]
     },
     "execution_count": 68,
     "metadata": {},
     "output_type": "execute_result"
    }
   ],
   "source": [
    "final_df = final_user_labeled_df.toPandas()"
   ]
  },
  {
   "cell_type": "markdown",
   "metadata": {},
   "source": [
    "# Training & Test Split\n",
    "In order to ensure the fitted model is extensible to new data that it hasnt trained on I am going to split 80% for training data and 20% for test data"
   ]
  },
  {
   "cell_type": "code",
   "execution_count": 69,
   "metadata": {},
   "outputs": [
    {
     "name": "stdout",
     "output_type": "stream",
     "text": [
      "+--------------------+-----+\n",
      "|            features|label|\n",
      "+--------------------+-----+\n",
      "|[53.0,0.616279069...|    1|\n",
      "|[92.0,0.867924528...|    0|\n",
      "|[7.0,0.6363636363...|    0|\n",
      "|[66.0,0.804878048...|    0|\n",
      "|[10.0,0.769230769...|    0|\n",
      "+--------------------+-----+\n",
      "only showing top 5 rows\n",
      "\n"
     ]
    }
   ],
   "source": [
    "# the data needs to be mapped into a features column with a vector of the features and a label column with the target\n",
    "trainingData=final_user_labeled_df.rdd.map(lambda x:(Vectors.dense(x[0:-1]), x[-1])).toDF([\"features\", \"label\"])\n",
    "trainingData.show(5)"
   ]
  },
  {
   "cell_type": "code",
   "execution_count": 70,
   "metadata": {},
   "outputs": [],
   "source": [
    "train, validation = trainingData.randomSplit([0.9, 0.1], seed=1842)"
   ]
  },
  {
   "cell_type": "markdown",
   "metadata": {},
   "source": [
    "In order to show the importance of the interaction features created I will make a dataframe without any interaction features to compare with"
   ]
  },
  {
   "cell_type": "code",
   "execution_count": 121,
   "metadata": {},
   "outputs": [],
   "source": [
    "final_user_labeled_df_no_interaction = final_user_labeled_df.select('countThumbsUp','countThumbsDown','totalThumbs',\n",
    "                                                               'countLogins','countFriends','countErrors',\n",
    "                                                               'countHelp','countSong','meanLevel',\n",
    "                                                               'churned')"
   ]
  },
  {
   "cell_type": "code",
   "execution_count": 122,
   "metadata": {},
   "outputs": [],
   "source": [
    "trainingData_no_interaction=final_user_labeled_df_no_interaction.rdd.map(lambda x:(Vectors.dense(x[0:-1]), x[-1]))\\\n",
    "                                                 .toDF([\"features\", \"label\"])"
   ]
  },
  {
   "cell_type": "code",
   "execution_count": 123,
   "metadata": {},
   "outputs": [],
   "source": [
    "train_no_interaction, validation_no_interaction = trainingData_no_interaction.randomSplit([0.9, 0.1], seed=1842)"
   ]
  },
  {
   "cell_type": "markdown",
   "metadata": {},
   "source": [
    "## Metrics and Plot Helper functions"
   ]
  },
  {
   "cell_type": "code",
   "execution_count": 71,
   "metadata": {},
   "outputs": [],
   "source": [
    "def plot_roc(y,preds):\n",
    "    \"\"\"\n",
    "    This function takes in:\n",
    "    y - the label\n",
    "    preds - the predicted probability that the model gives for a 1\n",
    "    \"\"\"\n",
    "    fpr, tpr, threshold = metrics.roc_curve(y, preds)\n",
    "    roc_auc = metrics.auc(fpr, tpr)\n",
    "    plt.title('Receiver Operating Characteristic')\n",
    "    plt.plot(fpr, tpr, 'b', label = 'AUC = %0.3f' % roc_auc)\n",
    "    plt.legend(loc = 'lower right')\n",
    "    plt.plot([0, 1], [0, 1],'r--')\n",
    "    plt.xlim([-.01, 1])\n",
    "    plt.ylim([0, 1.01])\n",
    "    plt.ylabel('True Positive Rate')\n",
    "    plt.xlabel('False Positive Rate')\n",
    "    plt.show()"
   ]
  },
  {
   "cell_type": "code",
   "execution_count": 72,
   "metadata": {},
   "outputs": [],
   "source": [
    "\"\"\"\n",
    "PySpark User defined functions to parse out values from an array in a column\n",
    "this is useful for parsing out the probablility of a 0 and 1 from the predictions made from model.transform(df)\n",
    "\"\"\"\n",
    "split0_udf = udf(lambda value: value[0].item(), FloatType())\n",
    "split1_udf = udf(lambda value: value[1].item(), FloatType())"
   ]
  },
  {
   "cell_type": "markdown",
   "metadata": {},
   "source": [
    "# Logistic Regression Model \n",
    "both basic and with Grid Search and Train/Validation Split"
   ]
  },
  {
   "cell_type": "code",
   "execution_count": 94,
   "metadata": {},
   "outputs": [],
   "source": [
    "lr = LogisticRegression(maxIter=10)\n",
    "\n",
    "model = lr.fit(train)"
   ]
  },
  {
   "cell_type": "code",
   "execution_count": 95,
   "metadata": {},
   "outputs": [],
   "source": [
    "lr_train_preds = model.transform(train)\n",
    "lr_test_preds = model.transform(validation)"
   ]
  },
  {
   "cell_type": "code",
   "execution_count": 75,
   "metadata": {},
   "outputs": [
    {
     "data": {
      "image/png": "[encoded data removed]",
      "text/plain": [
       "<Figure size 432x288 with 1 Axes>"
      ]
     },
     "metadata": {
      "needs_background": "light"
     },
     "output_type": "display_data"
    }
   ],
   "source": [
    "train_preds = lr_train_preds.withColumn('prob0', split0_udf('probability'))\\\n",
    "                                      .withColumn('prob1', split1_udf('probability'))\\\n",
    "                                      .drop('features','rawPrediction','probability')\\\n",
    "                                      .toPandas()\n",
    "preds = train_preds.prob1\n",
    "y = train_preds.label\n",
    "plot_roc(y,preds)"
   ]
  },
  {
   "cell_type": "code",
   "execution_count": 76,
   "metadata": {},
   "outputs": [
    {
     "data": {
      "image/png": "[encoded data removed]",
      "text/plain": [
       "<Figure size 432x288 with 1 Axes>"
      ]
     },
     "metadata": {
      "needs_background": "light"
     },
     "output_type": "display_data"
    }
   ],
   "source": [
    "test_preds = lr_test_preds.withColumn('prob0', split0_udf('probability'))\\\n",
    "                                      .withColumn('prob1', split1_udf('probability'))\\\n",
    "                                      .drop('features','rawPrediction','probability')\\\n",
    "                                      .toPandas()\n",
    "preds = test_preds.prob1\n",
    "y = test_preds.label\n",
    "plot_roc(y,preds)"
   ]
  },
  {
   "cell_type": "code",
   "execution_count": 110,
   "metadata": {},
   "outputs": [
    {
     "name": "stdout",
     "output_type": "stream",
     "text": [
      "--- LR Coefficients ---\n",
      "countThumbsUp : -0.0065\n",
      "percThumbsUp : -0.9598\n",
      "countThumbsDown : 0.0375\n",
      "totalThumbs : -0.0038\n",
      "countLogins : -0.0\n",
      "countFriends : 0.002\n",
      "countErrors : 0.0017\n",
      "errorsPerLogin : 0.2119\n",
      "countHelp : -0.0001\n",
      "helpPerLogin : -0.0519\n",
      "countSong : 0.0\n",
      "songsPerLogin : 0.0028\n",
      "meanLevel : 0.3329\n"
     ]
    }
   ],
   "source": [
    "colNames = ['countThumbsUp','percThumbsUp','countThumbsDown','totalThumbs','countLogins',\n",
    "'countFriends','countErrors','errorsPerLogin','countHelp','helpPerLogin',\n",
    "'countSong','songsPerLogin','meanLevel']\n",
    "i=0\n",
    "print(\"--- LR Coefficients ---\")\n",
    "for item in model.coefficients:\n",
    "    print(colNames[i],\":\",round(item,4))\n",
    "    i = i+1"
   ]
  },
  {
   "cell_type": "markdown",
   "metadata": {},
   "source": [
    "### Analysis of Logistic Regression\n",
    "\n",
    "This model is basic but does not appear to be overfit. The nice thing about logistic regression is that it is a simple model that can be resonably interpretable. In order to optimize the model performance a parameter grid search can be used to use some elastic net regularization as well as if an intercept should be fit or not. That should most likely make a more generalizable model that performs well."
   ]
  },
  {
   "cell_type": "markdown",
   "metadata": {},
   "source": [
    "### Train Validation Split Logistic Regression"
   ]
  },
  {
   "cell_type": "code",
   "execution_count": 77,
   "metadata": {},
   "outputs": [],
   "source": [
    "paramGrid = ParamGridBuilder()\\\n",
    "    .addGrid(lr.regParam, [0.1, 0.01]) \\\n",
    "    .addGrid(lr.fitIntercept, [False, True])\\\n",
    "    .addGrid(lr.elasticNetParam, [0.0, 0.5, 1.0])\\\n",
    "    .build()\n",
    "\n",
    "tvs = TrainValidationSplit(estimator=lr,\n",
    "                           estimatorParamMaps=paramGrid,\n",
    "                           evaluator=BinaryClassificationEvaluator(),\n",
    "                           # 80% of the data will be used for training, 20% for validation.\n",
    "                           trainRatio=0.8)\n",
    "\n",
    "tvs_model = tvs.fit(train)\n",
    "tvs_train_preds = tvs_model.transform(train)\n",
    "tvs_test_predictions = tvs_model.transform(validation)"
   ]
  },
  {
   "cell_type": "markdown",
   "metadata": {},
   "source": [
    "### Train Results"
   ]
  },
  {
   "cell_type": "code",
   "execution_count": 78,
   "metadata": {},
   "outputs": [
    {
     "data": {
      "image/png": "[encoded data removed]",
      "text/plain": [
       "<Figure size 432x288 with 1 Axes>"
      ]
     },
     "metadata": {
      "needs_background": "light"
     },
     "output_type": "display_data"
    }
   ],
   "source": [
    "train_preds = tvs_train_preds.withColumn('prob0', split0_udf('probability'))\\\n",
    "                                      .withColumn('prob1', split1_udf('probability'))\\\n",
    "                                      .drop('features','rawPrediction','probability')\\\n",
    "                                      .toPandas()\n",
    "preds = train_preds.prob1\n",
    "y = train_preds.label\n",
    "plot_roc(y,preds)"
   ]
  },
  {
   "cell_type": "markdown",
   "metadata": {},
   "source": [
    "### Test Results"
   ]
  },
  {
   "cell_type": "code",
   "execution_count": 79,
   "metadata": {},
   "outputs": [
    {
     "data": {
      "image/png": "[encoded data removed]",
      "text/plain": [
       "<Figure size 432x288 with 1 Axes>"
      ]
     },
     "metadata": {
      "needs_background": "light"
     },
     "output_type": "display_data"
    }
   ],
   "source": [
    "test_preds = tvs_test_predictions.withColumn('prob0', split0_udf('probability'))\\\n",
    "                                      .withColumn('prob1', split1_udf('probability'))\\\n",
    "                                      .drop('features','rawPrediction','probability')\\\n",
    "                                      .toPandas()\n",
    "preds = test_preds.prob1\n",
    "y = test_preds.label\n",
    "plot_roc(y,preds)"
   ]
  },
  {
   "cell_type": "markdown",
   "metadata": {},
   "source": [
    "Extract the parameters that were selected for the best model"
   ]
  },
  {
   "cell_type": "code",
   "execution_count": null,
   "metadata": {},
   "outputs": [],
   "source": [
    "tvs_model.bestModel.extractParamMap()"
   ]
  },
  {
   "cell_type": "markdown",
   "metadata": {},
   "source": [
    "The best model uses:\n",
    " - lr.regParam: \n",
    " - lr.fitIntercept:\n",
    " - lr.elasticNetParam:"
   ]
  },
  {
   "cell_type": "code",
   "execution_count": null,
   "metadata": {},
   "outputs": [],
   "source": [
    "i=0\n",
    "print(\"--- LR Coefficients ---\")\n",
    "for item in tvs_model.bestModel.coefficients:\n",
    "    print(colNames[i],\":\",round(item,4))\n",
    "    i = i+1"
   ]
  },
  {
   "cell_type": "markdown",
   "metadata": {},
   "source": [
    "### Analysis of Logistic Regression with Parameter Tuning\n",
    "\n",
    "This model is basic but does not appear to be overfit. The nice thing about logistic regression is that it is a simple model that doesnt need a huge training dataset to predict well."
   ]
  },
  {
   "cell_type": "markdown",
   "metadata": {},
   "source": [
    "## Decision Tree"
   ]
  },
  {
   "cell_type": "code",
   "execution_count": 91,
   "metadata": {},
   "outputs": [],
   "source": [
    "dt = DecisionTreeClassifier()\n",
    "\n",
    "model = dt.fit(train)\n",
    "# Make predictions\n",
    "gbt_train_predictions = model.transform(train)\n",
    "gbt_predictions = model.transform(validation)"
   ]
  },
  {
   "cell_type": "markdown",
   "metadata": {},
   "source": [
    "### Training Results"
   ]
  },
  {
   "cell_type": "code",
   "execution_count": 92,
   "metadata": {},
   "outputs": [
    {
     "data": {
      "image/png": "[encoded data removed]",
      "text/plain": [
       "<Figure size 432x288 with 1 Axes>"
      ]
     },
     "metadata": {
      "needs_background": "light"
     },
     "output_type": "display_data"
    }
   ],
   "source": [
    "training_preds = gbt_train_predictions.withColumn('prob0', split0_udf('probability'))\\\n",
    "                                      .withColumn('prob1', split1_udf('probability'))\\\n",
    "                                      .drop('features','rawPrediction','probability')\\\n",
    "                                      .toPandas()\n",
    "preds = training_preds.prob1\n",
    "y = training_preds.label\n",
    "plot_roc(y,preds)"
   ]
  },
  {
   "cell_type": "markdown",
   "metadata": {},
   "source": [
    "### Test Results"
   ]
  },
  {
   "cell_type": "code",
   "execution_count": 93,
   "metadata": {},
   "outputs": [
    {
     "data": {
      "image/png": "[encoded data removed]",
      "text/plain": [
       "<Figure size 432x288 with 1 Axes>"
      ]
     },
     "metadata": {
      "needs_background": "light"
     },
     "output_type": "display_data"
    }
   ],
   "source": [
    "test_preds = gbt_predictions.withColumn('prob0', split0_udf('probability'))\\\n",
    "                                      .withColumn('prob1', split1_udf('probability'))\\\n",
    "                                      .drop('features','rawPrediction','probability')\\\n",
    "                                      .toPandas()\n",
    "preds = test_preds.prob1\n",
    "y = test_preds.label\n",
    "plot_roc(y,preds)"
   ]
  },
  {
   "cell_type": "markdown",
   "metadata": {},
   "source": [
    "### Analysis of Decision Tree \n",
    "\n",
    "This model is relatively basic but does not appear to be overfit. The nice thing about Decision Trees compared to Boosted Trees or Random Forrests are that they are a more simple model. The drawback is that in this case they do not provide any boost to our AUC score compared to the Logistic Regression Model."
   ]
  },
  {
   "cell_type": "markdown",
   "metadata": {},
   "source": [
    "## GBTree"
   ]
  },
  {
   "cell_type": "code",
   "execution_count": 132,
   "metadata": {},
   "outputs": [],
   "source": [
    "gbt = GBTClassifier()\n",
    "\n",
    "model = gbt.fit(train)\n",
    "# Make predictions\n",
    "gbt_train_predictions = model.transform(train)\n",
    "gbt_predictions = model.transform(validation)"
   ]
  },
  {
   "cell_type": "code",
   "execution_count": 133,
   "metadata": {},
   "outputs": [
    {
     "data": {
      "image/png": "[encoded data removed]",
      "text/plain": [
       "<Figure size 432x288 with 1 Axes>"
      ]
     },
     "metadata": {
      "needs_background": "light"
     },
     "output_type": "display_data"
    }
   ],
   "source": [
    "training_preds = gbt_train_predictions.withColumn('prob0', split0_udf('probability'))\\\n",
    "                                      .withColumn('prob1', split1_udf('probability'))\\\n",
    "                                      .drop('features','rawPrediction','probability')\\\n",
    "                                      .toPandas()\n",
    "preds = training_preds.prob1\n",
    "y = training_preds.label\n",
    "plot_roc(y,preds)"
   ]
  },
  {
   "cell_type": "markdown",
   "metadata": {},
   "source": [
    "### Test Results"
   ]
  },
  {
   "cell_type": "code",
   "execution_count": 134,
   "metadata": {},
   "outputs": [
    {
     "data": {
      "image/png": "[encoded data removed]",
      "text/plain": [
       "<Figure size 432x288 with 1 Axes>"
      ]
     },
     "metadata": {
      "needs_background": "light"
     },
     "output_type": "display_data"
    }
   ],
   "source": [
    "test_preds = gbt_predictions.withColumn('prob0', split0_udf('probability'))\\\n",
    "                                      .withColumn('prob1', split1_udf('probability'))\\\n",
    "                                      .drop('features','rawPrediction','probability')\\\n",
    "                                      .toPandas()\n",
    "preds = test_preds.prob1\n",
    "y = test_preds.label\n",
    "plot_roc(y,preds)"
   ]
  },
  {
   "cell_type": "markdown",
   "metadata": {},
   "source": [
    "### Feature Analysis"
   ]
  },
  {
   "cell_type": "code",
   "execution_count": 136,
   "metadata": {},
   "outputs": [
    {
     "data": {
      "text/html": [
       "<div>\n",
       "<style scoped>\n",
       "    .dataframe tbody tr th:only-of-type {\n",
       "        vertical-align: middle;\n",
       "    }\n",
       "\n",
       "    .dataframe tbody tr th {\n",
       "        vertical-align: top;\n",
       "    }\n",
       "\n",
       "    .dataframe thead th {\n",
       "        text-align: right;\n",
       "    }\n",
       "</style>\n",
       "<table border=\"1\" class=\"dataframe\">\n",
       "  <thead>\n",
       "    <tr style=\"text-align: right;\">\n",
       "      <th></th>\n",
       "      <th>FeatureImportance</th>\n",
       "      <th>Names</th>\n",
       "    </tr>\n",
       "  </thead>\n",
       "  <tbody>\n",
       "    <tr>\n",
       "      <th>11</th>\n",
       "      <td>0.127641</td>\n",
       "      <td>songsPerLogin</td>\n",
       "    </tr>\n",
       "    <tr>\n",
       "      <th>1</th>\n",
       "      <td>0.125787</td>\n",
       "      <td>percThumbsUp</td>\n",
       "    </tr>\n",
       "    <tr>\n",
       "      <th>0</th>\n",
       "      <td>0.100788</td>\n",
       "      <td>countThumbsUp</td>\n",
       "    </tr>\n",
       "    <tr>\n",
       "      <th>10</th>\n",
       "      <td>0.094991</td>\n",
       "      <td>countSong</td>\n",
       "    </tr>\n",
       "    <tr>\n",
       "      <th>12</th>\n",
       "      <td>0.090055</td>\n",
       "      <td>meanLevel</td>\n",
       "    </tr>\n",
       "    <tr>\n",
       "      <th>2</th>\n",
       "      <td>0.087694</td>\n",
       "      <td>countThumbsDown</td>\n",
       "    </tr>\n",
       "    <tr>\n",
       "      <th>4</th>\n",
       "      <td>0.080849</td>\n",
       "      <td>countLogins</td>\n",
       "    </tr>\n",
       "    <tr>\n",
       "      <th>5</th>\n",
       "      <td>0.074564</td>\n",
       "      <td>countFriends</td>\n",
       "    </tr>\n",
       "    <tr>\n",
       "      <th>3</th>\n",
       "      <td>0.059361</td>\n",
       "      <td>totalThumbs</td>\n",
       "    </tr>\n",
       "    <tr>\n",
       "      <th>9</th>\n",
       "      <td>0.056929</td>\n",
       "      <td>helpPerLogin</td>\n",
       "    </tr>\n",
       "    <tr>\n",
       "      <th>8</th>\n",
       "      <td>0.037796</td>\n",
       "      <td>countHelp</td>\n",
       "    </tr>\n",
       "    <tr>\n",
       "      <th>6</th>\n",
       "      <td>0.033453</td>\n",
       "      <td>countErrors</td>\n",
       "    </tr>\n",
       "    <tr>\n",
       "      <th>7</th>\n",
       "      <td>0.030094</td>\n",
       "      <td>errorsPerLogin</td>\n",
       "    </tr>\n",
       "  </tbody>\n",
       "</table>\n",
       "</div>"
      ],
      "text/plain": [
       "    FeatureImportance            Names\n",
       "11           0.127641    songsPerLogin\n",
       "1            0.125787     percThumbsUp\n",
       "0            0.100788    countThumbsUp\n",
       "10           0.094991        countSong\n",
       "12           0.090055        meanLevel\n",
       "2            0.087694  countThumbsDown\n",
       "4            0.080849      countLogins\n",
       "5            0.074564     countFriends\n",
       "3            0.059361      totalThumbs\n",
       "9            0.056929     helpPerLogin\n",
       "8            0.037796        countHelp\n",
       "6            0.033453      countErrors\n",
       "7            0.030094   errorsPerLogin"
      ]
     },
     "execution_count": 136,
     "metadata": {},
     "output_type": "execute_result"
    }
   ],
   "source": [
    "featImps = model.featureImportances.toArray()\n",
    "varNames = ['countThumbsUp','percThumbsUp','countThumbsDown','totalThumbs','countLogins','countFriends',\n",
    " 'countErrors','errorsPerLogin','countHelp','helpPerLogin','countSong','songsPerLogin','meanLevel']\n",
    "\n",
    "importance = pd.DataFrame({\"FeatureImportance\":featImps,\"Names\":varNames}).sort_values(\"FeatureImportance\")\n",
    "importance.sort_values(\"FeatureImportance\",ascending = False)"
   ]
  },
  {
   "cell_type": "code",
   "execution_count": 137,
   "metadata": {},
   "outputs": [
    {
     "data": {
      "image/png": "[encoded data removed]",
      "text/plain": [
       "<Figure size 432x288 with 1 Axes>"
      ]
     },
     "metadata": {
      "needs_background": "light"
     },
     "output_type": "display_data"
    }
   ],
   "source": [
    "y_pos = np.arange(len(importance.Names))\n",
    "\n",
    "plt.barh(y_pos, importance.FeatureImportance, align='center', alpha=0.5)\n",
    "plt.yticks(y_pos, importance.Names)\n",
    "plt.xlabel('Importance')\n",
    "plt.title('Feature Importance Plot GBTree')\n",
    "\n",
    "plt.show()"
   ]
  },
  {
   "cell_type": "markdown",
   "metadata": {},
   "source": [
    "### Analysis of GBTree Results\n",
    "\n",
    "This model improves the best AUC we were able to achieve on the training and test sets that we were able to get with Logistic Regression! In order to combat the small overfitting we see with the drop between training and test AUC a parameter grid search can be used to try to optimize hyperparameter tuning similar to what we have done for the Logistic Regression above. Usually this will result in a more generalizable model."
   ]
  },
  {
   "cell_type": "markdown",
   "metadata": {},
   "source": [
    "## GBTree with Validation"
   ]
  },
  {
   "cell_type": "code",
   "execution_count": 83,
   "metadata": {},
   "outputs": [],
   "source": [
    "paramGrid = ParamGridBuilder()\\\n",
    "    .addGrid(gbt.maxIter, [10,20,30]) \\\n",
    "    .addGrid(gbt.featureSubsetStrategy, ['all','sqrt','log2'])\\\n",
    "    .addGrid(gbt.maxDepth, [2,3,4])\\\n",
    "    .build()\n",
    "\n",
    "gbtree_tvs = TrainValidationSplit(estimator=gbt,\n",
    "                           estimatorParamMaps=paramGrid,\n",
    "                           evaluator=BinaryClassificationEvaluator(),\n",
    "                           # 80% of the data will be used for training, 20% for validation.\n",
    "                           trainRatio=0.8)"
   ]
  },
  {
   "cell_type": "code",
   "execution_count": 84,
   "metadata": {},
   "outputs": [],
   "source": [
    "model = gbtree_tvs.fit(train)\n",
    "# Make predictions\n",
    "gbt_train_predictions = model.transform(train)\n",
    "gbt_predictions = model.transform(validation)"
   ]
  },
  {
   "cell_type": "code",
   "execution_count": 85,
   "metadata": {},
   "outputs": [
    {
     "data": {
      "text/plain": [
       "{Param(parent='GBTClassifier_a3e13eaf4221', name='cacheNodeIds', doc='If false, the algorithm will pass trees to executors to match instances with nodes. If true, the algorithm will cache node IDs for each instance. Caching can speed up training of deeper trees.'): False,\n",
       " Param(parent='GBTClassifier_a3e13eaf4221', name='checkpointInterval', doc='set checkpoint interval (>= 1) or disable checkpoint (-1). E.g. 10 means that the cache will get checkpointed every 10 iterations. Note: this setting will be ignored if the checkpoint directory is not set in the SparkContext'): 10,\n",
       " Param(parent='GBTClassifier_a3e13eaf4221', name='featureSubsetStrategy', doc='The number of features to consider for splits at each tree node. Supported options: auto, all, onethird, sqrt, log2, (0.0-1.0], [1-n].'): 'all',\n",
       " Param(parent='GBTClassifier_a3e13eaf4221', name='featuresCol', doc='features column name'): 'features',\n",
       " Param(parent='GBTClassifier_a3e13eaf4221', name='labelCol', doc='label column name'): 'label',\n",
       " Param(parent='GBTClassifier_a3e13eaf4221', name='lossType', doc='Loss function which GBT tries to minimize (case-insensitive). Supported options: logistic'): 'logistic',\n",
       " Param(parent='GBTClassifier_a3e13eaf4221', name='maxBins', doc='Max number of bins for discretizing continuous features.  Must be at least 2 and at least number of categories for any categorical feature.'): 32,\n",
       " Param(parent='GBTClassifier_a3e13eaf4221', name='maxDepth', doc='Maximum depth of the tree. (Nonnegative) E.g., depth 0 means 1 leaf node; depth 1 means 1 internal node + 2 leaf nodes.'): 3,\n",
       " Param(parent='GBTClassifier_a3e13eaf4221', name='maxIter', doc='maximum number of iterations (>= 0)'): 10,\n",
       " Param(parent='GBTClassifier_a3e13eaf4221', name='maxMemoryInMB', doc='Maximum memory in MB allocated to histogram aggregation.'): 256,\n",
       " Param(parent='GBTClassifier_a3e13eaf4221', name='minInfoGain', doc='Minimum information gain for a split to be considered at a tree node.'): 0.0,\n",
       " Param(parent='GBTClassifier_a3e13eaf4221', name='minInstancesPerNode', doc='Minimum number of instances each child must have after split.  If a split causes the left or right child to have fewer than minInstancesPerNode, the split will be discarded as invalid. Must be at least 1.'): 1,\n",
       " Param(parent='GBTClassifier_a3e13eaf4221', name='predictionCol', doc='prediction column name'): 'prediction',\n",
       " Param(parent='GBTClassifier_a3e13eaf4221', name='seed', doc='random seed'): -8254755125742572676,\n",
       " Param(parent='GBTClassifier_a3e13eaf4221', name='stepSize', doc='Step size (a.k.a. learning rate) in interval (0, 1] for shrinking the contribution of each estimator.'): 0.1,\n",
       " Param(parent='GBTClassifier_a3e13eaf4221', name='subsamplingRate', doc='Fraction of the training data used for learning each decision tree, in range (0, 1].'): 1.0}"
      ]
     },
     "execution_count": 85,
     "metadata": {},
     "output_type": "execute_result"
    }
   ],
   "source": [
    "model.bestModel.extractParamMap()\n"
   ]
  },
  {
   "cell_type": "markdown",
   "metadata": {},
   "source": [
    "The best parameters from the grid search are :\n",
    " - maxDepth: 3\n",
    " - maxIter: 10\n",
    " - featureSubsetStrategy: 'all'"
   ]
  },
  {
   "cell_type": "markdown",
   "metadata": {},
   "source": [
    "### Training Results"
   ]
  },
  {
   "cell_type": "code",
   "execution_count": 86,
   "metadata": {},
   "outputs": [
    {
     "data": {
      "image/png": "[encoded data removed]",
      "text/plain": [
       "<Figure size 432x288 with 1 Axes>"
      ]
     },
     "metadata": {
      "needs_background": "light"
     },
     "output_type": "display_data"
    }
   ],
   "source": [
    "training_preds = gbt_train_predictions.withColumn('prob0', split0_udf('probability'))\\\n",
    "                                      .withColumn('prob1', split1_udf('probability'))\\\n",
    "                                      .drop('features','rawPrediction','probability')\\\n",
    "                                      .toPandas()\n",
    "preds = training_preds.prob1\n",
    "y = training_preds.label\n",
    "plot_roc(y,preds)"
   ]
  },
  {
   "cell_type": "markdown",
   "metadata": {},
   "source": [
    "### Test results"
   ]
  },
  {
   "cell_type": "code",
   "execution_count": 87,
   "metadata": {},
   "outputs": [
    {
     "data": {
      "image/png": "[encoded data removed]",
      "text/plain": [
       "<Figure size 432x288 with 1 Axes>"
      ]
     },
     "metadata": {
      "needs_background": "light"
     },
     "output_type": "display_data"
    }
   ],
   "source": [
    "test_preds = gbt_predictions.withColumn('prob0', split0_udf('probability'))\\\n",
    "                                      .withColumn('prob1', split1_udf('probability'))\\\n",
    "                                      .drop('features','rawPrediction','probability')\\\n",
    "                                      .toPandas()\n",
    "preds = test_preds.prob1\n",
    "y = test_preds.label\n",
    "plot_roc(y,preds)"
   ]
  },
  {
   "cell_type": "markdown",
   "metadata": {},
   "source": [
    "### Feature Analysis"
   ]
  },
  {
   "cell_type": "code",
   "execution_count": 89,
   "metadata": {},
   "outputs": [
    {
     "data": {
      "text/html": [
       "<div>\n",
       "<style scoped>\n",
       "    .dataframe tbody tr th:only-of-type {\n",
       "        vertical-align: middle;\n",
       "    }\n",
       "\n",
       "    .dataframe tbody tr th {\n",
       "        vertical-align: top;\n",
       "    }\n",
       "\n",
       "    .dataframe thead th {\n",
       "        text-align: right;\n",
       "    }\n",
       "</style>\n",
       "<table border=\"1\" class=\"dataframe\">\n",
       "  <thead>\n",
       "    <tr style=\"text-align: right;\">\n",
       "      <th></th>\n",
       "      <th>FeatureImportance</th>\n",
       "      <th>Names</th>\n",
       "    </tr>\n",
       "  </thead>\n",
       "  <tbody>\n",
       "    <tr>\n",
       "      <th>1</th>\n",
       "      <td>0.350338</td>\n",
       "      <td>percThumbsUp</td>\n",
       "    </tr>\n",
       "    <tr>\n",
       "      <th>11</th>\n",
       "      <td>0.203337</td>\n",
       "      <td>songsPerLogin</td>\n",
       "    </tr>\n",
       "    <tr>\n",
       "      <th>4</th>\n",
       "      <td>0.148662</td>\n",
       "      <td>countLogins</td>\n",
       "    </tr>\n",
       "    <tr>\n",
       "      <th>12</th>\n",
       "      <td>0.133038</td>\n",
       "      <td>meanLevel</td>\n",
       "    </tr>\n",
       "    <tr>\n",
       "      <th>0</th>\n",
       "      <td>0.101154</td>\n",
       "      <td>countThumbsUp</td>\n",
       "    </tr>\n",
       "    <tr>\n",
       "      <th>3</th>\n",
       "      <td>0.022925</td>\n",
       "      <td>totalThumbs</td>\n",
       "    </tr>\n",
       "    <tr>\n",
       "      <th>9</th>\n",
       "      <td>0.022136</td>\n",
       "      <td>helpPerLogin</td>\n",
       "    </tr>\n",
       "    <tr>\n",
       "      <th>2</th>\n",
       "      <td>0.011007</td>\n",
       "      <td>countThumbsDown</td>\n",
       "    </tr>\n",
       "    <tr>\n",
       "      <th>7</th>\n",
       "      <td>0.007404</td>\n",
       "      <td>errorsPerLogin</td>\n",
       "    </tr>\n",
       "    <tr>\n",
       "      <th>5</th>\n",
       "      <td>0.000000</td>\n",
       "      <td>countFriends</td>\n",
       "    </tr>\n",
       "    <tr>\n",
       "      <th>6</th>\n",
       "      <td>0.000000</td>\n",
       "      <td>countErrors</td>\n",
       "    </tr>\n",
       "    <tr>\n",
       "      <th>8</th>\n",
       "      <td>0.000000</td>\n",
       "      <td>countHelp</td>\n",
       "    </tr>\n",
       "    <tr>\n",
       "      <th>10</th>\n",
       "      <td>0.000000</td>\n",
       "      <td>countSong</td>\n",
       "    </tr>\n",
       "  </tbody>\n",
       "</table>\n",
       "</div>"
      ],
      "text/plain": [
       "    FeatureImportance            Names\n",
       "1            0.350338     percThumbsUp\n",
       "11           0.203337    songsPerLogin\n",
       "4            0.148662      countLogins\n",
       "12           0.133038        meanLevel\n",
       "0            0.101154    countThumbsUp\n",
       "3            0.022925      totalThumbs\n",
       "9            0.022136     helpPerLogin\n",
       "2            0.011007  countThumbsDown\n",
       "7            0.007404   errorsPerLogin\n",
       "5            0.000000     countFriends\n",
       "6            0.000000      countErrors\n",
       "8            0.000000        countHelp\n",
       "10           0.000000        countSong"
      ]
     },
     "execution_count": 89,
     "metadata": {},
     "output_type": "execute_result"
    }
   ],
   "source": [
    "featImps = model.bestModel.featureImportances.toArray()\n",
    "varNames = ['countThumbsUp','percThumbsUp','countThumbsDown','totalThumbs','countLogins','countFriends',\n",
    " 'countErrors','errorsPerLogin','countHelp','helpPerLogin','countSong','songsPerLogin','meanLevel']\n",
    "\n",
    "importance = pd.DataFrame({\"FeatureImportance\":featImps,\"Names\":varNames}).sort_values(\"FeatureImportance\")\n",
    "importance.sort_values(\"FeatureImportance\",ascending = False)"
   ]
  },
  {
   "cell_type": "code",
   "execution_count": 90,
   "metadata": {},
   "outputs": [
    {
     "data": {
      "image/png": "[encoded data removed]",
      "text/plain": [
       "<Figure size 432x288 with 1 Axes>"
      ]
     },
     "metadata": {
      "needs_background": "light"
     },
     "output_type": "display_data"
    }
   ],
   "source": [
    "y_pos = np.arange(len(importance.Names))\n",
    "\n",
    "plt.barh(y_pos, importance.FeatureImportance, align='center', alpha=0.5)\n",
    "plt.yticks(y_pos, importance.Names)\n",
    "plt.xlabel('Importance')\n",
    "plt.title('Feature Importance Plot GBTree')\n",
    "\n",
    "plt.show()"
   ]
  },
  {
   "cell_type": "markdown",
   "metadata": {},
   "source": [
    "### Analysis of GBTree with Parameter Tuning\n",
    "\n",
    "This model with parameter tuning and a validation split performs a little worse than the GBTree model with the default parameters in training but you can see that there is basically no drop off in the test set. I think that this model would be better to use and would generally perform more reliably than the original GBTree model we had."
   ]
  },
  {
   "cell_type": "markdown",
   "metadata": {},
   "source": [
    "## GBTree without interaction Features\n",
    "\n",
    "This will show how the interaction features make a difference in overall AUC score of training and test data"
   ]
  },
  {
   "cell_type": "code",
   "execution_count": 124,
   "metadata": {},
   "outputs": [],
   "source": [
    "gbt = GBTClassifier()\n",
    "\n",
    "model = gbt.fit(train_no_interaction)\n",
    "# Make predictions\n",
    "gbt_train_predictions = model.transform(train_no_interaction)\n",
    "gbt_predictions = model.transform(validation_no_interaction)"
   ]
  },
  {
   "cell_type": "markdown",
   "metadata": {},
   "source": [
    "### Training Results"
   ]
  },
  {
   "cell_type": "code",
   "execution_count": 125,
   "metadata": {},
   "outputs": [
    {
     "data": {
      "image/png": "[encoded data removed]",
      "text/plain": [
       "<Figure size 432x288 with 1 Axes>"
      ]
     },
     "metadata": {
      "needs_background": "light"
     },
     "output_type": "display_data"
    }
   ],
   "source": [
    "training_preds = gbt_train_predictions.withColumn('prob0', split0_udf('probability'))\\\n",
    "                                      .withColumn('prob1', split1_udf('probability'))\\\n",
    "                                      .drop('features','rawPrediction','probability')\\\n",
    "                                      .toPandas()\n",
    "preds = training_preds.prob1\n",
    "y = training_preds.label\n",
    "plot_roc(y,preds)"
   ]
  },
  {
   "cell_type": "markdown",
   "metadata": {},
   "source": [
    "### Test Results"
   ]
  },
  {
   "cell_type": "code",
   "execution_count": 131,
   "metadata": {},
   "outputs": [
    {
     "data": {
      "image/png": "[encoded data removed]",
      "text/plain": [
       "<Figure size 432x288 with 1 Axes>"
      ]
     },
     "metadata": {
      "needs_background": "light"
     },
     "output_type": "display_data"
    }
   ],
   "source": [
    "test_preds = gbt_predictions.withColumn('prob0', split0_udf('probability'))\\\n",
    "                                      .withColumn('prob1', split1_udf('probability'))\\\n",
    "                                      .drop('features','rawPrediction','probability')\\\n",
    "                                      .toPandas()\n",
    "preds = test_preds.prob1\n",
    "y = test_preds.label\n",
    "plot_roc(y,preds)"
   ]
  },
  {
   "cell_type": "code",
   "execution_count": 127,
   "metadata": {},
   "outputs": [
    {
     "data": {
      "text/html": [
       "<div>\n",
       "<style scoped>\n",
       "    .dataframe tbody tr th:only-of-type {\n",
       "        vertical-align: middle;\n",
       "    }\n",
       "\n",
       "    .dataframe tbody tr th {\n",
       "        vertical-align: top;\n",
       "    }\n",
       "\n",
       "    .dataframe thead th {\n",
       "        text-align: right;\n",
       "    }\n",
       "</style>\n",
       "<table border=\"1\" class=\"dataframe\">\n",
       "  <thead>\n",
       "    <tr style=\"text-align: right;\">\n",
       "      <th></th>\n",
       "      <th>FeatureImportance</th>\n",
       "      <th>Names</th>\n",
       "    </tr>\n",
       "  </thead>\n",
       "  <tbody>\n",
       "    <tr>\n",
       "      <th>7</th>\n",
       "      <td>0.208740</td>\n",
       "      <td>countSong</td>\n",
       "    </tr>\n",
       "    <tr>\n",
       "      <th>1</th>\n",
       "      <td>0.157553</td>\n",
       "      <td>countThumbsDown</td>\n",
       "    </tr>\n",
       "    <tr>\n",
       "      <th>0</th>\n",
       "      <td>0.155859</td>\n",
       "      <td>countThumbsUp</td>\n",
       "    </tr>\n",
       "    <tr>\n",
       "      <th>3</th>\n",
       "      <td>0.122085</td>\n",
       "      <td>countLogins</td>\n",
       "    </tr>\n",
       "    <tr>\n",
       "      <th>8</th>\n",
       "      <td>0.097186</td>\n",
       "      <td>meanLevel</td>\n",
       "    </tr>\n",
       "    <tr>\n",
       "      <th>6</th>\n",
       "      <td>0.093070</td>\n",
       "      <td>countHelp</td>\n",
       "    </tr>\n",
       "    <tr>\n",
       "      <th>4</th>\n",
       "      <td>0.069811</td>\n",
       "      <td>countFriends</td>\n",
       "    </tr>\n",
       "    <tr>\n",
       "      <th>2</th>\n",
       "      <td>0.065981</td>\n",
       "      <td>totalThumbs</td>\n",
       "    </tr>\n",
       "    <tr>\n",
       "      <th>5</th>\n",
       "      <td>0.029715</td>\n",
       "      <td>countErrors</td>\n",
       "    </tr>\n",
       "  </tbody>\n",
       "</table>\n",
       "</div>"
      ],
      "text/plain": [
       "   FeatureImportance            Names\n",
       "7           0.208740        countSong\n",
       "1           0.157553  countThumbsDown\n",
       "0           0.155859    countThumbsUp\n",
       "3           0.122085      countLogins\n",
       "8           0.097186        meanLevel\n",
       "6           0.093070        countHelp\n",
       "4           0.069811     countFriends\n",
       "2           0.065981      totalThumbs\n",
       "5           0.029715      countErrors"
      ]
     },
     "execution_count": 127,
     "metadata": {},
     "output_type": "execute_result"
    }
   ],
   "source": [
    "featImps = model.featureImportances.toArray()\n",
    "varNames = ['countThumbsUp','countThumbsDown','totalThumbs','countLogins',\n",
    "            'countFriends','countErrors','countHelp','countSong','meanLevel']\n",
    "\n",
    "importance = pd.DataFrame({\"FeatureImportance\":featImps,\"Names\":varNames}).sort_values(\"FeatureImportance\")\n",
    "importance.sort_values(\"FeatureImportance\",ascending = False)"
   ]
  },
  {
   "cell_type": "code",
   "execution_count": 128,
   "metadata": {},
   "outputs": [
    {
     "data": {
      "image/png": "[encoded data removed]",
      "text/plain": [
       "<Figure size 432x288 with 1 Axes>"
      ]
     },
     "metadata": {
      "needs_background": "light"
     },
     "output_type": "display_data"
    }
   ],
   "source": [
    "y_pos = np.arange(len(importance.Names))\n",
    "\n",
    "plt.barh(y_pos, importance.FeatureImportance, align='center', alpha=0.5)\n",
    "plt.yticks(y_pos, importance.Names)\n",
    "plt.xlabel('Importance')\n",
    "plt.title('Feature Importance Plot GBTree without Feature Interactions')\n",
    "\n",
    "plt.show()"
   ]
  },
  {
   "cell_type": "code",
   "execution_count": null,
   "metadata": {},
   "outputs": [],
   "source": []
  }
 ],
 "metadata": {
  "kernelspec": {
   "display_name": "Python 3",
   "language": "python",
   "name": "python3"
  },
  "language_info": {
   "codemirror_mode": {
    "name": "ipython",
    "version": 3
   },
   "file_extension": ".py",
   "mimetype": "text/x-python",
   "name": "python",
   "nbconvert_exporter": "python",
   "pygments_lexer": "ipython3",
   "version": "3.7.3"
  }
 },
 "nbformat": 4,
 "nbformat_minor": 4
}
