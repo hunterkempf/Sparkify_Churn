{
 "cells": [
  {
   "cell_type": "markdown",
   "metadata": {},
   "source": [
    "# Sparkify Capstone Project"
   ]
  },
  {
   "cell_type": "markdown",
   "metadata": {},
   "source": [
    "First pip install pyspark if it is not already installed"
   ]
  },
  {
   "cell_type": "code",
   "execution_count": 1,
   "metadata": {},
   "outputs": [
    {
     "name": "stdout",
     "output_type": "stream",
     "text": [
      "Requirement already satisfied: pyspark in /anaconda3/lib/python3.7/site-packages (2.4.5)\r\n",
      "Requirement already satisfied: py4j==0.10.7 in /anaconda3/lib/python3.7/site-packages (from pyspark) (0.10.7)\r\n"
     ]
    }
   ],
   "source": [
    "!pip install pyspark"
   ]
  },
  {
   "cell_type": "markdown",
   "metadata": {},
   "source": [
    "We need to first load in the necessary pyspark libaries"
   ]
  },
  {
   "cell_type": "code",
   "execution_count": 2,
   "metadata": {},
   "outputs": [],
   "source": [
    "import pandas as pd\n",
    "import numpy as np\n",
    "import matplotlib.pyplot as plt\n",
    "import sklearn.metrics as metrics\n",
    "\n",
    "from pyspark.sql import SparkSession\n",
    "from pyspark.sql.functions import isnan, count, when, col, desc, udf, col, sort_array, asc, avg\n",
    "from pyspark.sql.functions import sum as _sum\n",
    "from pyspark.sql.types import FloatType\n",
    "\n",
    "from pyspark.ml.classification import LogisticRegression, DecisionTreeClassifier, GBTClassifier \n",
    "from pyspark.ml.evaluation import BinaryClassificationEvaluator\n",
    "from pyspark.ml.tuning import ParamGridBuilder, TrainValidationSplit\n",
    "from pyspark.ml.linalg import Vectors"
   ]
  },
  {
   "cell_type": "code",
   "execution_count": 3,
   "metadata": {},
   "outputs": [],
   "source": [
    "spark = SparkSession \\\n",
    "    .builder \\\n",
    "    .appName(\"Data Frames practice\") \\\n",
    "    .getOrCreate()\n",
    "\n",
    "user_event_data = spark.read.json(\"medium-sparkify-event-data.json\")"
   ]
  },
  {
   "cell_type": "markdown",
   "metadata": {},
   "source": [
    "# Data Exploration"
   ]
  },
  {
   "cell_type": "code",
   "execution_count": 4,
   "metadata": {},
   "outputs": [
    {
     "name": "stdout",
     "output_type": "stream",
     "text": [
      "root\n",
      " |-- artist: string (nullable = true)\n",
      " |-- auth: string (nullable = true)\n",
      " |-- firstName: string (nullable = true)\n",
      " |-- gender: string (nullable = true)\n",
      " |-- itemInSession: long (nullable = true)\n",
      " |-- lastName: string (nullable = true)\n",
      " |-- length: double (nullable = true)\n",
      " |-- level: string (nullable = true)\n",
      " |-- location: string (nullable = true)\n",
      " |-- method: string (nullable = true)\n",
      " |-- page: string (nullable = true)\n",
      " |-- registration: long (nullable = true)\n",
      " |-- sessionId: long (nullable = true)\n",
      " |-- song: string (nullable = true)\n",
      " |-- status: long (nullable = true)\n",
      " |-- ts: long (nullable = true)\n",
      " |-- userAgent: string (nullable = true)\n",
      " |-- userId: string (nullable = true)\n",
      "\n"
     ]
    }
   ],
   "source": [
    "user_event_data.printSchema()"
   ]
  },
  {
   "cell_type": "code",
   "execution_count": 5,
   "metadata": {},
   "outputs": [
    {
     "name": "stdout",
     "output_type": "stream",
     "text": [
      "+-------------+---------+---------+------+-------------+--------+---------+-----+------------------+------+--------+-------------+---------+-------------+------+-------------+--------------------+------+\n",
      "|       artist|     auth|firstName|gender|itemInSession|lastName|   length|level|          location|method|    page| registration|sessionId|         song|status|           ts|           userAgent|userId|\n",
      "+-------------+---------+---------+------+-------------+--------+---------+-----+------------------+------+--------+-------------+---------+-------------+------+-------------+--------------------+------+\n",
      "|Martin Orford|Logged In|   Joseph|     M|           20| Morales|597.55057| free|Corpus Christi, TX|   PUT|NextSong|1532063507000|      292|Grand Designs|   200|1538352011000|\"Mozilla/5.0 (Mac...|   293|\n",
      "+-------------+---------+---------+------+-------------+--------+---------+-----+------------------+------+--------+-------------+---------+-------------+------+-------------+--------------------+------+\n",
      "only showing top 1 row\n",
      "\n"
     ]
    }
   ],
   "source": [
    "user_event_data.show(1)"
   ]
  },
  {
   "cell_type": "code",
   "execution_count": 6,
   "metadata": {},
   "outputs": [
    {
     "data": {
      "text/plain": [
       "543705"
      ]
     },
     "execution_count": 6,
     "metadata": {},
     "output_type": "execute_result"
    }
   ],
   "source": [
    "user_event_data.count()"
   ]
  },
  {
   "cell_type": "markdown",
   "metadata": {},
   "source": [
    "### Most Visited Pages"
   ]
  },
  {
   "cell_type": "code",
   "execution_count": 7,
   "metadata": {},
   "outputs": [
    {
     "name": "stdout",
     "output_type": "stream",
     "text": [
      "+--------------------+------+\n",
      "|                page| count|\n",
      "+--------------------+------+\n",
      "|            NextSong|432877|\n",
      "|                Home| 27412|\n",
      "|           Thumbs Up| 23826|\n",
      "|     Add to Playlist| 12349|\n",
      "|          Add Friend|  8087|\n",
      "|         Roll Advert|  7773|\n",
      "|               Login|  6011|\n",
      "|              Logout|  5990|\n",
      "|         Thumbs Down|  4911|\n",
      "|           Downgrade|  3811|\n",
      "|                Help|  3150|\n",
      "|            Settings|  2964|\n",
      "|               About|  1855|\n",
      "|             Upgrade|   968|\n",
      "|       Save Settings|   585|\n",
      "|               Error|   519|\n",
      "|      Submit Upgrade|   287|\n",
      "|    Submit Downgrade|   117|\n",
      "|              Cancel|    99|\n",
      "|Cancellation Conf...|    99|\n",
      "|            Register|    11|\n",
      "| Submit Registration|     4|\n",
      "+--------------------+------+\n",
      "\n"
     ]
    }
   ],
   "source": [
    "user_event_data.groupBy('page') \\\n",
    "  .count()\\\n",
    "  .sort(desc(\"count\"))\\\n",
    "  .show(25)"
   ]
  },
  {
   "cell_type": "markdown",
   "metadata": {},
   "source": [
    "### User IDs\n",
    "Lets investigate how many users we have in the dataset and if there are any obvious things we need to clean up"
   ]
  },
  {
   "cell_type": "code",
   "execution_count": 8,
   "metadata": {},
   "outputs": [
    {
     "data": {
      "text/plain": [
       "449"
      ]
     },
     "execution_count": 8,
     "metadata": {},
     "output_type": "execute_result"
    }
   ],
   "source": [
    "user_event_data.select('userId')\\\n",
    "  .dropDuplicates()\\\n",
    "  .count()"
   ]
  },
  {
   "cell_type": "code",
   "execution_count": 9,
   "metadata": {},
   "outputs": [
    {
     "name": "stdout",
     "output_type": "stream",
     "text": [
      "+------+-----+\n",
      "|userId|count|\n",
      "+------+-----+\n",
      "|      |15700|\n",
      "|    92| 9767|\n",
      "|   140| 7448|\n",
      "|300049| 7309|\n",
      "|   101| 6842|\n",
      "+------+-----+\n",
      "only showing top 5 rows\n",
      "\n"
     ]
    }
   ],
   "source": [
    "user_event_data.groupBy('userId') \\\n",
    "  .count()\\\n",
    "  .sort(desc(\"count\"))\\\n",
    "  .show(5)"
   ]
  },
  {
   "cell_type": "markdown",
   "metadata": {},
   "source": [
    "It is clear that we have a blank userId that has a very high record count and it is going to have an affect on our results. Thus we need to investigate it and then determine if we can remove it from our dataset"
   ]
  },
  {
   "cell_type": "code",
   "execution_count": 10,
   "metadata": {},
   "outputs": [
    {
     "name": "stdout",
     "output_type": "stream",
     "text": [
      "+-------------------+-----+\n",
      "|               page|count|\n",
      "+-------------------+-----+\n",
      "|               Home| 8323|\n",
      "|              Login| 6011|\n",
      "|              About|  829|\n",
      "|               Help|  506|\n",
      "|              Error|   16|\n",
      "|           Register|   11|\n",
      "|Submit Registration|    4|\n",
      "+-------------------+-----+\n",
      "\n"
     ]
    }
   ],
   "source": [
    "user_event_data.filter(user_event_data.userId=='') \\\n",
    "  .groupBy('page') \\\n",
    "  .count()\\\n",
    "  .sort(desc(\"count\"))\\\n",
    "  .show()"
   ]
  },
  {
   "cell_type": "markdown",
   "metadata": {},
   "source": [
    "It appears that the blank User Id mostly is related to users that are visiting our Home page or Login page and will not be related in any meaningful way to our churn analysis"
   ]
  },
  {
   "cell_type": "code",
   "execution_count": 11,
   "metadata": {},
   "outputs": [],
   "source": [
    "user_event_valid_id = user_event_data.dropna(how = \"any\", subset = [\"userId\", \"sessionId\"])\n",
    "user_event_valid_id = user_event_valid_id.filter(user_event_valid_id[\"userId\"] != \"\")"
   ]
  },
  {
   "cell_type": "markdown",
   "metadata": {},
   "source": [
    "### Churned Users Counts"
   ]
  },
  {
   "cell_type": "code",
   "execution_count": 12,
   "metadata": {},
   "outputs": [
    {
     "name": "stdout",
     "output_type": "stream",
     "text": [
      "+------+-----+\n",
      "|gender|count|\n",
      "+------+-----+\n",
      "|     F|   45|\n",
      "|     M|   54|\n",
      "+------+-----+\n",
      "\n"
     ]
    }
   ],
   "source": [
    "user_event_valid_id.filter(user_event_valid_id.page=='Cancellation Confirmation') \\\n",
    "  .groupBy('gender') \\\n",
    "  .count()\\\n",
    "  .show(2)"
   ]
  },
  {
   "cell_type": "markdown",
   "metadata": {},
   "source": [
    "# Create Truth Set\n",
    "Determine the users that are cancelling their services (Churning) and label them as 1 and those that havent cancelled their service as 0"
   ]
  },
  {
   "cell_type": "code",
   "execution_count": 13,
   "metadata": {},
   "outputs": [],
   "source": [
    "labeled_df = user_event_valid_id.withColumn('churned', (when(col('page')== 'Cancellation Confirmation',1)\\\n",
    "                                                            .otherwise(0)))\n",
    "                                            "
   ]
  },
  {
   "cell_type": "code",
   "execution_count": 14,
   "metadata": {},
   "outputs": [],
   "source": [
    "user_labeled_df = labeled_df.groupby('userId')\\\n",
    "                       .agg(_sum('churned')\\\n",
    "                       .alias('churned'))"
   ]
  },
  {
   "cell_type": "code",
   "execution_count": 15,
   "metadata": {},
   "outputs": [
    {
     "name": "stdout",
     "output_type": "stream",
     "text": [
      "+------+-------+\n",
      "|userId|churned|\n",
      "+------+-------+\n",
      "|   296|      1|\n",
      "|100010|      1|\n",
      "+------+-------+\n",
      "only showing top 2 rows\n",
      "\n"
     ]
    }
   ],
   "source": [
    "user_labeled_df.show(2)"
   ]
  },
  {
   "cell_type": "code",
   "execution_count": 16,
   "metadata": {},
   "outputs": [
    {
     "name": "stdout",
     "output_type": "stream",
     "text": [
      "+-------+-----+\n",
      "|churned|count|\n",
      "+-------+-----+\n",
      "|      0|  349|\n",
      "|      1|   99|\n",
      "+-------+-----+\n",
      "\n"
     ]
    }
   ],
   "source": [
    "user_labeled_df.groupBy('churned')\\\n",
    "               .count()\\\n",
    "               .show()"
   ]
  },
  {
   "cell_type": "markdown",
   "metadata": {},
   "source": [
    "Out of our total number of 448 users 349 are subscribers and 99 are no longer subscribers and have churned. This is a bit unbalanced but not as bad as many fraud datasets. What is not ideal for a machine learning algorithm is that despite starting with what seemed to be a resonably large dataset of 543705 rows of logs there are effectively only 448 data points in our model. "
   ]
  },
  {
   "cell_type": "markdown",
   "metadata": {},
   "source": [
    "#### EDA Chart Churn by Gender"
   ]
  },
  {
   "cell_type": "code",
   "execution_count": 17,
   "metadata": {},
   "outputs": [],
   "source": [
    "eda = user_labeled_df.join(user_event_valid_id, on = 'userId')\\\n",
    "                        .select('userId','gender','churned')\\\n",
    "                        .dropDuplicates()\\\n",
    "                        .groupBy('gender','churned')\\\n",
    "                        .count()\\\n",
    "                        .toPandas()"
   ]
  },
  {
   "cell_type": "code",
   "execution_count": 18,
   "metadata": {},
   "outputs": [
    {
     "data": {
      "image/png": "[encoded data removed]",
      "text/plain": [
       "<Figure size 432x288 with 1 Axes>"
      ]
     },
     "metadata": {
      "needs_background": "light"
     },
     "output_type": "display_data"
    }
   ],
   "source": [
    "N = 2\n",
    "men_count = eda[eda.gender==\"M\"]['count']\n",
    "women_count = eda[eda.gender==\"F\"]['count']\n",
    "\n",
    "total_count = men_count.reset_index(drop = True) + women_count\n",
    "\n",
    "\n",
    "ind = np.arange(N) \n",
    "width = 0.35       \n",
    "plt.bar(ind, men_count, width, label='Men')\n",
    "plt.bar(ind + width, women_count, width,\n",
    "    label='Women')\n",
    "\n",
    "plt.ylabel('Scores')\n",
    "plt.xlabel('Churned')\n",
    "plt.title('Churn Count By Gender')\n",
    "\n",
    "plt.xticks(ind + width / 2, ('No', 'Yes'))\n",
    "plt.legend(loc='best')\n",
    "plt.show()"
   ]
  },
  {
   "cell_type": "code",
   "execution_count": 19,
   "metadata": {},
   "outputs": [
    {
     "data": {
      "text/plain": [
       "0    349\n",
       "1     99\n",
       "Name: count, dtype: int64"
      ]
     },
     "execution_count": 19,
     "metadata": {},
     "output_type": "execute_result"
    }
   ],
   "source": [
    "total_count"
   ]
  },
  {
   "cell_type": "code",
   "execution_count": 20,
   "metadata": {},
   "outputs": [
    {
     "data": {
      "text/plain": [
       "2    196\n",
       "3     54\n",
       "Name: count, dtype: int64"
      ]
     },
     "execution_count": 20,
     "metadata": {},
     "output_type": "execute_result"
    }
   ],
   "source": [
    "men_count"
   ]
  },
  {
   "cell_type": "code",
   "execution_count": 21,
   "metadata": {},
   "outputs": [
    {
     "data": {
      "text/plain": [
       "0    153\n",
       "1     45\n",
       "Name: count, dtype: int64"
      ]
     },
     "execution_count": 21,
     "metadata": {},
     "output_type": "execute_result"
    }
   ],
   "source": [
    "women_count"
   ]
  },
  {
   "cell_type": "markdown",
   "metadata": {},
   "source": [
    "# Generate User Behavior Features\n",
    "Now that we have the user truth values we need to generate aggregated features about the user behavior that we know before the user decides to churn. We will then use those features to predict if a user will churn based on their behavior. This will allow us to potentially keep more customers on our service and grow revenue and profit for the company."
   ]
  },
  {
   "cell_type": "markdown",
   "metadata": {},
   "source": [
    "## Feature 1 : Count of Thumbs:  up / down / total\n",
    "I think that the more a user gives songs thumbs up the less likely they are to churn and the more they give songs thumbs down the more likely they are to churn"
   ]
  },
  {
   "cell_type": "markdown",
   "metadata": {},
   "source": [
    "### 1.a countThumbsUp\n",
    "a count of the times a user has given a thumbs up"
   ]
  },
  {
   "cell_type": "code",
   "execution_count": 22,
   "metadata": {},
   "outputs": [],
   "source": [
    "# Thumbs Up\n",
    "labeled_df = labeled_df.withColumn('ThumbsUp', (when(col('page')== 'Thumbs Up',1)\\\n",
    "                                                            .otherwise(0)))\n",
    "user_thumbsUp_df = labeled_df.groupby('userId')\\\n",
    "                       .agg(_sum('ThumbsUp')\\\n",
    "                       .alias('countThumbsUp'))"
   ]
  },
  {
   "cell_type": "markdown",
   "metadata": {},
   "source": [
    "##### Feature Summary"
   ]
  },
  {
   "cell_type": "code",
   "execution_count": 23,
   "metadata": {},
   "outputs": [
    {
     "name": "stdout",
     "output_type": "stream",
     "text": [
      "+-------+------------------+\n",
      "|summary|     countThumbsUp|\n",
      "+-------+------------------+\n",
      "|  count|               448|\n",
      "|   mean|53.183035714285715|\n",
      "| stddev| 69.65210755898286|\n",
      "|    min|                 0|\n",
      "|    max|               506|\n",
      "+-------+------------------+\n",
      "\n"
     ]
    }
   ],
   "source": [
    "user_thumbsUp_df.dropDuplicates()\\\n",
    "                .describe('countThumbsUp')\\\n",
    "                .show()"
   ]
  },
  {
   "cell_type": "code",
   "execution_count": 24,
   "metadata": {},
   "outputs": [
    {
     "name": "stdout",
     "output_type": "stream",
     "text": [
      "+------+-------+-------------+\n",
      "|userId|churned|countThumbsUp|\n",
      "+------+-------+-------------+\n",
      "|100010|      1|            4|\n",
      "|200002|      1|           15|\n",
      "|   296|      1|            8|\n",
      "|   125|      0|            3|\n",
      "|   124|      1|          102|\n",
      "+------+-------+-------------+\n",
      "only showing top 5 rows\n",
      "\n"
     ]
    }
   ],
   "source": [
    "# Join data back to our user dataframe\n",
    "user_labeled_df = user_labeled_df.join(user_thumbsUp_df, 'userId')\n",
    "user_labeled_df.show(5)"
   ]
  },
  {
   "cell_type": "markdown",
   "metadata": {},
   "source": [
    "#### EDA of Count of Thumbs Up"
   ]
  },
  {
   "cell_type": "code",
   "execution_count": 25,
   "metadata": {},
   "outputs": [
    {
     "data": {
      "image/png": "[encoded data removed]",
      "text/plain": [
       "<Figure size 432x288 with 1 Axes>"
      ]
     },
     "metadata": {
      "needs_background": "light"
     },
     "output_type": "display_data"
    },
    {
     "name": "stdout",
     "output_type": "stream",
     "text": [
      "Median for Active subscribers: 31.0\n",
      "Median for Churned subscribers: 17.0\n"
     ]
    }
   ],
   "source": [
    "eda = user_labeled_df.toPandas()\n",
    "churn = eda[eda.churned==1]\n",
    "noChurn = eda[eda.churned==0]\n",
    "\n",
    "plot_dict = {'Active': noChurn.countThumbsUp.values, 'Churned': churn.countThumbsUp.values}\n",
    "plt.boxplot(plot_dict.values())\n",
    "\n",
    "plt.title(\"EDA for countThumbsUp\")\n",
    "plt.xticks([1,2],plot_dict.keys())\n",
    "plt.ylabel(\"Count of Thumbs Up Ratings\")\n",
    "plt.show()\n",
    "print(\"Median for Active subscribers:\",round(np.median(noChurn.countThumbsUp.values),3))\n",
    "print(\"Median for Churned subscribers:\",round(np.median(churn.countThumbsUp.values),3))"
   ]
  },
  {
   "cell_type": "markdown",
   "metadata": {},
   "source": [
    "### 1.b countThumbsDown\n",
    "a count of the times a user has given a thumbs down"
   ]
  },
  {
   "cell_type": "code",
   "execution_count": 26,
   "metadata": {},
   "outputs": [],
   "source": [
    "# Thumbs Down\n",
    "labeled_df = labeled_df.withColumn('ThumbsDown', (when(col('page')== 'Thumbs Down',1)\\\n",
    "                                                            .otherwise(0)))\n",
    "user_thumbsDown_df = labeled_df.groupby('userId')\\\n",
    "                       .agg(_sum('ThumbsDown')\\\n",
    "                       .alias('countThumbsDown'))"
   ]
  },
  {
   "cell_type": "markdown",
   "metadata": {},
   "source": [
    "##### Feature Summary"
   ]
  },
  {
   "cell_type": "code",
   "execution_count": 27,
   "metadata": {},
   "outputs": [
    {
     "name": "stdout",
     "output_type": "stream",
     "text": [
      "+-------+------------------+\n",
      "|summary|   countThumbsDown|\n",
      "+-------+------------------+\n",
      "|  count|               448|\n",
      "|   mean|10.962053571428571|\n",
      "| stddev|13.356609011067468|\n",
      "|    min|                 0|\n",
      "|    max|                80|\n",
      "+-------+------------------+\n",
      "\n"
     ]
    }
   ],
   "source": [
    "user_thumbsDown_df.dropDuplicates()\\\n",
    "                .describe('countThumbsDown')\\\n",
    "                .show()"
   ]
  },
  {
   "cell_type": "code",
   "execution_count": 28,
   "metadata": {},
   "outputs": [
    {
     "name": "stdout",
     "output_type": "stream",
     "text": [
      "+------+-------+-------------+---------------+\n",
      "|userId|churned|countThumbsUp|countThumbsDown|\n",
      "+------+-------+-------------+---------------+\n",
      "|100010|      1|            4|              3|\n",
      "|200002|      1|           15|              5|\n",
      "|   296|      1|            8|              0|\n",
      "|   125|      0|            3|              1|\n",
      "|   124|      1|          102|             15|\n",
      "+------+-------+-------------+---------------+\n",
      "only showing top 5 rows\n",
      "\n"
     ]
    }
   ],
   "source": [
    "# Join data back to our user dataframe\n",
    "user_labeled_df = user_labeled_df.join(user_thumbsDown_df, 'userId')\n",
    "user_labeled_df.show(5)"
   ]
  },
  {
   "cell_type": "markdown",
   "metadata": {},
   "source": [
    "#### EDA of Count of Thumbs Down"
   ]
  },
  {
   "cell_type": "code",
   "execution_count": 29,
   "metadata": {},
   "outputs": [
    {
     "data": {
      "image/png": "[encoded data removed]",
      "text/plain": [
       "<Figure size 432x288 with 1 Axes>"
      ]
     },
     "metadata": {
      "needs_background": "light"
     },
     "output_type": "display_data"
    },
    {
     "name": "stdout",
     "output_type": "stream",
     "text": [
      "Median for Active subscribers: 6.0\n",
      "Median for Churned subscribers: 7.0\n"
     ]
    }
   ],
   "source": [
    "eda = user_labeled_df.toPandas()\n",
    "churn = eda[eda.churned==1]\n",
    "noChurn = eda[eda.churned==0]\n",
    "\n",
    "plot_dict = {'Active': noChurn.countThumbsDown.values, 'Churned': churn.countThumbsDown.values}\n",
    "plt.boxplot(plot_dict.values())\n",
    "\n",
    "plt.title(\"EDA for countThumbsDown\")\n",
    "plt.xticks([1,2],plot_dict.keys())\n",
    "plt.ylabel(\"Count of Thumbs Down Ratings\")\n",
    "plt.show()\n",
    "print(\"Median for Active subscribers:\",round(np.median(noChurn.countThumbsDown.values),3))\n",
    "print(\"Median for Churned subscribers:\",round(np.median(churn.countThumbsDown.values),3))"
   ]
  },
  {
   "cell_type": "markdown",
   "metadata": {},
   "source": [
    "#### EDA Chart Churn and Count of Thumbs Up / Thumbs Down"
   ]
  },
  {
   "cell_type": "code",
   "execution_count": 30,
   "metadata": {},
   "outputs": [
    {
     "data": {
      "image/png": "[encoded data removed]",
      "text/plain": [
       "<Figure size 432x288 with 1 Axes>"
      ]
     },
     "metadata": {
      "needs_background": "light"
     },
     "output_type": "display_data"
    }
   ],
   "source": [
    "eda = user_labeled_df.toPandas()\n",
    "churn = eda[eda.churned==1]\n",
    "noChurn = eda[eda.churned==0]\n",
    "\n",
    "plt.scatter(noChurn.countThumbsUp,noChurn.countThumbsDown,color='gray',label='Active')\n",
    "plt.scatter(churn.countThumbsUp,churn.countThumbsDown,color='red',label='Churned')\n",
    "\n",
    "plt.ylabel('Thumbs Down')\n",
    "plt.xlabel('Thumbs Up')\n",
    "plt.title('User Song Rating vs Churn')\n",
    "plt.legend(loc='lower right')\n",
    "plt.show()"
   ]
  },
  {
   "cell_type": "markdown",
   "metadata": {},
   "source": [
    "### 1.c Total Thumbs\n",
    "Another easy feature to add is total between thumbs up and thumbs down. This can allow us to create percentage based features for users that are"
   ]
  },
  {
   "cell_type": "code",
   "execution_count": 31,
   "metadata": {},
   "outputs": [
    {
     "name": "stdout",
     "output_type": "stream",
     "text": [
      "+------+-------+-------------+---------------+-----------+\n",
      "|userId|churned|countThumbsUp|countThumbsDown|totalThumbs|\n",
      "+------+-------+-------------+---------------+-----------+\n",
      "|100010|      1|            4|              3|          7|\n",
      "|200002|      1|           15|              5|         20|\n",
      "|   296|      1|            8|              0|          8|\n",
      "|   125|      0|            3|              1|          4|\n",
      "|   124|      1|          102|             15|        117|\n",
      "+------+-------+-------------+---------------+-----------+\n",
      "only showing top 5 rows\n",
      "\n"
     ]
    }
   ],
   "source": [
    "user_labeled_df = user_labeled_df.withColumn('totalThumbs',user_labeled_df.countThumbsUp + user_labeled_df.countThumbsDown)\n",
    "user_labeled_df.show(5)"
   ]
  },
  {
   "cell_type": "markdown",
   "metadata": {},
   "source": [
    "##### Feature Summary"
   ]
  },
  {
   "cell_type": "code",
   "execution_count": 32,
   "metadata": {},
   "outputs": [
    {
     "name": "stdout",
     "output_type": "stream",
     "text": [
      "+-------+-----------------+\n",
      "|summary|      totalThumbs|\n",
      "+-------+-----------------+\n",
      "|  count|              448|\n",
      "|   mean|64.14508928571429|\n",
      "| stddev|80.93833885241825|\n",
      "|    min|                0|\n",
      "|    max|              576|\n",
      "+-------+-----------------+\n",
      "\n"
     ]
    }
   ],
   "source": [
    "user_labeled_df.describe('totalThumbs')\\\n",
    "               .show()"
   ]
  },
  {
   "cell_type": "markdown",
   "metadata": {},
   "source": [
    "#### EDA Chart Churn and Count of Logins"
   ]
  },
  {
   "cell_type": "code",
   "execution_count": 33,
   "metadata": {},
   "outputs": [
    {
     "data": {
      "image/png": "[encoded data removed]",
      "text/plain": [
       "<Figure size 432x288 with 1 Axes>"
      ]
     },
     "metadata": {
      "needs_background": "light"
     },
     "output_type": "display_data"
    },
    {
     "name": "stdout",
     "output_type": "stream",
     "text": [
      "Median for Active subscribers: 38.0\n",
      "Median for Churned subscribers: 25.0\n"
     ]
    }
   ],
   "source": [
    "eda = user_labeled_df.toPandas()\n",
    "churn = eda[eda.churned==1]\n",
    "noChurn = eda[eda.churned==0]\n",
    "\n",
    "plot_dict = {'Active': noChurn.totalThumbs.values, 'Churned': churn.totalThumbs.values}\n",
    "plt.boxplot(plot_dict.values())\n",
    "\n",
    "plt.title(\"EDA for totalThumbs\")\n",
    "plt.xticks([1,2],plot_dict.keys())\n",
    "plt.ylabel(\"Count of Total Song Ratings\")\n",
    "plt.show()\n",
    "print(\"Median for Active subscribers:\",round(np.median(noChurn.totalThumbs.values),3))\n",
    "print(\"Median for Churned subscribers:\",round(np.median(churn.totalThumbs.values),3))"
   ]
  },
  {
   "cell_type": "markdown",
   "metadata": {},
   "source": [
    "## Feature 2 : Number of Logins\n",
    "I assume that the more a user engages with the service the more likely they are to not churn"
   ]
  },
  {
   "cell_type": "code",
   "execution_count": 34,
   "metadata": {},
   "outputs": [],
   "source": [
    "\n",
    "num_logins_df = user_event_valid_id\\\n",
    "                   .select('userId','sessionId')\\\n",
    "                   .dropDuplicates()\\\n",
    "                   .groupBy('userId')\\\n",
    "                   .count()\\\n",
    "                   .withColumnRenamed(\"count\",\"countLogins\")"
   ]
  },
  {
   "cell_type": "markdown",
   "metadata": {},
   "source": [
    "##### Feature Summary"
   ]
  },
  {
   "cell_type": "code",
   "execution_count": 35,
   "metadata": {},
   "outputs": [
    {
     "name": "stdout",
     "output_type": "stream",
     "text": [
      "+-------+------------------+\n",
      "|summary|       countLogins|\n",
      "+-------+------------------+\n",
      "|  count|               448|\n",
      "|   mean|13.571428571428571|\n",
      "| stddev|13.171023911802262|\n",
      "|    min|                 1|\n",
      "|    max|                92|\n",
      "+-------+------------------+\n",
      "\n"
     ]
    }
   ],
   "source": [
    "num_logins_df.describe('countLogins')\\\n",
    "             .show()"
   ]
  },
  {
   "cell_type": "code",
   "execution_count": 36,
   "metadata": {},
   "outputs": [
    {
     "name": "stdout",
     "output_type": "stream",
     "text": [
      "+------+-------+-------------+---------------+-----------+-----------+\n",
      "|userId|churned|countThumbsUp|countThumbsDown|totalThumbs|countLogins|\n",
      "+------+-------+-------------+---------------+-----------+-----------+\n",
      "|100010|      1|            4|              3|          7|          2|\n",
      "|200002|      1|           15|              5|         20|          5|\n",
      "|   296|      1|            8|              0|          8|          5|\n",
      "|   125|      0|            3|              1|          4|          3|\n",
      "|   124|      1|          102|             15|        117|         17|\n",
      "+------+-------+-------------+---------------+-----------+-----------+\n",
      "only showing top 5 rows\n",
      "\n"
     ]
    }
   ],
   "source": [
    "# Join data back to our user dataframe\n",
    "user_labeled_df = user_labeled_df.join(num_logins_df, 'userId')\n",
    "user_labeled_df.show(5)"
   ]
  },
  {
   "cell_type": "markdown",
   "metadata": {},
   "source": [
    "#### EDA Chart Churn and Count of Total Ratings"
   ]
  },
  {
   "cell_type": "code",
   "execution_count": 37,
   "metadata": {},
   "outputs": [
    {
     "data": {
      "image/png": "[encoded data removed]",
      "text/plain": [
       "<Figure size 432x288 with 1 Axes>"
      ]
     },
     "metadata": {
      "needs_background": "light"
     },
     "output_type": "display_data"
    },
    {
     "name": "stdout",
     "output_type": "stream",
     "text": [
      "Median for Active subscribers: 10.0\n",
      "Median for Churned subscribers: 8.0\n"
     ]
    }
   ],
   "source": [
    "eda = user_labeled_df.toPandas()\n",
    "churn = eda[eda.churned==1]\n",
    "noChurn = eda[eda.churned==0]\n",
    "\n",
    "plot_dict = {'Active': noChurn.countLogins.values, 'Churned': churn.countLogins.values}\n",
    "plt.boxplot(plot_dict.values())\n",
    "\n",
    "plt.title(\"EDA for countLogins\")\n",
    "plt.xticks([1,2],plot_dict.keys())\n",
    "plt.ylabel(\"Count of Logins\")\n",
    "plt.show()\n",
    "print(\"Median for Active subscribers:\",round(np.median(noChurn.countLogins.values),3))\n",
    "print(\"Median for Churned subscribers:\",round(np.median(churn.countLogins.values),3))"
   ]
  },
  {
   "cell_type": "markdown",
   "metadata": {},
   "source": [
    "## Feature 3 : Number of Friends\n",
    "I assume that the more friends a user has the more likely they will stay on our service. "
   ]
  },
  {
   "cell_type": "code",
   "execution_count": 38,
   "metadata": {},
   "outputs": [],
   "source": [
    "num_friends_df = user_event_valid_id\\\n",
    "                   .filter(user_event_valid_id.page==\"Add Friend\")\\\n",
    "                   .groupBy('userId')\\\n",
    "                   .count()\\\n",
    "                   .withColumnRenamed(\"count\",\"countFriends\")"
   ]
  },
  {
   "cell_type": "markdown",
   "metadata": {},
   "source": [
    "##### Feature Summary"
   ]
  },
  {
   "cell_type": "code",
   "execution_count": 39,
   "metadata": {},
   "outputs": [
    {
     "name": "stdout",
     "output_type": "stream",
     "text": [
      "+-------+------------------+\n",
      "|summary|      countFriends|\n",
      "+-------+------------------+\n",
      "|  count|               409|\n",
      "|   mean|19.772616136919314|\n",
      "| stddev|22.494435766272833|\n",
      "|    min|                 1|\n",
      "|    max|               158|\n",
      "+-------+------------------+\n",
      "\n"
     ]
    }
   ],
   "source": [
    "num_friends_df.describe('countFriends')\\\n",
    "              .show()"
   ]
  },
  {
   "cell_type": "code",
   "execution_count": 40,
   "metadata": {},
   "outputs": [
    {
     "name": "stdout",
     "output_type": "stream",
     "text": [
      "+------+-------+-------------+---------------+-----------+-----------+------------+\n",
      "|userId|churned|countThumbsUp|countThumbsDown|totalThumbs|countLogins|countFriends|\n",
      "+------+-------+-------------+---------------+-----------+-----------+------------+\n",
      "|100010|      1|            4|              3|          7|          2|           3|\n",
      "|200002|      1|           15|              5|         20|          5|           2|\n",
      "|   296|      1|            8|              0|          8|          5|           2|\n",
      "|   125|      0|            3|              1|          4|          3|           3|\n",
      "|   124|      1|          102|             15|        117|         17|          26|\n",
      "+------+-------+-------------+---------------+-----------+-----------+------------+\n",
      "only showing top 5 rows\n",
      "\n"
     ]
    }
   ],
   "source": [
    "# Join data back to our user dataframe\n",
    "user_labeled_df = user_labeled_df.join(num_friends_df, 'userId', how='left').fillna(0)\n",
    "user_labeled_df.show(5)"
   ]
  },
  {
   "cell_type": "markdown",
   "metadata": {},
   "source": [
    "#### EDA Chart Churn and Number of Friends"
   ]
  },
  {
   "cell_type": "code",
   "execution_count": 41,
   "metadata": {},
   "outputs": [
    {
     "data": {
      "image/png": "[encoded data removed]",
      "text/plain": [
       "<Figure size 432x288 with 1 Axes>"
      ]
     },
     "metadata": {
      "needs_background": "light"
     },
     "output_type": "display_data"
    },
    {
     "name": "stdout",
     "output_type": "stream",
     "text": [
      "Median Active subscribers: 11.0\n",
      "Median Churned subscribers: 9.0\n"
     ]
    }
   ],
   "source": [
    "eda = user_labeled_df.toPandas()\n",
    "churn = eda[eda.churned==1]\n",
    "noChurn = eda[eda.churned==0]\n",
    "\n",
    "plot_dict = {'Active': noChurn.countFriends.values, 'Churned': churn.countFriends.values}\n",
    "plt.boxplot(plot_dict.values())\n",
    "\n",
    "plt.title(\"EDA for countFriends\")\n",
    "plt.xticks([1,2],plot_dict.keys())\n",
    "plt.ylabel(\"Number of Friends\")\n",
    "plt.show()\n",
    "print(\"Median Active subscribers:\",round(np.median(noChurn.countFriends.values),3))\n",
    "print(\"Median Churned subscribers:\",round(np.median(churn.countFriends.values),3))"
   ]
  },
  {
   "cell_type": "markdown",
   "metadata": {},
   "source": [
    "## Feature 4 : Number of Errors\n",
    "I assume that the more errors a user faces especially compared to the number of songs they listen to the more likely they are to churn"
   ]
  },
  {
   "cell_type": "code",
   "execution_count": 42,
   "metadata": {},
   "outputs": [],
   "source": [
    "num_errors_df = user_event_valid_id\\\n",
    "                   .filter(user_event_valid_id.page==\"Error\")\\\n",
    "                   .groupBy('userId')\\\n",
    "                   .count()\\\n",
    "                   .withColumnRenamed(\"count\",\"countErrors\")"
   ]
  },
  {
   "cell_type": "markdown",
   "metadata": {},
   "source": [
    "##### Feature Summary"
   ]
  },
  {
   "cell_type": "code",
   "execution_count": 43,
   "metadata": {},
   "outputs": [
    {
     "name": "stdout",
     "output_type": "stream",
     "text": [
      "+-------+------------------+\n",
      "|summary|       countErrors|\n",
      "+-------+------------------+\n",
      "|  count|               223|\n",
      "|   mean|2.2556053811659194|\n",
      "| stddev|1.7686337339924163|\n",
      "|    min|                 1|\n",
      "|    max|                13|\n",
      "+-------+------------------+\n",
      "\n"
     ]
    }
   ],
   "source": [
    "num_errors_df.describe('countErrors')\\\n",
    "              .show()"
   ]
  },
  {
   "cell_type": "code",
   "execution_count": 44,
   "metadata": {},
   "outputs": [
    {
     "name": "stdout",
     "output_type": "stream",
     "text": [
      "+------+-------+-------------+---------------+-----------+-----------+------------+-----------+\n",
      "|userId|churned|countThumbsUp|countThumbsDown|totalThumbs|countLogins|countFriends|countErrors|\n",
      "+------+-------+-------------+---------------+-----------+-----------+------------+-----------+\n",
      "|100010|      1|            4|              3|          7|          2|           3|          0|\n",
      "|200002|      1|           15|              5|         20|          5|           2|          0|\n",
      "|   296|      1|            8|              0|          8|          5|           2|          0|\n",
      "|   125|      0|            3|              1|          4|          3|           3|          0|\n",
      "|   124|      1|          102|             15|        117|         17|          26|          0|\n",
      "+------+-------+-------------+---------------+-----------+-----------+------------+-----------+\n",
      "only showing top 5 rows\n",
      "\n"
     ]
    }
   ],
   "source": [
    "# Join data back to our user dataframe\n",
    "user_labeled_df = user_labeled_df.join(num_errors_df, 'userId', how='left').fillna(0)\n",
    "user_labeled_df.show(5)"
   ]
  },
  {
   "cell_type": "markdown",
   "metadata": {},
   "source": [
    "#### EDA Chart Churn and Count of Errors"
   ]
  },
  {
   "cell_type": "code",
   "execution_count": 45,
   "metadata": {},
   "outputs": [
    {
     "data": {
      "image/png": "[encoded data removed]",
      "text/plain": [
       "<Figure size 432x288 with 1 Axes>"
      ]
     },
     "metadata": {
      "needs_background": "light"
     },
     "output_type": "display_data"
    },
    {
     "name": "stdout",
     "output_type": "stream",
     "text": [
      "Median for Active subscribers: 1.0\n",
      "Median for Churned subscribers: 0.0\n"
     ]
    }
   ],
   "source": [
    "eda = user_labeled_df.toPandas()\n",
    "churn = eda[eda.churned==1]\n",
    "noChurn = eda[eda.churned==0]\n",
    "\n",
    "plot_dict = {'Active': noChurn.countErrors.values, 'Churned': churn.countErrors.values}\n",
    "plt.boxplot(plot_dict.values())\n",
    "\n",
    "plt.title(\"EDA for countErrors\")\n",
    "plt.xticks([1,2],plot_dict.keys())\n",
    "plt.ylabel(\"Count of Errors\")\n",
    "plt.show()\n",
    "print(\"Median for Active subscribers:\",round(np.median(noChurn.countErrors.values),3))\n",
    "print(\"Median for Churned subscribers:\",round(np.median(churn.countErrors.values),3))"
   ]
  },
  {
   "cell_type": "markdown",
   "metadata": {},
   "source": [
    "## Feature 5 : Number of visits to the help page\n",
    "I assume that the more visits to the help page the more likely a user is to be having trouble with the service and is thus more likely to leave"
   ]
  },
  {
   "cell_type": "code",
   "execution_count": 46,
   "metadata": {},
   "outputs": [],
   "source": [
    "num_help_df = user_event_valid_id\\\n",
    "                   .filter(user_event_valid_id.page==\"Help\")\\\n",
    "                   .groupBy('userId')\\\n",
    "                   .count()\\\n",
    "                   .withColumnRenamed(\"count\",\"countHelp\")"
   ]
  },
  {
   "cell_type": "markdown",
   "metadata": {},
   "source": [
    "##### Feature Summary"
   ]
  },
  {
   "cell_type": "code",
   "execution_count": 47,
   "metadata": {},
   "outputs": [
    {
     "name": "stdout",
     "output_type": "stream",
     "text": [
      "+-------+-----------------+\n",
      "|summary|        countHelp|\n",
      "+-------+-----------------+\n",
      "|  count|              360|\n",
      "|   mean|7.344444444444444|\n",
      "| stddev|7.482065630371307|\n",
      "|    min|                1|\n",
      "|    max|               62|\n",
      "+-------+-----------------+\n",
      "\n"
     ]
    }
   ],
   "source": [
    "num_help_df.describe('countHelp')\\\n",
    "              .show()"
   ]
  },
  {
   "cell_type": "code",
   "execution_count": 48,
   "metadata": {},
   "outputs": [
    {
     "name": "stdout",
     "output_type": "stream",
     "text": [
      "+------+-------+-------------+---------------+-----------+-----------+------------+-----------+---------+\n",
      "|userId|churned|countThumbsUp|countThumbsDown|totalThumbs|countLogins|countFriends|countErrors|countHelp|\n",
      "+------+-------+-------------+---------------+-----------+-----------+------------+-----------+---------+\n",
      "|100010|      1|            4|              3|          7|          2|           3|          0|        0|\n",
      "|200002|      1|           15|              5|         20|          5|           2|          0|        1|\n",
      "|   296|      1|            8|              0|          8|          5|           2|          0|        2|\n",
      "|   125|      0|            3|              1|          4|          3|           3|          0|        2|\n",
      "|   124|      1|          102|             15|        117|         17|          26|          0|       10|\n",
      "+------+-------+-------------+---------------+-----------+-----------+------------+-----------+---------+\n",
      "only showing top 5 rows\n",
      "\n"
     ]
    }
   ],
   "source": [
    "# Join data back to our user dataframe\n",
    "user_labeled_df = user_labeled_df.join(num_help_df, 'userId', how='left').fillna(0)\n",
    "user_labeled_df.show(5)"
   ]
  },
  {
   "cell_type": "markdown",
   "metadata": {},
   "source": [
    "#### EDA Chart Churn and Count of Help Page Visits"
   ]
  },
  {
   "cell_type": "code",
   "execution_count": 49,
   "metadata": {},
   "outputs": [
    {
     "data": {
      "image/png": "[encoded data removed]",
      "text/plain": [
       "<Figure size 432x288 with 1 Axes>"
      ]
     },
     "metadata": {
      "needs_background": "light"
     },
     "output_type": "display_data"
    },
    {
     "name": "stdout",
     "output_type": "stream",
     "text": [
      "Median for Active subscribers: 3.0\n",
      "Median for Churned subscribers: 3.0\n"
     ]
    }
   ],
   "source": [
    "eda = user_labeled_df.toPandas()\n",
    "churn = eda[eda.churned==1]\n",
    "noChurn = eda[eda.churned==0]\n",
    "\n",
    "plot_dict = {'Active': noChurn.countHelp.values, 'Churned': churn.countHelp.values}\n",
    "plt.boxplot(plot_dict.values())\n",
    "\n",
    "plt.title(\"EDA for countHelp\")\n",
    "plt.xticks([1,2],plot_dict.keys())\n",
    "plt.ylabel(\"Count of Help Page Visits\")\n",
    "plt.show()\n",
    "print(\"Median for Active subscribers:\",round(np.median(noChurn.countHelp.values),3))\n",
    "print(\"Median for Churned subscribers:\",round(np.median(churn.countHelp.values),3))"
   ]
  },
  {
   "cell_type": "markdown",
   "metadata": {},
   "source": [
    "## Feature 6 : Number of Songs\n",
    "If a user listens to a lot of songs they are likely to be engaged and probably enjoy using the service"
   ]
  },
  {
   "cell_type": "code",
   "execution_count": 50,
   "metadata": {},
   "outputs": [],
   "source": [
    "num_songs_df = user_event_valid_id\\\n",
    "                   .select('userId','song')\\\n",
    "                   .groupBy('userId')\\\n",
    "                   .count()\\\n",
    "                   .withColumnRenamed(\"count\",\"countSong\")"
   ]
  },
  {
   "cell_type": "markdown",
   "metadata": {},
   "source": [
    "#### Feature Summary"
   ]
  },
  {
   "cell_type": "code",
   "execution_count": 51,
   "metadata": {},
   "outputs": [
    {
     "name": "stdout",
     "output_type": "stream",
     "text": [
      "+-------+------------------+\n",
      "|summary|         countSong|\n",
      "+-------+------------------+\n",
      "|  count|               448|\n",
      "|   mean|1178.5825892857142|\n",
      "| stddev|1380.6279647524045|\n",
      "|    min|                 3|\n",
      "|    max|              9767|\n",
      "+-------+------------------+\n",
      "\n"
     ]
    }
   ],
   "source": [
    "num_songs_df.describe('countSong')\\\n",
    "              .show()"
   ]
  },
  {
   "cell_type": "code",
   "execution_count": 52,
   "metadata": {},
   "outputs": [],
   "source": [
    "# Join data back to our user dataframe\n",
    "user_labeled_df = user_labeled_df.join(num_songs_df, 'userId')"
   ]
  },
  {
   "cell_type": "markdown",
   "metadata": {},
   "source": [
    "#### EDA Chart Churn and Count of Songs A User Has Listened To"
   ]
  },
  {
   "cell_type": "code",
   "execution_count": 53,
   "metadata": {},
   "outputs": [
    {
     "data": {
      "image/png": "[encoded data removed]",
      "text/plain": [
       "<Figure size 432x288 with 1 Axes>"
      ]
     },
     "metadata": {
      "needs_background": "light"
     },
     "output_type": "display_data"
    },
    {
     "name": "stdout",
     "output_type": "stream",
     "text": [
      "Median for Active subscribers: 756.0\n",
      "Median for Churned subscribers: 558.0\n"
     ]
    }
   ],
   "source": [
    "eda = user_labeled_df.toPandas()\n",
    "churn = eda[eda.churned==1]\n",
    "noChurn = eda[eda.churned==0]\n",
    "\n",
    "plot_dict = {'Active': noChurn.countSong.values, 'Churned': churn.countSong.values}\n",
    "plt.boxplot(plot_dict.values())\n",
    "\n",
    "plt.title(\"EDA for countSong\")\n",
    "plt.xticks([1,2],plot_dict.keys())\n",
    "plt.ylabel(\"Count of Songs Listened To\")\n",
    "plt.show()\n",
    "print(\"Median for Active subscribers:\",round(np.median(noChurn.countSong.values),3))\n",
    "print(\"Median for Churned subscribers:\",round(np.median(churn.countSong.values),3))"
   ]
  },
  {
   "cell_type": "markdown",
   "metadata": {},
   "source": [
    "## Feature 7 : Percent of Sessions Paid vs Free\n"
   ]
  },
  {
   "cell_type": "code",
   "execution_count": 54,
   "metadata": {},
   "outputs": [],
   "source": [
    "mean_level_df = user_event_valid_id\\\n",
    "                   .select('userId','level')\\\n",
    "                   .withColumn('levelBinary', (when(col('level')== 'free',0)\\\n",
    "                                                            .otherwise(1)))\\\n",
    "                   .groupBy('userId')\\\n",
    "                   .agg(avg('levelBinary')\\\n",
    "                       .alias('meanLevel'))"
   ]
  },
  {
   "cell_type": "markdown",
   "metadata": {},
   "source": [
    "#### Feature Summary"
   ]
  },
  {
   "cell_type": "code",
   "execution_count": 55,
   "metadata": {},
   "outputs": [
    {
     "name": "stdout",
     "output_type": "stream",
     "text": [
      "+-------+-------------------+\n",
      "|summary|          meanLevel|\n",
      "+-------+-------------------+\n",
      "|  count|                448|\n",
      "|   mean| 0.5608038780418371|\n",
      "| stddev|0.41286879860171066|\n",
      "|    min|                0.0|\n",
      "|    max|                1.0|\n",
      "+-------+-------------------+\n",
      "\n"
     ]
    }
   ],
   "source": [
    "mean_level_df.describe('meanLevel')\\\n",
    "              .show()"
   ]
  },
  {
   "cell_type": "code",
   "execution_count": 56,
   "metadata": {},
   "outputs": [],
   "source": [
    "# Join data back to our user dataframe\n",
    "user_labeled_df = user_labeled_df.join(mean_level_df, 'userId')"
   ]
  },
  {
   "cell_type": "markdown",
   "metadata": {},
   "source": [
    "#### EDA Chart Churn and Percent of Time on Paid vs Free Subscription"
   ]
  },
  {
   "cell_type": "code",
   "execution_count": 57,
   "metadata": {},
   "outputs": [
    {
     "data": {
      "image/png": "[encoded data removed]",
      "text/plain": [
       "<Figure size 432x288 with 1 Axes>"
      ]
     },
     "metadata": {
      "needs_background": "light"
     },
     "output_type": "display_data"
    },
    {
     "name": "stdout",
     "output_type": "stream",
     "text": [
      "Median for Active subscribers: 0.746\n",
      "Median for Churned subscribers: 0.677\n"
     ]
    }
   ],
   "source": [
    "eda = user_labeled_df.toPandas()\n",
    "churn = eda[eda.churned==1]\n",
    "noChurn = eda[eda.churned==0]\n",
    "\n",
    "plot_dict = {'Active': noChurn.meanLevel.values, 'Churned': churn.meanLevel.values}\n",
    "plt.boxplot(plot_dict.values())\n",
    "\n",
    "plt.title(\"EDA for meanLevel\")\n",
    "plt.xticks([1,2],plot_dict.keys())\n",
    "plt.ylabel(\"Percentage of Time Paid vs Free\")\n",
    "plt.show()\n",
    "print(\"Median for Active subscribers:\",round(np.median(noChurn.meanLevel.values),3))\n",
    "print(\"Median for Churned subscribers:\",round(np.median(churn.meanLevel.values),3))"
   ]
  },
  {
   "cell_type": "code",
   "execution_count": 58,
   "metadata": {},
   "outputs": [
    {
     "data": {
      "text/plain": [
       "448"
      ]
     },
     "execution_count": 58,
     "metadata": {},
     "output_type": "execute_result"
    }
   ],
   "source": [
    "user_labeled_df.count()"
   ]
  },
  {
   "cell_type": "markdown",
   "metadata": {},
   "source": [
    "## Interaction Features\n",
    "The way features interact with eachother may be useful like the number of errors in a session or the percentage of thumbs up vs thumbs down a user gives to songs."
   ]
  },
  {
   "cell_type": "code",
   "execution_count": 59,
   "metadata": {},
   "outputs": [],
   "source": [
    "user_labeled_df = user_labeled_df.withColumn('percThumbsUp',\\\n",
    "                                             user_labeled_df.countThumbsUp / user_labeled_df.totalThumbs)\\\n",
    "                                 .fillna(0)"
   ]
  },
  {
   "cell_type": "markdown",
   "metadata": {},
   "source": [
    "#### EDA Chart Churn and Percent of Ratings that are Thumbs Up"
   ]
  },
  {
   "cell_type": "code",
   "execution_count": 60,
   "metadata": {},
   "outputs": [
    {
     "data": {
      "image/png": "[encoded data removed]",
      "text/plain": [
       "<Figure size 432x288 with 1 Axes>"
      ]
     },
     "metadata": {
      "needs_background": "light"
     },
     "output_type": "display_data"
    },
    {
     "name": "stdout",
     "output_type": "stream",
     "text": [
      "Median for Active subscribers: 0.842\n",
      "Median for Churned subscribers: 0.82\n"
     ]
    }
   ],
   "source": [
    "eda = user_labeled_df.toPandas()\n",
    "churn = eda[eda.churned==1]\n",
    "noChurn = eda[eda.churned==0]\n",
    "\n",
    "plot_dict = {'Active': noChurn.percThumbsUp.values, 'Churned': churn.percThumbsUp.values}\n",
    "plt.boxplot(plot_dict.values())\n",
    "\n",
    "plt.title(\"EDA for percThumbsUp\")\n",
    "plt.xticks([1,2],plot_dict.keys())\n",
    "plt.ylabel(\"Percentage of Ratings Thumbs Up\")\n",
    "plt.show()\n",
    "print(\"Median for Active subscribers:\",round(np.median(noChurn.percThumbsUp.values),3))\n",
    "print(\"Median for Churned subscribers:\",round(np.median(churn.percThumbsUp.values),3))"
   ]
  },
  {
   "cell_type": "code",
   "execution_count": 61,
   "metadata": {},
   "outputs": [],
   "source": [
    "user_labeled_df = user_labeled_df.withColumn('errorsPerLogin',\\\n",
    "                                             user_labeled_df.countErrors / user_labeled_df.countLogins)"
   ]
  },
  {
   "cell_type": "markdown",
   "metadata": {},
   "source": [
    "#### EDA Chart Churn and Errors per Login"
   ]
  },
  {
   "cell_type": "code",
   "execution_count": 62,
   "metadata": {},
   "outputs": [
    {
     "data": {
      "image/png": "[encoded data removed]",
      "text/plain": [
       "<Figure size 432x288 with 1 Axes>"
      ]
     },
     "metadata": {
      "needs_background": "light"
     },
     "output_type": "display_data"
    },
    {
     "name": "stdout",
     "output_type": "stream",
     "text": [
      "Median for Active subscribers: 0.042\n",
      "Median for Churned subscribers: 0.0\n"
     ]
    }
   ],
   "source": [
    "eda = user_labeled_df.toPandas()\n",
    "churn = eda[eda.churned==1]\n",
    "noChurn = eda[eda.churned==0]\n",
    "\n",
    "plot_dict = {'Active': noChurn.errorsPerLogin.values, 'Churned': churn.errorsPerLogin.values}\n",
    "plt.boxplot(plot_dict.values())\n",
    "\n",
    "plt.title(\"EDA for errorsPerLogin\")\n",
    "plt.xticks([1,2],plot_dict.keys())\n",
    "plt.ylabel(\"Errors Per Login\")\n",
    "plt.show()\n",
    "print(\"Median for Active subscribers:\",round(np.median(noChurn.errorsPerLogin.values),3))\n",
    "print(\"Median for Churned subscribers:\",round(np.median(churn.errorsPerLogin.values),3))"
   ]
  },
  {
   "cell_type": "code",
   "execution_count": 63,
   "metadata": {},
   "outputs": [],
   "source": [
    "user_labeled_df = user_labeled_df.withColumn('helpPerLogin',\\\n",
    "                                             user_labeled_df.countHelp / user_labeled_df.countLogins)"
   ]
  },
  {
   "cell_type": "markdown",
   "metadata": {},
   "source": [
    "#### EDA Chart Churn and Help Page Visits per Login"
   ]
  },
  {
   "cell_type": "code",
   "execution_count": 64,
   "metadata": {},
   "outputs": [
    {
     "data": {
      "image/png": "[encoded data removed]",
      "text/plain": [
       "<Figure size 432x288 with 1 Axes>"
      ]
     },
     "metadata": {
      "needs_background": "light"
     },
     "output_type": "display_data"
    },
    {
     "name": "stdout",
     "output_type": "stream",
     "text": [
      "Median for Active subscribers: 0.333\n",
      "Median for Churned subscribers: 0.375\n"
     ]
    }
   ],
   "source": [
    "eda = user_labeled_df.toPandas()\n",
    "churn = eda[eda.churned==1]\n",
    "noChurn = eda[eda.churned==0]\n",
    "\n",
    "plot_dict = {'Active': noChurn.helpPerLogin.values, 'Churned': churn.helpPerLogin.values}\n",
    "plt.boxplot(plot_dict.values())\n",
    "\n",
    "plt.title(\"EDA for helpPerLogin\")\n",
    "plt.xticks([1,2],plot_dict.keys())\n",
    "plt.ylabel(\"Help Page Visits per Login\")\n",
    "plt.show()\n",
    "print(\"Median for Active subscribers:\",round(np.median(noChurn.helpPerLogin.values),3))\n",
    "print(\"Median for Churned subscribers:\",round(np.median(churn.helpPerLogin.values),3))"
   ]
  },
  {
   "cell_type": "code",
   "execution_count": 65,
   "metadata": {},
   "outputs": [],
   "source": [
    "user_labeled_df = user_labeled_df.withColumn('songsPerLogin',\\\n",
    "                                             user_labeled_df.countSong / user_labeled_df.countLogins)"
   ]
  },
  {
   "cell_type": "markdown",
   "metadata": {},
   "source": [
    "#### EDA Chart Churn and Songs per Login"
   ]
  },
  {
   "cell_type": "code",
   "execution_count": 66,
   "metadata": {},
   "outputs": [
    {
     "data": {
      "image/png": "[encoded data removed]",
      "text/plain": [
       "<Figure size 432x288 with 1 Axes>"
      ]
     },
     "metadata": {
      "needs_background": "light"
     },
     "output_type": "display_data"
    },
    {
     "name": "stdout",
     "output_type": "stream",
     "text": [
      "Median for Active subscribers: 73.545\n",
      "Median for Churned subscribers: 77.731\n"
     ]
    }
   ],
   "source": [
    "eda = user_labeled_df.toPandas()\n",
    "churn = eda[eda.churned==1]\n",
    "noChurn = eda[eda.churned==0]\n",
    "\n",
    "plot_dict = {'Active': noChurn.songsPerLogin.values, 'Churned': churn.songsPerLogin.values}\n",
    "plt.boxplot(plot_dict.values())\n",
    "\n",
    "plt.title(\"EDA for songsPerLogin\")\n",
    "plt.xticks([1,2],plot_dict.keys())\n",
    "plt.ylabel(\"Songs per Login\")\n",
    "plt.show()\n",
    "print(\"Median for Active subscribers:\",round(np.median(noChurn.songsPerLogin.values),3))\n",
    "print(\"Median for Churned subscribers:\",round(np.median(churn.songsPerLogin.values),3))"
   ]
  },
  {
   "cell_type": "markdown",
   "metadata": {},
   "source": [
    "### Final Dataframe"
   ]
  },
  {
   "cell_type": "code",
   "execution_count": 67,
   "metadata": {},
   "outputs": [
    {
     "name": "stdout",
     "output_type": "stream",
     "text": [
      "+-------------+------------------+---------------+-----------+-----------+------------+-----------+--------------+---------+------------------+---------+------------------+------------------+-------+\n",
      "|countThumbsUp|      percThumbsUp|countThumbsDown|totalThumbs|countLogins|countFriends|countErrors|errorsPerLogin|countHelp|      helpPerLogin|countSong|     songsPerLogin|         meanLevel|churned|\n",
      "+-------------+------------------+---------------+-----------+-----------+------------+-----------+--------------+---------+------------------+---------+------------------+------------------+-------+\n",
      "|            4|0.5714285714285714|              3|          7|          2|           3|          0|           0.0|        0|               0.0|      137|              68.5|               0.0|      1|\n",
      "|           15|              0.75|              5|         20|          5|           2|          0|           0.0|        1|               0.2|      395|              79.0|0.4531645569620253|      1|\n",
      "|            8|               1.0|              0|          8|          5|           2|          0|           0.0|        2|               0.4|      152|              30.4|0.3092105263157895|      1|\n",
      "|            3|              0.75|              1|          4|          3|           3|          0|           0.0|        2|0.6666666666666666|       84|              28.0|               0.0|      0|\n",
      "|          102|0.8717948717948718|             15|        117|         17|          26|          0|           0.0|       10|0.5882352941176471|     2156|126.82352941176471|               1.0|      1|\n",
      "+-------------+------------------+---------------+-----------+-----------+------------+-----------+--------------+---------+------------------+---------+------------------+------------------+-------+\n",
      "only showing top 5 rows\n",
      "\n"
     ]
    }
   ],
   "source": [
    "# reorder for ML feature selection and remove userId\n",
    "final_user_labeled_df = user_labeled_df.select('countThumbsUp','percThumbsUp','countThumbsDown','totalThumbs',\n",
    "                                         'countLogins','countFriends','countErrors','errorsPerLogin',\n",
    "                                         'countHelp','helpPerLogin','countSong','songsPerLogin','meanLevel',\n",
    "                                         'churned')\n",
    "final_user_labeled_df.show(5)"
   ]
  },
  {
   "cell_type": "code",
   "execution_count": 68,
   "metadata": {},
   "outputs": [
    {
     "data": {
      "text/html": [
       "<div>\n",
       "<style scoped>\n",
       "    .dataframe tbody tr th:only-of-type {\n",
       "        vertical-align: middle;\n",
       "    }\n",
       "\n",
       "    .dataframe tbody tr th {\n",
       "        vertical-align: top;\n",
       "    }\n",
       "\n",
       "    .dataframe thead th {\n",
       "        text-align: right;\n",
       "    }\n",
       "</style>\n",
       "<table border=\"1\" class=\"dataframe\">\n",
       "  <thead>\n",
       "    <tr style=\"text-align: right;\">\n",
       "      <th></th>\n",
       "      <th>countThumbsUp</th>\n",
       "      <th>percThumbsUp</th>\n",
       "      <th>countThumbsDown</th>\n",
       "      <th>totalThumbs</th>\n",
       "      <th>countLogins</th>\n",
       "      <th>countFriends</th>\n",
       "      <th>countErrors</th>\n",
       "      <th>errorsPerLogin</th>\n",
       "      <th>countHelp</th>\n",
       "      <th>helpPerLogin</th>\n",
       "      <th>countSong</th>\n",
       "      <th>songsPerLogin</th>\n",
       "      <th>meanLevel</th>\n",
       "      <th>churned</th>\n",
       "    </tr>\n",
       "  </thead>\n",
       "  <tbody>\n",
       "    <tr>\n",
       "      <th>0</th>\n",
       "      <td>4</td>\n",
       "      <td>0.571429</td>\n",
       "      <td>3</td>\n",
       "      <td>7</td>\n",
       "      <td>2</td>\n",
       "      <td>3</td>\n",
       "      <td>0</td>\n",
       "      <td>0.0</td>\n",
       "      <td>0</td>\n",
       "      <td>0.000000</td>\n",
       "      <td>137</td>\n",
       "      <td>68.500000</td>\n",
       "      <td>0.000000</td>\n",
       "      <td>1</td>\n",
       "    </tr>\n",
       "    <tr>\n",
       "      <th>1</th>\n",
       "      <td>15</td>\n",
       "      <td>0.750000</td>\n",
       "      <td>5</td>\n",
       "      <td>20</td>\n",
       "      <td>5</td>\n",
       "      <td>2</td>\n",
       "      <td>0</td>\n",
       "      <td>0.0</td>\n",
       "      <td>1</td>\n",
       "      <td>0.200000</td>\n",
       "      <td>395</td>\n",
       "      <td>79.000000</td>\n",
       "      <td>0.453165</td>\n",
       "      <td>1</td>\n",
       "    </tr>\n",
       "    <tr>\n",
       "      <th>2</th>\n",
       "      <td>8</td>\n",
       "      <td>1.000000</td>\n",
       "      <td>0</td>\n",
       "      <td>8</td>\n",
       "      <td>5</td>\n",
       "      <td>2</td>\n",
       "      <td>0</td>\n",
       "      <td>0.0</td>\n",
       "      <td>2</td>\n",
       "      <td>0.400000</td>\n",
       "      <td>152</td>\n",
       "      <td>30.400000</td>\n",
       "      <td>0.309211</td>\n",
       "      <td>1</td>\n",
       "    </tr>\n",
       "    <tr>\n",
       "      <th>3</th>\n",
       "      <td>3</td>\n",
       "      <td>0.750000</td>\n",
       "      <td>1</td>\n",
       "      <td>4</td>\n",
       "      <td>3</td>\n",
       "      <td>3</td>\n",
       "      <td>0</td>\n",
       "      <td>0.0</td>\n",
       "      <td>2</td>\n",
       "      <td>0.666667</td>\n",
       "      <td>84</td>\n",
       "      <td>28.000000</td>\n",
       "      <td>0.000000</td>\n",
       "      <td>0</td>\n",
       "    </tr>\n",
       "    <tr>\n",
       "      <th>4</th>\n",
       "      <td>102</td>\n",
       "      <td>0.871795</td>\n",
       "      <td>15</td>\n",
       "      <td>117</td>\n",
       "      <td>17</td>\n",
       "      <td>26</td>\n",
       "      <td>0</td>\n",
       "      <td>0.0</td>\n",
       "      <td>10</td>\n",
       "      <td>0.588235</td>\n",
       "      <td>2156</td>\n",
       "      <td>126.823529</td>\n",
       "      <td>1.000000</td>\n",
       "      <td>1</td>\n",
       "    </tr>\n",
       "    <tr>\n",
       "      <th>...</th>\n",
       "      <td>...</td>\n",
       "      <td>...</td>\n",
       "      <td>...</td>\n",
       "      <td>...</td>\n",
       "      <td>...</td>\n",
       "      <td>...</td>\n",
       "      <td>...</td>\n",
       "      <td>...</td>\n",
       "      <td>...</td>\n",
       "      <td>...</td>\n",
       "      <td>...</td>\n",
       "      <td>...</td>\n",
       "      <td>...</td>\n",
       "      <td>...</td>\n",
       "    </tr>\n",
       "    <tr>\n",
       "      <th>443</th>\n",
       "      <td>80</td>\n",
       "      <td>0.842105</td>\n",
       "      <td>15</td>\n",
       "      <td>95</td>\n",
       "      <td>20</td>\n",
       "      <td>37</td>\n",
       "      <td>2</td>\n",
       "      <td>0.1</td>\n",
       "      <td>12</td>\n",
       "      <td>0.600000</td>\n",
       "      <td>2044</td>\n",
       "      <td>102.200000</td>\n",
       "      <td>0.917319</td>\n",
       "      <td>0</td>\n",
       "    </tr>\n",
       "    <tr>\n",
       "      <th>444</th>\n",
       "      <td>12</td>\n",
       "      <td>0.750000</td>\n",
       "      <td>4</td>\n",
       "      <td>16</td>\n",
       "      <td>8</td>\n",
       "      <td>12</td>\n",
       "      <td>0</td>\n",
       "      <td>0.0</td>\n",
       "      <td>2</td>\n",
       "      <td>0.250000</td>\n",
       "      <td>366</td>\n",
       "      <td>45.750000</td>\n",
       "      <td>0.000000</td>\n",
       "      <td>0</td>\n",
       "    </tr>\n",
       "    <tr>\n",
       "      <th>445</th>\n",
       "      <td>5</td>\n",
       "      <td>0.833333</td>\n",
       "      <td>1</td>\n",
       "      <td>6</td>\n",
       "      <td>3</td>\n",
       "      <td>1</td>\n",
       "      <td>0</td>\n",
       "      <td>0.0</td>\n",
       "      <td>1</td>\n",
       "      <td>0.333333</td>\n",
       "      <td>134</td>\n",
       "      <td>44.666667</td>\n",
       "      <td>0.000000</td>\n",
       "      <td>1</td>\n",
       "    </tr>\n",
       "    <tr>\n",
       "      <th>446</th>\n",
       "      <td>3</td>\n",
       "      <td>0.500000</td>\n",
       "      <td>3</td>\n",
       "      <td>6</td>\n",
       "      <td>3</td>\n",
       "      <td>0</td>\n",
       "      <td>0</td>\n",
       "      <td>0.0</td>\n",
       "      <td>0</td>\n",
       "      <td>0.000000</td>\n",
       "      <td>35</td>\n",
       "      <td>11.666667</td>\n",
       "      <td>0.000000</td>\n",
       "      <td>0</td>\n",
       "    </tr>\n",
       "    <tr>\n",
       "      <th>447</th>\n",
       "      <td>39</td>\n",
       "      <td>0.928571</td>\n",
       "      <td>3</td>\n",
       "      <td>42</td>\n",
       "      <td>7</td>\n",
       "      <td>7</td>\n",
       "      <td>0</td>\n",
       "      <td>0.0</td>\n",
       "      <td>0</td>\n",
       "      <td>0.000000</td>\n",
       "      <td>459</td>\n",
       "      <td>65.571429</td>\n",
       "      <td>0.468410</td>\n",
       "      <td>0</td>\n",
       "    </tr>\n",
       "  </tbody>\n",
       "</table>\n",
       "<p>448 rows × 14 columns</p>\n",
       "</div>"
      ],
      "text/plain": [
       "     countThumbsUp  percThumbsUp  countThumbsDown  totalThumbs  countLogins  \\\n",
       "0                4      0.571429                3            7            2   \n",
       "1               15      0.750000                5           20            5   \n",
       "2                8      1.000000                0            8            5   \n",
       "3                3      0.750000                1            4            3   \n",
       "4              102      0.871795               15          117           17   \n",
       "..             ...           ...              ...          ...          ...   \n",
       "443             80      0.842105               15           95           20   \n",
       "444             12      0.750000                4           16            8   \n",
       "445              5      0.833333                1            6            3   \n",
       "446              3      0.500000                3            6            3   \n",
       "447             39      0.928571                3           42            7   \n",
       "\n",
       "     countFriends  countErrors  errorsPerLogin  countHelp  helpPerLogin  \\\n",
       "0               3            0             0.0          0      0.000000   \n",
       "1               2            0             0.0          1      0.200000   \n",
       "2               2            0             0.0          2      0.400000   \n",
       "3               3            0             0.0          2      0.666667   \n",
       "4              26            0             0.0         10      0.588235   \n",
       "..            ...          ...             ...        ...           ...   \n",
       "443            37            2             0.1         12      0.600000   \n",
       "444            12            0             0.0          2      0.250000   \n",
       "445             1            0             0.0          1      0.333333   \n",
       "446             0            0             0.0          0      0.000000   \n",
       "447             7            0             0.0          0      0.000000   \n",
       "\n",
       "     countSong  songsPerLogin  meanLevel  churned  \n",
       "0          137      68.500000   0.000000        1  \n",
       "1          395      79.000000   0.453165        1  \n",
       "2          152      30.400000   0.309211        1  \n",
       "3           84      28.000000   0.000000        0  \n",
       "4         2156     126.823529   1.000000        1  \n",
       "..         ...            ...        ...      ...  \n",
       "443       2044     102.200000   0.917319        0  \n",
       "444        366      45.750000   0.000000        0  \n",
       "445        134      44.666667   0.000000        1  \n",
       "446         35      11.666667   0.000000        0  \n",
       "447        459      65.571429   0.468410        0  \n",
       "\n",
       "[448 rows x 14 columns]"
      ]
     },
     "execution_count": 68,
     "metadata": {},
     "output_type": "execute_result"
    }
   ],
   "source": [
    "final_user_labeled_df.toPandas()"
   ]
  },
  {
   "cell_type": "markdown",
   "metadata": {},
   "source": [
    "# Training & Test Split\n",
    "In order to ensure the fitted model is extensible to new data that it hasnt trained on I am going to split 80% for training data and 20% for test data"
   ]
  },
  {
   "cell_type": "code",
   "execution_count": 69,
   "metadata": {},
   "outputs": [
    {
     "name": "stdout",
     "output_type": "stream",
     "text": [
      "+--------------------+-----+\n",
      "|            features|label|\n",
      "+--------------------+-----+\n",
      "|[4.0,0.5714285714...|    1|\n",
      "|[15.0,0.75,5.0,20...|    1|\n",
      "|[8.0,1.0,0.0,8.0,...|    1|\n",
      "|[3.0,0.75,1.0,4.0...|    0|\n",
      "|[102.0,0.87179487...|    1|\n",
      "+--------------------+-----+\n",
      "only showing top 5 rows\n",
      "\n"
     ]
    }
   ],
   "source": [
    "# the data needs to be mapped into a features column with a vector of the features and a label column with the target\n",
    "trainingData=final_user_labeled_df.rdd.map(lambda x:(Vectors.dense(x[0:-1]), x[-1])).toDF([\"features\", \"label\"])\n",
    "trainingData.show(5)"
   ]
  },
  {
   "cell_type": "code",
   "execution_count": 70,
   "metadata": {},
   "outputs": [],
   "source": [
    "train, validation = trainingData.randomSplit([0.9, 0.1], seed=1842)"
   ]
  },
  {
   "cell_type": "markdown",
   "metadata": {},
   "source": [
    "## Metrics and Plot Helper functions"
   ]
  },
  {
   "cell_type": "code",
   "execution_count": 71,
   "metadata": {},
   "outputs": [],
   "source": [
    "def plot_roc(y_train,y_test,preds_train,preds_test):\n",
    "    \"\"\"\n",
    "    This function takes in:\n",
    "    y - the label\n",
    "    preds - the predicted probability that the model gives for a 1\n",
    "    \"\"\"\n",
    "    fpr_train, tpr_train, threshold_train = metrics.roc_curve(y_train, preds_train)\n",
    "    roc_auc_train = metrics.auc(fpr_train, tpr_train)\n",
    "    fpr_test, tpr_test, threshold_test = metrics.roc_curve(y_test, preds_test)\n",
    "    roc_auc_test = metrics.auc(fpr_test, tpr_test)\n",
    "    plt.title('Receiver Operating Characteristic')\n",
    "    plt.plot(fpr_train, tpr_train, 'b', label = 'Train AUC = %0.3f' % roc_auc_train)\n",
    "    plt.plot(fpr_test, tpr_test, 'g', label = 'Test AUC = %0.3f' % roc_auc_test)\n",
    "    plt.legend(loc = 'lower right')\n",
    "    plt.plot([0, 1], [0, 1],'r--')\n",
    "    plt.xlim([-.01, 1])\n",
    "    plt.ylim([0, 1.01])\n",
    "    plt.ylabel('True Positive Rate')\n",
    "    plt.xlabel('False Positive Rate')\n",
    "    plt.show()"
   ]
  },
  {
   "cell_type": "code",
   "execution_count": 72,
   "metadata": {},
   "outputs": [],
   "source": [
    "\"\"\"\n",
    "PySpark User defined functions to parse out values from an array in a column\n",
    "this is useful for parsing out the probablility of a 0 and 1 from the predictions made from model.transform(df)\n",
    "\"\"\"\n",
    "split0_udf = udf(lambda value: value[0].item(), FloatType())\n",
    "split1_udf = udf(lambda value: value[1].item(), FloatType())"
   ]
  },
  {
   "cell_type": "markdown",
   "metadata": {},
   "source": [
    "# Logistic Regression Model \n",
    "both basic and with Grid Search and Train/Validation Split"
   ]
  },
  {
   "cell_type": "code",
   "execution_count": 73,
   "metadata": {},
   "outputs": [],
   "source": [
    "lr = LogisticRegression(maxIter=10)\n",
    "\n",
    "model = lr.fit(train)"
   ]
  },
  {
   "cell_type": "code",
   "execution_count": 74,
   "metadata": {},
   "outputs": [],
   "source": [
    "lr_train_preds = model.transform(train)\n",
    "lr_test_preds = model.transform(validation)"
   ]
  },
  {
   "cell_type": "code",
   "execution_count": 75,
   "metadata": {},
   "outputs": [
    {
     "data": {
      "image/png": "[encoded data removed]",
      "text/plain": [
       "<Figure size 432x288 with 1 Axes>"
      ]
     },
     "metadata": {
      "needs_background": "light"
     },
     "output_type": "display_data"
    }
   ],
   "source": [
    "# Train Data\n",
    "train_preds = lr_train_preds.withColumn('prob0', split0_udf('probability'))\\\n",
    "                                      .withColumn('prob1', split1_udf('probability'))\\\n",
    "                                      .drop('features','rawPrediction','probability')\\\n",
    "                                      .toPandas()\n",
    "train_preds_1 = train_preds.prob1\n",
    "y_train = train_preds.label\n",
    "\n",
    "# Test Data\n",
    "test_preds = lr_test_preds.withColumn('prob0', split0_udf('probability'))\\\n",
    "                                      .withColumn('prob1', split1_udf('probability'))\\\n",
    "                                      .drop('features','rawPrediction','probability')\\\n",
    "                                      .toPandas()\n",
    "test_preds_1 = test_preds.prob1\n",
    "y_test = test_preds.label\n",
    "\n",
    "# plot ROC\n",
    "plot_roc(y_train,y_test,train_preds_1,test_preds_1)"
   ]
  },
  {
   "cell_type": "markdown",
   "metadata": {},
   "source": [
    "### Analysis of Logistic Regression\n",
    "\n",
    "This model is obviously overfit because the AUC drops by about .4 from training to test sets! In order to combat the overfitting a parameter grid search can be used to use some elastic net regularization as well as if an intercept should be fit or not. That should most likely make a more generalizable model"
   ]
  },
  {
   "cell_type": "markdown",
   "metadata": {},
   "source": [
    "### Train Validation Split Logistic Regression"
   ]
  },
  {
   "cell_type": "code",
   "execution_count": 76,
   "metadata": {},
   "outputs": [],
   "source": [
    "paramGrid = ParamGridBuilder()\\\n",
    "    .addGrid(lr.regParam, [0.1, 0.01]) \\\n",
    "    .addGrid(lr.fitIntercept, [False, True])\\\n",
    "    .addGrid(lr.elasticNetParam, [0.0, 0.5, 1.0])\\\n",
    "    .build()\n",
    "\n",
    "tvs = TrainValidationSplit(estimator=lr,\n",
    "                           estimatorParamMaps=paramGrid,\n",
    "                           evaluator=BinaryClassificationEvaluator(),\n",
    "                           # 80% of the data will be used for training, 20% for validation.\n",
    "                           trainRatio=0.8)\n",
    "\n",
    "tvs_model = tvs.fit(train)\n",
    "tvs_train_preds = tvs_model.transform(train)\n",
    "tvs_test_preds = tvs_model.transform(validation)"
   ]
  },
  {
   "cell_type": "markdown",
   "metadata": {},
   "source": [
    "### Train/Test Results"
   ]
  },
  {
   "cell_type": "code",
   "execution_count": 77,
   "metadata": {},
   "outputs": [
    {
     "data": {
      "image/png": "[encoded data removed]",
      "text/plain": [
       "<Figure size 432x288 with 1 Axes>"
      ]
     },
     "metadata": {
      "needs_background": "light"
     },
     "output_type": "display_data"
    }
   ],
   "source": [
    "# Train Data\n",
    "train_preds = tvs_train_preds.withColumn('prob0', split0_udf('probability'))\\\n",
    "                                      .withColumn('prob1', split1_udf('probability'))\\\n",
    "                                      .drop('features','rawPrediction','probability')\\\n",
    "                                      .toPandas()\n",
    "train_preds_1 = train_preds.prob1\n",
    "y_train = train_preds.label\n",
    "\n",
    "# Test Data\n",
    "test_preds = tvs_test_preds.withColumn('prob0', split0_udf('probability'))\\\n",
    "                                      .withColumn('prob1', split1_udf('probability'))\\\n",
    "                                      .drop('features','rawPrediction','probability')\\\n",
    "                                      .toPandas()\n",
    "test_preds_1 = test_preds.prob1\n",
    "y_test = test_preds.label\n",
    "\n",
    "# plot ROC\n",
    "plot_roc(y_train,y_test,train_preds_1,test_preds_1)"
   ]
  },
  {
   "cell_type": "markdown",
   "metadata": {},
   "source": [
    "### Analysis of Logistic Regression with Parameter Tuning\n",
    "\n",
    "This model is basic but does not appear to be overfit. The nice thing about logistic regression is that it is a simple model that doesnt need a huge training dataset to predict well."
   ]
  },
  {
   "cell_type": "markdown",
   "metadata": {},
   "source": [
    "## GBTree"
   ]
  },
  {
   "cell_type": "code",
   "execution_count": 78,
   "metadata": {},
   "outputs": [],
   "source": [
    "gbt = GBTClassifier()\n",
    "\n",
    "model = gbt.fit(train)\n",
    "# Make predictions\n",
    "gbt_train_preds = model.transform(train)\n",
    "gbt_test_preds = model.transform(validation)"
   ]
  },
  {
   "cell_type": "markdown",
   "metadata": {},
   "source": [
    "### Train/Test Results"
   ]
  },
  {
   "cell_type": "code",
   "execution_count": 79,
   "metadata": {},
   "outputs": [
    {
     "data": {
      "image/png": "[encoded data removed]",
      "text/plain": [
       "<Figure size 432x288 with 1 Axes>"
      ]
     },
     "metadata": {
      "needs_background": "light"
     },
     "output_type": "display_data"
    }
   ],
   "source": [
    "# Train Data\n",
    "train_preds = gbt_train_preds.withColumn('prob0', split0_udf('probability'))\\\n",
    "                                      .withColumn('prob1', split1_udf('probability'))\\\n",
    "                                      .drop('features','rawPrediction','probability')\\\n",
    "                                      .toPandas()\n",
    "train_preds_1 = train_preds.prob1\n",
    "y_train = train_preds.label\n",
    "\n",
    "# Test Data\n",
    "test_preds = gbt_test_preds.withColumn('prob0', split0_udf('probability'))\\\n",
    "                                      .withColumn('prob1', split1_udf('probability'))\\\n",
    "                                      .drop('features','rawPrediction','probability')\\\n",
    "                                      .toPandas()\n",
    "test_preds_1 = test_preds.prob1\n",
    "y_test = test_preds.label\n",
    "\n",
    "# plot ROC\n",
    "plot_roc(y_train,y_test,train_preds_1,test_preds_1)"
   ]
  },
  {
   "cell_type": "markdown",
   "metadata": {},
   "source": [
    "### Analysis of GBTree Results\n",
    "\n",
    "This model is obviously overfit because the AUC drops by about .3 from training to test sets! In order to combat the overfitting a parameter grid search can be used to try to optimize hyperparameter tuning. That should make a more generalizable model. With how small the dataset is though it there is a chance that GBTree is not the best model to use"
   ]
  },
  {
   "cell_type": "markdown",
   "metadata": {},
   "source": [
    "## GBTree with Validation"
   ]
  },
  {
   "cell_type": "code",
   "execution_count": 80,
   "metadata": {},
   "outputs": [],
   "source": [
    "paramGrid = ParamGridBuilder()\\\n",
    "    .addGrid(gbt.maxIter, [10,20,30]) \\\n",
    "    .addGrid(gbt.featureSubsetStrategy, ['all','sqrt','log2'])\\\n",
    "    .addGrid(gbt.maxDepth, [2,3,4])\\\n",
    "    .build()\n",
    "\n",
    "gbtree_tvs = TrainValidationSplit(estimator=gbt,\n",
    "                           estimatorParamMaps=paramGrid,\n",
    "                           evaluator=BinaryClassificationEvaluator(),\n",
    "                           # 80% of the data will be used for training, 20% for validation.\n",
    "                           trainRatio=0.8)"
   ]
  },
  {
   "cell_type": "code",
   "execution_count": 81,
   "metadata": {},
   "outputs": [],
   "source": [
    "model = gbtree_tvs.fit(train)\n",
    "# Make predictions\n",
    "gbt_train_preds = model.transform(train)\n",
    "gbt_test_preds = model.transform(validation)"
   ]
  },
  {
   "cell_type": "code",
   "execution_count": 82,
   "metadata": {},
   "outputs": [
    {
     "data": {
      "text/plain": [
       "{Param(parent='GBTClassifier_6c73cf6d8887', name='cacheNodeIds', doc='If false, the algorithm will pass trees to executors to match instances with nodes. If true, the algorithm will cache node IDs for each instance. Caching can speed up training of deeper trees.'): False,\n",
       " Param(parent='GBTClassifier_6c73cf6d8887', name='checkpointInterval', doc='set checkpoint interval (>= 1) or disable checkpoint (-1). E.g. 10 means that the cache will get checkpointed every 10 iterations. Note: this setting will be ignored if the checkpoint directory is not set in the SparkContext'): 10,\n",
       " Param(parent='GBTClassifier_6c73cf6d8887', name='featureSubsetStrategy', doc='The number of features to consider for splits at each tree node. Supported options: auto, all, onethird, sqrt, log2, (0.0-1.0], [1-n].'): 'all',\n",
       " Param(parent='GBTClassifier_6c73cf6d8887', name='featuresCol', doc='features column name'): 'features',\n",
       " Param(parent='GBTClassifier_6c73cf6d8887', name='labelCol', doc='label column name'): 'label',\n",
       " Param(parent='GBTClassifier_6c73cf6d8887', name='lossType', doc='Loss function which GBT tries to minimize (case-insensitive). Supported options: logistic'): 'logistic',\n",
       " Param(parent='GBTClassifier_6c73cf6d8887', name='maxBins', doc='Max number of bins for discretizing continuous features.  Must be at least 2 and at least number of categories for any categorical feature.'): 32,\n",
       " Param(parent='GBTClassifier_6c73cf6d8887', name='maxDepth', doc='Maximum depth of the tree. (Nonnegative) E.g., depth 0 means 1 leaf node; depth 1 means 1 internal node + 2 leaf nodes.'): 2,\n",
       " Param(parent='GBTClassifier_6c73cf6d8887', name='maxIter', doc='maximum number of iterations (>= 0)'): 10,\n",
       " Param(parent='GBTClassifier_6c73cf6d8887', name='maxMemoryInMB', doc='Maximum memory in MB allocated to histogram aggregation.'): 256,\n",
       " Param(parent='GBTClassifier_6c73cf6d8887', name='minInfoGain', doc='Minimum information gain for a split to be considered at a tree node.'): 0.0,\n",
       " Param(parent='GBTClassifier_6c73cf6d8887', name='minInstancesPerNode', doc='Minimum number of instances each child must have after split.  If a split causes the left or right child to have fewer than minInstancesPerNode, the split will be discarded as invalid. Must be at least 1.'): 1,\n",
       " Param(parent='GBTClassifier_6c73cf6d8887', name='predictionCol', doc='prediction column name'): 'prediction',\n",
       " Param(parent='GBTClassifier_6c73cf6d8887', name='seed', doc='random seed'): -5621270292606181258,\n",
       " Param(parent='GBTClassifier_6c73cf6d8887', name='stepSize', doc='Step size (a.k.a. learning rate) in interval (0, 1] for shrinking the contribution of each estimator.'): 0.1,\n",
       " Param(parent='GBTClassifier_6c73cf6d8887', name='subsamplingRate', doc='Fraction of the training data used for learning each decision tree, in range (0, 1].'): 1.0}"
      ]
     },
     "execution_count": 82,
     "metadata": {},
     "output_type": "execute_result"
    }
   ],
   "source": [
    "model.bestModel.extractParamMap()"
   ]
  },
  {
   "cell_type": "markdown",
   "metadata": {},
   "source": [
    "The best parameters from the grid search are :\n",
    " - maxDepth: 3\n",
    " - maxIter: 30\n",
    " - featureSubsetStrategy: 'sqrt'"
   ]
  },
  {
   "cell_type": "markdown",
   "metadata": {},
   "source": [
    "### Train/Test Results"
   ]
  },
  {
   "cell_type": "code",
   "execution_count": 83,
   "metadata": {},
   "outputs": [
    {
     "data": {
      "image/png": "[encoded data removed]",
      "text/plain": [
       "<Figure size 432x288 with 1 Axes>"
      ]
     },
     "metadata": {
      "needs_background": "light"
     },
     "output_type": "display_data"
    }
   ],
   "source": [
    "# Train Data\n",
    "train_preds = gbt_train_preds.withColumn('prob0', split0_udf('probability'))\\\n",
    "                                      .withColumn('prob1', split1_udf('probability'))\\\n",
    "                                      .drop('features','rawPrediction','probability')\\\n",
    "                                      .toPandas()\n",
    "train_preds_1 = train_preds.prob1\n",
    "y_train = train_preds.label\n",
    "\n",
    "# Test Data\n",
    "test_preds = gbt_test_preds.withColumn('prob0', split0_udf('probability'))\\\n",
    "                                      .withColumn('prob1', split1_udf('probability'))\\\n",
    "                                      .drop('features','rawPrediction','probability')\\\n",
    "                                      .toPandas()\n",
    "test_preds_1 = test_preds.prob1\n",
    "y_test = test_preds.label\n",
    "\n",
    "# plot ROC\n",
    "plot_roc(y_train,y_test,train_preds_1,test_preds_1)"
   ]
  },
  {
   "cell_type": "markdown",
   "metadata": {},
   "source": [
    "### Feature Analysis"
   ]
  },
  {
   "cell_type": "code",
   "execution_count": 85,
   "metadata": {},
   "outputs": [
    {
     "data": {
      "text/html": [
       "<div>\n",
       "<style scoped>\n",
       "    .dataframe tbody tr th:only-of-type {\n",
       "        vertical-align: middle;\n",
       "    }\n",
       "\n",
       "    .dataframe tbody tr th {\n",
       "        vertical-align: top;\n",
       "    }\n",
       "\n",
       "    .dataframe thead th {\n",
       "        text-align: right;\n",
       "    }\n",
       "</style>\n",
       "<table border=\"1\" class=\"dataframe\">\n",
       "  <thead>\n",
       "    <tr style=\"text-align: right;\">\n",
       "      <th></th>\n",
       "      <th>FeatureImportance</th>\n",
       "      <th>Names</th>\n",
       "    </tr>\n",
       "  </thead>\n",
       "  <tbody>\n",
       "    <tr>\n",
       "      <th>4</th>\n",
       "      <td>0.219538</td>\n",
       "      <td>countLogins</td>\n",
       "    </tr>\n",
       "    <tr>\n",
       "      <th>11</th>\n",
       "      <td>0.178256</td>\n",
       "      <td>songsPerLogin</td>\n",
       "    </tr>\n",
       "    <tr>\n",
       "      <th>5</th>\n",
       "      <td>0.163677</td>\n",
       "      <td>countFriends</td>\n",
       "    </tr>\n",
       "    <tr>\n",
       "      <th>1</th>\n",
       "      <td>0.136955</td>\n",
       "      <td>percThumbsUp</td>\n",
       "    </tr>\n",
       "    <tr>\n",
       "      <th>0</th>\n",
       "      <td>0.111629</td>\n",
       "      <td>countThumbsUp</td>\n",
       "    </tr>\n",
       "    <tr>\n",
       "      <th>12</th>\n",
       "      <td>0.092033</td>\n",
       "      <td>meanLevel</td>\n",
       "    </tr>\n",
       "    <tr>\n",
       "      <th>2</th>\n",
       "      <td>0.034676</td>\n",
       "      <td>countThumbsDown</td>\n",
       "    </tr>\n",
       "    <tr>\n",
       "      <th>9</th>\n",
       "      <td>0.034671</td>\n",
       "      <td>helpPerLogin</td>\n",
       "    </tr>\n",
       "    <tr>\n",
       "      <th>10</th>\n",
       "      <td>0.028566</td>\n",
       "      <td>countSong</td>\n",
       "    </tr>\n",
       "    <tr>\n",
       "      <th>3</th>\n",
       "      <td>0.000000</td>\n",
       "      <td>totalThumbs</td>\n",
       "    </tr>\n",
       "    <tr>\n",
       "      <th>6</th>\n",
       "      <td>0.000000</td>\n",
       "      <td>countErrors</td>\n",
       "    </tr>\n",
       "    <tr>\n",
       "      <th>7</th>\n",
       "      <td>0.000000</td>\n",
       "      <td>errorsPerLogin</td>\n",
       "    </tr>\n",
       "    <tr>\n",
       "      <th>8</th>\n",
       "      <td>0.000000</td>\n",
       "      <td>countHelp</td>\n",
       "    </tr>\n",
       "  </tbody>\n",
       "</table>\n",
       "</div>"
      ],
      "text/plain": [
       "    FeatureImportance            Names\n",
       "4            0.219538      countLogins\n",
       "11           0.178256    songsPerLogin\n",
       "5            0.163677     countFriends\n",
       "1            0.136955     percThumbsUp\n",
       "0            0.111629    countThumbsUp\n",
       "12           0.092033        meanLevel\n",
       "2            0.034676  countThumbsDown\n",
       "9            0.034671     helpPerLogin\n",
       "10           0.028566        countSong\n",
       "3            0.000000      totalThumbs\n",
       "6            0.000000      countErrors\n",
       "7            0.000000   errorsPerLogin\n",
       "8            0.000000        countHelp"
      ]
     },
     "execution_count": 85,
     "metadata": {},
     "output_type": "execute_result"
    }
   ],
   "source": [
    "featImps = model.bestModel.featureImportances.toArray()\n",
    "varNames = ['countThumbsUp','percThumbsUp','countThumbsDown','totalThumbs','countLogins','countFriends',\n",
    " 'countErrors','errorsPerLogin','countHelp','helpPerLogin','countSong','songsPerLogin','meanLevel']\n",
    "\n",
    "importance = pd.DataFrame({\"FeatureImportance\":featImps,\"Names\":varNames}).sort_values(\"FeatureImportance\")\n",
    "importance.sort_values(\"FeatureImportance\",ascending = False)"
   ]
  },
  {
   "cell_type": "code",
   "execution_count": 86,
   "metadata": {},
   "outputs": [
    {
     "data": {
      "image/png": "[encoded data removed]",
      "text/plain": [
       "<Figure size 432x288 with 1 Axes>"
      ]
     },
     "metadata": {
      "needs_background": "light"
     },
     "output_type": "display_data"
    }
   ],
   "source": [
    "y_pos = np.arange(len(importance.Names))\n",
    "\n",
    "plt.barh(y_pos, importance.FeatureImportance, align='center', alpha=0.5)\n",
    "plt.yticks(y_pos, importance.Names)\n",
    "plt.xlabel('Usage')\n",
    "plt.title('Programming language usage')\n",
    "\n",
    "plt.show()"
   ]
  },
  {
   "cell_type": "markdown",
   "metadata": {},
   "source": [
    "### Analysis of GBTree with Parameter Tuning\n",
    "\n",
    "This model does not perform well in fact it seems to perform worse than even the GBTree model with the default parameters. My guess is that having a small dataset hurts the more advanced GBTree method. "
   ]
  },
  {
   "cell_type": "markdown",
   "metadata": {},
   "source": [
    "## Decision Tree"
   ]
  },
  {
   "cell_type": "code",
   "execution_count": 87,
   "metadata": {},
   "outputs": [],
   "source": [
    "dt = DecisionTreeClassifier()\n",
    "\n",
    "model = dt.fit(train)\n",
    "# Make predictions\n",
    "gbt_train_preds = model.transform(train)\n",
    "gbt_test_preds = model.transform(validation)"
   ]
  },
  {
   "cell_type": "markdown",
   "metadata": {},
   "source": [
    "### Training Results"
   ]
  },
  {
   "cell_type": "code",
   "execution_count": 88,
   "metadata": {},
   "outputs": [
    {
     "data": {
      "image/png": "[encoded data removed]",
      "text/plain": [
       "<Figure size 432x288 with 1 Axes>"
      ]
     },
     "metadata": {
      "needs_background": "light"
     },
     "output_type": "display_data"
    }
   ],
   "source": [
    "# Train Data\n",
    "train_preds = gbt_train_preds.withColumn('prob0', split0_udf('probability'))\\\n",
    "                                      .withColumn('prob1', split1_udf('probability'))\\\n",
    "                                      .drop('features','rawPrediction','probability')\\\n",
    "                                      .toPandas()\n",
    "train_preds_1 = train_preds.prob1\n",
    "y_train = train_preds.label\n",
    "\n",
    "# Test Data\n",
    "test_preds = gbt_test_preds.withColumn('prob0', split0_udf('probability'))\\\n",
    "                                      .withColumn('prob1', split1_udf('probability'))\\\n",
    "                                      .drop('features','rawPrediction','probability')\\\n",
    "                                      .toPandas()\n",
    "test_preds_1 = test_preds.prob1\n",
    "y_test = test_preds.label\n",
    "\n",
    "# plot ROC\n",
    "plot_roc(y_train,y_test,train_preds_1,test_preds_1)"
   ]
  },
  {
   "cell_type": "code",
   "execution_count": null,
   "metadata": {},
   "outputs": [],
   "source": []
  }
 ],
 "metadata": {
  "kernelspec": {
   "display_name": "Python 3",
   "language": "python",
   "name": "python3"
  },
  "language_info": {
   "codemirror_mode": {
    "name": "ipython",
    "version": 3
   },
   "file_extension": ".py",
   "mimetype": "text/x-python",
   "name": "python",
   "nbconvert_exporter": "python",
   "pygments_lexer": "ipython3",
   "version": "3.7.3"
  }
 },
 "nbformat": 4,
 "nbformat_minor": 4
}
