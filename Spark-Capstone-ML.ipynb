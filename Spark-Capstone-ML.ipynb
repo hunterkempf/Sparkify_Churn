{
 "cells": [
  {
   "cell_type": "markdown",
   "metadata": {},
   "source": [
    "# Sparkify Capstone Project"
   ]
  },
  {
   "cell_type": "markdown",
   "metadata": {},
   "source": [
    "First pip install pyspark if it is not already installed"
   ]
  },
  {
   "cell_type": "code",
   "execution_count": 1,
   "metadata": {},
   "outputs": [
    {
     "name": "stdout",
     "output_type": "stream",
     "text": [
      "Requirement already satisfied: pyspark in /anaconda3/lib/python3.7/site-packages (2.4.5)\r\n",
      "Requirement already satisfied: py4j==0.10.7 in /anaconda3/lib/python3.7/site-packages (from pyspark) (0.10.7)\r\n"
     ]
    }
   ],
   "source": [
    "!pip install pyspark"
   ]
  },
  {
   "cell_type": "markdown",
   "metadata": {},
   "source": [
    "We need to first load in the necessary pyspark libaries"
   ]
  },
  {
   "cell_type": "code",
   "execution_count": 2,
   "metadata": {},
   "outputs": [],
   "source": [
    "import pandas as pd\n",
    "import numpy as np\n",
    "import matplotlib.pyplot as plt\n",
    "import sklearn.metrics as metrics\n",
    "\n",
    "from pyspark.sql import SparkSession\n",
    "from pyspark.sql.functions import isnan, count, when, col, desc, udf, col, sort_array, asc, avg\n",
    "from pyspark.sql.functions import sum as _sum\n",
    "from pyspark.sql.types import FloatType\n",
    "\n",
    "from pyspark.ml.classification import LogisticRegression\n",
    "from pyspark.ml.classification import GBTClassifier\n",
    "from pyspark.ml.evaluation import BinaryClassificationEvaluator\n",
    "from pyspark.ml.tuning import ParamGridBuilder, TrainValidationSplit\n",
    "from pyspark.ml.linalg import Vectors"
   ]
  },
  {
   "cell_type": "code",
   "execution_count": 3,
   "metadata": {},
   "outputs": [],
   "source": [
    "spark = SparkSession \\\n",
    "    .builder \\\n",
    "    .appName(\"Data Frames practice\") \\\n",
    "    .getOrCreate()\n",
    "\n",
    "user_event_data = spark.read.json(\"medium-sparkify-event-data.json\")"
   ]
  },
  {
   "cell_type": "markdown",
   "metadata": {},
   "source": [
    "# Data Exploration"
   ]
  },
  {
   "cell_type": "code",
   "execution_count": 4,
   "metadata": {},
   "outputs": [
    {
     "name": "stdout",
     "output_type": "stream",
     "text": [
      "root\n",
      " |-- artist: string (nullable = true)\n",
      " |-- auth: string (nullable = true)\n",
      " |-- firstName: string (nullable = true)\n",
      " |-- gender: string (nullable = true)\n",
      " |-- itemInSession: long (nullable = true)\n",
      " |-- lastName: string (nullable = true)\n",
      " |-- length: double (nullable = true)\n",
      " |-- level: string (nullable = true)\n",
      " |-- location: string (nullable = true)\n",
      " |-- method: string (nullable = true)\n",
      " |-- page: string (nullable = true)\n",
      " |-- registration: long (nullable = true)\n",
      " |-- sessionId: long (nullable = true)\n",
      " |-- song: string (nullable = true)\n",
      " |-- status: long (nullable = true)\n",
      " |-- ts: long (nullable = true)\n",
      " |-- userAgent: string (nullable = true)\n",
      " |-- userId: string (nullable = true)\n",
      "\n"
     ]
    }
   ],
   "source": [
    "user_event_data.printSchema()"
   ]
  },
  {
   "cell_type": "code",
   "execution_count": 5,
   "metadata": {},
   "outputs": [
    {
     "name": "stdout",
     "output_type": "stream",
     "text": [
      "+-------------+---------+---------+------+-------------+--------+---------+-----+------------------+------+--------+-------------+---------+-------------+------+-------------+--------------------+------+\n",
      "|       artist|     auth|firstName|gender|itemInSession|lastName|   length|level|          location|method|    page| registration|sessionId|         song|status|           ts|           userAgent|userId|\n",
      "+-------------+---------+---------+------+-------------+--------+---------+-----+------------------+------+--------+-------------+---------+-------------+------+-------------+--------------------+------+\n",
      "|Martin Orford|Logged In|   Joseph|     M|           20| Morales|597.55057| free|Corpus Christi, TX|   PUT|NextSong|1532063507000|      292|Grand Designs|   200|1538352011000|\"Mozilla/5.0 (Mac...|   293|\n",
      "+-------------+---------+---------+------+-------------+--------+---------+-----+------------------+------+--------+-------------+---------+-------------+------+-------------+--------------------+------+\n",
      "only showing top 1 row\n",
      "\n"
     ]
    }
   ],
   "source": [
    "user_event_data.show(1)"
   ]
  },
  {
   "cell_type": "code",
   "execution_count": 6,
   "metadata": {},
   "outputs": [
    {
     "data": {
      "text/plain": [
       "543705"
      ]
     },
     "execution_count": 6,
     "metadata": {},
     "output_type": "execute_result"
    }
   ],
   "source": [
    "user_event_data.count()"
   ]
  },
  {
   "cell_type": "markdown",
   "metadata": {},
   "source": [
    "### Most Visited Pages"
   ]
  },
  {
   "cell_type": "code",
   "execution_count": 7,
   "metadata": {},
   "outputs": [
    {
     "name": "stdout",
     "output_type": "stream",
     "text": [
      "+--------------------+------+\n",
      "|                page| count|\n",
      "+--------------------+------+\n",
      "|            NextSong|432877|\n",
      "|                Home| 27412|\n",
      "|           Thumbs Up| 23826|\n",
      "|     Add to Playlist| 12349|\n",
      "|          Add Friend|  8087|\n",
      "|         Roll Advert|  7773|\n",
      "|               Login|  6011|\n",
      "|              Logout|  5990|\n",
      "|         Thumbs Down|  4911|\n",
      "|           Downgrade|  3811|\n",
      "|                Help|  3150|\n",
      "|            Settings|  2964|\n",
      "|               About|  1855|\n",
      "|             Upgrade|   968|\n",
      "|       Save Settings|   585|\n",
      "|               Error|   519|\n",
      "|      Submit Upgrade|   287|\n",
      "|    Submit Downgrade|   117|\n",
      "|              Cancel|    99|\n",
      "|Cancellation Conf...|    99|\n",
      "|            Register|    11|\n",
      "| Submit Registration|     4|\n",
      "+--------------------+------+\n",
      "\n"
     ]
    }
   ],
   "source": [
    "user_event_data.groupBy('page') \\\n",
    "  .count()\\\n",
    "  .sort(desc(\"count\"))\\\n",
    "  .show(25)"
   ]
  },
  {
   "cell_type": "markdown",
   "metadata": {},
   "source": [
    "### User IDs\n",
    "Lets investigate how many users we have in the dataset and if there are any obvious things we need to clean up"
   ]
  },
  {
   "cell_type": "code",
   "execution_count": 8,
   "metadata": {},
   "outputs": [
    {
     "data": {
      "text/plain": [
       "449"
      ]
     },
     "execution_count": 8,
     "metadata": {},
     "output_type": "execute_result"
    }
   ],
   "source": [
    "user_event_data.select('userId')\\\n",
    "  .dropDuplicates()\\\n",
    "  .count()"
   ]
  },
  {
   "cell_type": "code",
   "execution_count": 9,
   "metadata": {},
   "outputs": [
    {
     "name": "stdout",
     "output_type": "stream",
     "text": [
      "+------+-----+\n",
      "|userId|count|\n",
      "+------+-----+\n",
      "|      |15700|\n",
      "|    92| 9767|\n",
      "|   140| 7448|\n",
      "|300049| 7309|\n",
      "|   101| 6842|\n",
      "+------+-----+\n",
      "only showing top 5 rows\n",
      "\n"
     ]
    }
   ],
   "source": [
    "user_event_data.groupBy('userId') \\\n",
    "  .count()\\\n",
    "  .sort(desc(\"count\"))\\\n",
    "  .show(5)"
   ]
  },
  {
   "cell_type": "markdown",
   "metadata": {},
   "source": [
    "It is clear that we have a blank userId that has a very high record count and it is going to have an affect on our results. Thus we need to investigate it and then determine if we can remove it from our dataset"
   ]
  },
  {
   "cell_type": "code",
   "execution_count": 10,
   "metadata": {},
   "outputs": [
    {
     "name": "stdout",
     "output_type": "stream",
     "text": [
      "+-------------------+-----+\n",
      "|               page|count|\n",
      "+-------------------+-----+\n",
      "|               Home| 8323|\n",
      "|              Login| 6011|\n",
      "|              About|  829|\n",
      "|               Help|  506|\n",
      "|              Error|   16|\n",
      "|           Register|   11|\n",
      "|Submit Registration|    4|\n",
      "+-------------------+-----+\n",
      "\n"
     ]
    }
   ],
   "source": [
    "user_event_data.filter(user_event_data.userId=='') \\\n",
    "  .groupBy('page') \\\n",
    "  .count()\\\n",
    "  .sort(desc(\"count\"))\\\n",
    "  .show()"
   ]
  },
  {
   "cell_type": "markdown",
   "metadata": {},
   "source": [
    "It appears that the blank User Id mostly is related to users that are visiting our Home page or Login page and will not be related in any meaningful way to our churn analysis"
   ]
  },
  {
   "cell_type": "code",
   "execution_count": 11,
   "metadata": {},
   "outputs": [],
   "source": [
    "user_event_valid_id = user_event_data.dropna(how = \"any\", subset = [\"userId\", \"sessionId\"])\n",
    "user_event_valid_id = user_event_valid_id.filter(user_event_valid_id[\"userId\"] != \"\")"
   ]
  },
  {
   "cell_type": "markdown",
   "metadata": {},
   "source": [
    "### Churned Users Counts"
   ]
  },
  {
   "cell_type": "code",
   "execution_count": 12,
   "metadata": {},
   "outputs": [
    {
     "name": "stdout",
     "output_type": "stream",
     "text": [
      "+------+-----+\n",
      "|gender|count|\n",
      "+------+-----+\n",
      "|     F|   45|\n",
      "|     M|   54|\n",
      "+------+-----+\n",
      "\n"
     ]
    }
   ],
   "source": [
    "user_event_valid_id.filter(user_event_valid_id.page=='Cancellation Confirmation') \\\n",
    "  .groupBy('gender') \\\n",
    "  .count()\\\n",
    "  .show(2)"
   ]
  },
  {
   "cell_type": "markdown",
   "metadata": {},
   "source": [
    "# Create Truth Set\n",
    "Determine the users that are cancelling their services (Churning) and label them as 1 and those that havent cancelled their service as 0"
   ]
  },
  {
   "cell_type": "code",
   "execution_count": 13,
   "metadata": {},
   "outputs": [],
   "source": [
    "labeled_df = user_event_valid_id.withColumn('churned', (when(col('page')== 'Cancellation Confirmation',1)\\\n",
    "                                                            .otherwise(0)))\n",
    "                                            "
   ]
  },
  {
   "cell_type": "code",
   "execution_count": 14,
   "metadata": {},
   "outputs": [],
   "source": [
    "user_labeled_df = labeled_df.groupby('userId')\\\n",
    "                       .agg(_sum('churned')\\\n",
    "                       .alias('churned'))"
   ]
  },
  {
   "cell_type": "code",
   "execution_count": 15,
   "metadata": {},
   "outputs": [
    {
     "name": "stdout",
     "output_type": "stream",
     "text": [
      "+------+-------+\n",
      "|userId|churned|\n",
      "+------+-------+\n",
      "|   296|      1|\n",
      "|100010|      1|\n",
      "+------+-------+\n",
      "only showing top 2 rows\n",
      "\n"
     ]
    }
   ],
   "source": [
    "user_labeled_df.show(2)"
   ]
  },
  {
   "cell_type": "code",
   "execution_count": 16,
   "metadata": {},
   "outputs": [
    {
     "name": "stdout",
     "output_type": "stream",
     "text": [
      "+-------+-----+\n",
      "|churned|count|\n",
      "+-------+-----+\n",
      "|      0|  349|\n",
      "|      1|   99|\n",
      "+-------+-----+\n",
      "\n"
     ]
    }
   ],
   "source": [
    "user_labeled_df.groupBy('churned')\\\n",
    "               .count()\\\n",
    "               .show()"
   ]
  },
  {
   "cell_type": "markdown",
   "metadata": {},
   "source": [
    "Out of our total number of 448 users 349 are subscribers and 99 are no longer subscribers and have churned. This is a bit unbalanced but not as bad as many fraud datasets. What is not ideal for a machine learning algorithm is that despite starting with what seemed to be a resonably large dataset of 543705 rows of logs there are effectively only 448 data points in our model. "
   ]
  },
  {
   "cell_type": "markdown",
   "metadata": {},
   "source": [
    "#### EDA Chart Churn by Gender"
   ]
  },
  {
   "cell_type": "code",
   "execution_count": 17,
   "metadata": {},
   "outputs": [],
   "source": [
    "eda = user_labeled_df.join(user_event_valid_id, on = 'userId')\\\n",
    "                        .select('userId','gender','churned')\\\n",
    "                        .dropDuplicates()\\\n",
    "                        .groupBy('gender','churned')\\\n",
    "                        .count()\\\n",
    "                        .toPandas()"
   ]
  },
  {
   "cell_type": "code",
   "execution_count": 18,
   "metadata": {},
   "outputs": [
    {
     "data": {
      "image/png": "[encoded data removed]",
      "text/plain": [
       "<Figure size 432x288 with 1 Axes>"
      ]
     },
     "metadata": {
      "needs_background": "light"
     },
     "output_type": "display_data"
    }
   ],
   "source": [
    "N = 2\n",
    "men_means = eda[eda.gender==\"M\"]['count']\n",
    "women_means = eda[eda.gender==\"F\"]['count']\n",
    "\n",
    "ind = np.arange(N) \n",
    "width = 0.35       \n",
    "plt.bar(ind, men_means, width, label='Men')\n",
    "plt.bar(ind + width, women_means, width,\n",
    "    label='Women')\n",
    "\n",
    "plt.ylabel('Scores')\n",
    "plt.xlabel('Churned')\n",
    "plt.title('Churn Count By Gender')\n",
    "\n",
    "plt.xticks(ind + width / 2, ('No', 'Yes'))\n",
    "plt.legend(loc='best')\n",
    "plt.show()"
   ]
  },
  {
   "cell_type": "markdown",
   "metadata": {},
   "source": [
    "# Generate User Behavior Features\n",
    "Now that we have the user truth values we need to generate aggregated features about the user behavior that we know before the user decides to churn. We will then use those features to predict if a user will churn based on their behavior. This will allow us to potentially keep more customers on our service and grow revenue and profit for the company."
   ]
  },
  {
   "cell_type": "markdown",
   "metadata": {},
   "source": [
    "## Feature 1 : Count of Thumbs:  up / down / total\n",
    "I think that the more a user gives songs thumbs up the less likely they are to churn and the more they give songs thumbs down the more likely they are to churn"
   ]
  },
  {
   "cell_type": "markdown",
   "metadata": {},
   "source": [
    "### 1.a countThumbsUp\n",
    "a count of the times a user has given a thumbs up"
   ]
  },
  {
   "cell_type": "code",
   "execution_count": 19,
   "metadata": {},
   "outputs": [],
   "source": [
    "# Thumbs Up\n",
    "labeled_df = labeled_df.withColumn('ThumbsUp', (when(col('page')== 'Thumbs Up',1)\\\n",
    "                                                            .otherwise(0)))\n",
    "user_thumbsUp_df = labeled_df.groupby('userId')\\\n",
    "                       .agg(_sum('ThumbsUp')\\\n",
    "                       .alias('countThumbsUp'))"
   ]
  },
  {
   "cell_type": "markdown",
   "metadata": {},
   "source": [
    "##### Feature Summary"
   ]
  },
  {
   "cell_type": "code",
   "execution_count": 20,
   "metadata": {},
   "outputs": [
    {
     "name": "stdout",
     "output_type": "stream",
     "text": [
      "+-------+------------------+\n",
      "|summary|     countThumbsUp|\n",
      "+-------+------------------+\n",
      "|  count|               448|\n",
      "|   mean|53.183035714285715|\n",
      "| stddev| 69.65210755898286|\n",
      "|    min|                 0|\n",
      "|    max|               506|\n",
      "+-------+------------------+\n",
      "\n"
     ]
    }
   ],
   "source": [
    "user_thumbsUp_df.dropDuplicates()\\\n",
    "                .describe('countThumbsUp')\\\n",
    "                .show()"
   ]
  },
  {
   "cell_type": "code",
   "execution_count": 21,
   "metadata": {},
   "outputs": [
    {
     "name": "stdout",
     "output_type": "stream",
     "text": [
      "+------+-------+-------------+\n",
      "|userId|churned|countThumbsUp|\n",
      "+------+-------+-------------+\n",
      "|100010|      1|            4|\n",
      "|200002|      1|           15|\n",
      "|   296|      1|            8|\n",
      "|   125|      0|            3|\n",
      "|   124|      1|          102|\n",
      "+------+-------+-------------+\n",
      "only showing top 5 rows\n",
      "\n"
     ]
    }
   ],
   "source": [
    "# Join data back to our user dataframe\n",
    "user_labeled_df = user_labeled_df.join(user_thumbsUp_df, 'userId')\n",
    "user_labeled_df.show(5)"
   ]
  },
  {
   "cell_type": "markdown",
   "metadata": {},
   "source": [
    "#### EDA of Count of Thumbs Up"
   ]
  },
  {
   "cell_type": "code",
   "execution_count": 22,
   "metadata": {},
   "outputs": [
    {
     "data": {
      "image/png": "[encoded data removed]",
      "text/plain": [
       "<Figure size 432x288 with 1 Axes>"
      ]
     },
     "metadata": {
      "needs_background": "light"
     },
     "output_type": "display_data"
    },
    {
     "name": "stdout",
     "output_type": "stream",
     "text": [
      "Median for Active subscribers: 31.0\n",
      "Median for Churned subscribers: 17.0\n"
     ]
    }
   ],
   "source": [
    "eda = user_labeled_df.toPandas()\n",
    "churn = eda[eda.churned==1]\n",
    "noChurn = eda[eda.churned==0]\n",
    "\n",
    "plot_dict = {'Active': noChurn.countThumbsUp.values, 'Churned': churn.countThumbsUp.values}\n",
    "plt.boxplot(plot_dict.values())\n",
    "\n",
    "plt.title(\"EDA for countThumbsUp\")\n",
    "plt.xticks([1,2],plot_dict.keys())\n",
    "plt.ylabel(\"Count of Thumbs Up Ratings\")\n",
    "plt.show()\n",
    "print(\"Median for Active subscribers:\",round(np.median(noChurn.countThumbsUp.values),3))\n",
    "print(\"Median for Churned subscribers:\",round(np.median(churn.countThumbsUp.values),3))"
   ]
  },
  {
   "cell_type": "markdown",
   "metadata": {},
   "source": [
    "### 1.b countThumbsDown\n",
    "a count of the times a user has given a thumbs down"
   ]
  },
  {
   "cell_type": "code",
   "execution_count": 23,
   "metadata": {},
   "outputs": [],
   "source": [
    "# Thumbs Down\n",
    "labeled_df = labeled_df.withColumn('ThumbsDown', (when(col('page')== 'Thumbs Down',1)\\\n",
    "                                                            .otherwise(0)))\n",
    "user_thumbsDown_df = labeled_df.groupby('userId')\\\n",
    "                       .agg(_sum('ThumbsDown')\\\n",
    "                       .alias('countThumbsDown'))"
   ]
  },
  {
   "cell_type": "markdown",
   "metadata": {},
   "source": [
    "##### Feature Summary"
   ]
  },
  {
   "cell_type": "code",
   "execution_count": 24,
   "metadata": {},
   "outputs": [
    {
     "name": "stdout",
     "output_type": "stream",
     "text": [
      "+-------+------------------+\n",
      "|summary|   countThumbsDown|\n",
      "+-------+------------------+\n",
      "|  count|               448|\n",
      "|   mean|10.962053571428571|\n",
      "| stddev|13.356609011067468|\n",
      "|    min|                 0|\n",
      "|    max|                80|\n",
      "+-------+------------------+\n",
      "\n"
     ]
    }
   ],
   "source": [
    "user_thumbsDown_df.dropDuplicates()\\\n",
    "                .describe('countThumbsDown')\\\n",
    "                .show()"
   ]
  },
  {
   "cell_type": "code",
   "execution_count": 25,
   "metadata": {},
   "outputs": [
    {
     "name": "stdout",
     "output_type": "stream",
     "text": [
      "+------+-------+-------------+---------------+\n",
      "|userId|churned|countThumbsUp|countThumbsDown|\n",
      "+------+-------+-------------+---------------+\n",
      "|100010|      1|            4|              3|\n",
      "|200002|      1|           15|              5|\n",
      "|   296|      1|            8|              0|\n",
      "|   125|      0|            3|              1|\n",
      "|   124|      1|          102|             15|\n",
      "+------+-------+-------------+---------------+\n",
      "only showing top 5 rows\n",
      "\n"
     ]
    }
   ],
   "source": [
    "# Join data back to our user dataframe\n",
    "user_labeled_df = user_labeled_df.join(user_thumbsDown_df, 'userId')\n",
    "user_labeled_df.show(5)"
   ]
  },
  {
   "cell_type": "markdown",
   "metadata": {},
   "source": [
    "#### EDA of Count of Thumbs Down"
   ]
  },
  {
   "cell_type": "code",
   "execution_count": 26,
   "metadata": {},
   "outputs": [
    {
     "data": {
      "image/png": "[encoded data removed]",
      "text/plain": [
       "<Figure size 432x288 with 1 Axes>"
      ]
     },
     "metadata": {
      "needs_background": "light"
     },
     "output_type": "display_data"
    },
    {
     "name": "stdout",
     "output_type": "stream",
     "text": [
      "Median for Active subscribers: 6.0\n",
      "Median for Churned subscribers: 7.0\n"
     ]
    }
   ],
   "source": [
    "eda = user_labeled_df.toPandas()\n",
    "churn = eda[eda.churned==1]\n",
    "noChurn = eda[eda.churned==0]\n",
    "\n",
    "plot_dict = {'Active': noChurn.countThumbsDown.values, 'Churned': churn.countThumbsDown.values}\n",
    "plt.boxplot(plot_dict.values())\n",
    "\n",
    "plt.title(\"EDA for countThumbsDown\")\n",
    "plt.xticks([1,2],plot_dict.keys())\n",
    "plt.ylabel(\"Count of Thumbs Down Ratings\")\n",
    "plt.show()\n",
    "print(\"Median for Active subscribers:\",round(np.median(noChurn.countThumbsDown.values),3))\n",
    "print(\"Median for Churned subscribers:\",round(np.median(churn.countThumbsDown.values),3))"
   ]
  },
  {
   "cell_type": "markdown",
   "metadata": {},
   "source": [
    "#### EDA Chart Churn and Count of Thumbs Up / Thumbs Down"
   ]
  },
  {
   "cell_type": "code",
   "execution_count": 27,
   "metadata": {},
   "outputs": [
    {
     "data": {
      "image/png": "[encoded data removed]",
      "text/plain": [
       "<Figure size 432x288 with 1 Axes>"
      ]
     },
     "metadata": {
      "needs_background": "light"
     },
     "output_type": "display_data"
    }
   ],
   "source": [
    "eda = user_labeled_df.toPandas()\n",
    "churn = eda[eda.churned==1]\n",
    "noChurn = eda[eda.churned==0]\n",
    "\n",
    "plt.scatter(noChurn.countThumbsUp,noChurn.countThumbsDown,color='gray',label='Active')\n",
    "plt.scatter(churn.countThumbsUp,churn.countThumbsDown,color='red',label='Churned')\n",
    "\n",
    "plt.ylabel('Thumbs Down')\n",
    "plt.xlabel('Thumbs Up')\n",
    "plt.title('User Song Rating vs Churn')\n",
    "plt.legend(loc='lower right')\n",
    "plt.show()"
   ]
  },
  {
   "cell_type": "markdown",
   "metadata": {},
   "source": [
    "### 1.c Total Thumbs\n",
    "Another easy feature to add is total between thumbs up and thumbs down. This can allow us to create percentage based features for users that are"
   ]
  },
  {
   "cell_type": "code",
   "execution_count": 28,
   "metadata": {},
   "outputs": [
    {
     "name": "stdout",
     "output_type": "stream",
     "text": [
      "+------+-------+-------------+---------------+-----------+\n",
      "|userId|churned|countThumbsUp|countThumbsDown|totalThumbs|\n",
      "+------+-------+-------------+---------------+-----------+\n",
      "|100010|      1|            4|              3|          7|\n",
      "|200002|      1|           15|              5|         20|\n",
      "|   296|      1|            8|              0|          8|\n",
      "|   125|      0|            3|              1|          4|\n",
      "|   124|      1|          102|             15|        117|\n",
      "+------+-------+-------------+---------------+-----------+\n",
      "only showing top 5 rows\n",
      "\n"
     ]
    }
   ],
   "source": [
    "user_labeled_df = user_labeled_df.withColumn('totalThumbs',user_labeled_df.countThumbsUp + user_labeled_df.countThumbsDown)\n",
    "user_labeled_df.show(5)"
   ]
  },
  {
   "cell_type": "markdown",
   "metadata": {},
   "source": [
    "##### Feature Summary"
   ]
  },
  {
   "cell_type": "code",
   "execution_count": 29,
   "metadata": {},
   "outputs": [
    {
     "name": "stdout",
     "output_type": "stream",
     "text": [
      "+-------+-----------------+\n",
      "|summary|      totalThumbs|\n",
      "+-------+-----------------+\n",
      "|  count|              448|\n",
      "|   mean|64.14508928571429|\n",
      "| stddev|80.93833885241825|\n",
      "|    min|                0|\n",
      "|    max|              576|\n",
      "+-------+-----------------+\n",
      "\n"
     ]
    }
   ],
   "source": [
    "user_labeled_df.describe('totalThumbs')\\\n",
    "               .show()"
   ]
  },
  {
   "cell_type": "markdown",
   "metadata": {},
   "source": [
    "#### EDA Chart Churn and Count of Logins"
   ]
  },
  {
   "cell_type": "code",
   "execution_count": 30,
   "metadata": {},
   "outputs": [
    {
     "data": {
      "image/png": "[encoded data removed]",
      "text/plain": [
       "<Figure size 432x288 with 1 Axes>"
      ]
     },
     "metadata": {
      "needs_background": "light"
     },
     "output_type": "display_data"
    },
    {
     "name": "stdout",
     "output_type": "stream",
     "text": [
      "Median for Active subscribers: 38.0\n",
      "Median for Churned subscribers: 25.0\n"
     ]
    }
   ],
   "source": [
    "eda = user_labeled_df.toPandas()\n",
    "churn = eda[eda.churned==1]\n",
    "noChurn = eda[eda.churned==0]\n",
    "\n",
    "plot_dict = {'Active': noChurn.totalThumbs.values, 'Churned': churn.totalThumbs.values}\n",
    "plt.boxplot(plot_dict.values())\n",
    "\n",
    "plt.title(\"EDA for totalThumbs\")\n",
    "plt.xticks([1,2],plot_dict.keys())\n",
    "plt.ylabel(\"Count of Total Song Ratings\")\n",
    "plt.show()\n",
    "print(\"Median for Active subscribers:\",round(np.median(noChurn.totalThumbs.values),3))\n",
    "print(\"Median for Churned subscribers:\",round(np.median(churn.totalThumbs.values),3))"
   ]
  },
  {
   "cell_type": "markdown",
   "metadata": {},
   "source": [
    "## Feature 2 : Number of Logins\n",
    "I assume that the more a user engages with the service the more likely they are to not churn"
   ]
  },
  {
   "cell_type": "code",
   "execution_count": 31,
   "metadata": {},
   "outputs": [],
   "source": [
    "\n",
    "num_logins_df = user_event_valid_id\\\n",
    "                   .select('userId','sessionId')\\\n",
    "                   .dropDuplicates()\\\n",
    "                   .groupBy('userId')\\\n",
    "                   .count()\\\n",
    "                   .withColumnRenamed(\"count\",\"countLogins\")"
   ]
  },
  {
   "cell_type": "markdown",
   "metadata": {},
   "source": [
    "##### Feature Summary"
   ]
  },
  {
   "cell_type": "code",
   "execution_count": 32,
   "metadata": {},
   "outputs": [
    {
     "name": "stdout",
     "output_type": "stream",
     "text": [
      "+-------+------------------+\n",
      "|summary|       countLogins|\n",
      "+-------+------------------+\n",
      "|  count|               448|\n",
      "|   mean|13.571428571428571|\n",
      "| stddev|13.171023911802262|\n",
      "|    min|                 1|\n",
      "|    max|                92|\n",
      "+-------+------------------+\n",
      "\n"
     ]
    }
   ],
   "source": [
    "num_logins_df.describe('countLogins')\\\n",
    "             .show()"
   ]
  },
  {
   "cell_type": "code",
   "execution_count": 33,
   "metadata": {},
   "outputs": [
    {
     "name": "stdout",
     "output_type": "stream",
     "text": [
      "+------+-------+-------------+---------------+-----------+-----------+\n",
      "|userId|churned|countThumbsUp|countThumbsDown|totalThumbs|countLogins|\n",
      "+------+-------+-------------+---------------+-----------+-----------+\n",
      "|100010|      1|            4|              3|          7|          2|\n",
      "|200002|      1|           15|              5|         20|          5|\n",
      "|   296|      1|            8|              0|          8|          5|\n",
      "|   125|      0|            3|              1|          4|          3|\n",
      "|   124|      1|          102|             15|        117|         17|\n",
      "+------+-------+-------------+---------------+-----------+-----------+\n",
      "only showing top 5 rows\n",
      "\n"
     ]
    }
   ],
   "source": [
    "# Join data back to our user dataframe\n",
    "user_labeled_df = user_labeled_df.join(num_logins_df, 'userId')\n",
    "user_labeled_df.show(5)"
   ]
  },
  {
   "cell_type": "markdown",
   "metadata": {},
   "source": [
    "#### EDA Chart Churn and Count of Total Ratings"
   ]
  },
  {
   "cell_type": "code",
   "execution_count": 34,
   "metadata": {},
   "outputs": [
    {
     "data": {
      "image/png": "[encoded data removed]",
      "text/plain": [
       "<Figure size 432x288 with 1 Axes>"
      ]
     },
     "metadata": {
      "needs_background": "light"
     },
     "output_type": "display_data"
    },
    {
     "name": "stdout",
     "output_type": "stream",
     "text": [
      "Median for Active subscribers: 10.0\n",
      "Median for Churned subscribers: 8.0\n"
     ]
    }
   ],
   "source": [
    "eda = user_labeled_df.toPandas()\n",
    "churn = eda[eda.churned==1]\n",
    "noChurn = eda[eda.churned==0]\n",
    "\n",
    "plot_dict = {'Active': noChurn.countLogins.values, 'Churned': churn.countLogins.values}\n",
    "plt.boxplot(plot_dict.values())\n",
    "\n",
    "plt.title(\"EDA for countLogins\")\n",
    "plt.xticks([1,2],plot_dict.keys())\n",
    "plt.ylabel(\"Count of Logins\")\n",
    "plt.show()\n",
    "print(\"Median for Active subscribers:\",round(np.median(noChurn.countLogins.values),3))\n",
    "print(\"Median for Churned subscribers:\",round(np.median(churn.countLogins.values),3))"
   ]
  },
  {
   "cell_type": "markdown",
   "metadata": {},
   "source": [
    "## Feature 3 : Number of Friends\n",
    "I assume that the more friends a user has the more likely they will stay on our service. "
   ]
  },
  {
   "cell_type": "code",
   "execution_count": 35,
   "metadata": {},
   "outputs": [],
   "source": [
    "num_friends_df = user_event_valid_id\\\n",
    "                   .filter(user_event_valid_id.page==\"Add Friend\")\\\n",
    "                   .groupBy('userId')\\\n",
    "                   .count()\\\n",
    "                   .withColumnRenamed(\"count\",\"countFriends\")"
   ]
  },
  {
   "cell_type": "markdown",
   "metadata": {},
   "source": [
    "##### Feature Summary"
   ]
  },
  {
   "cell_type": "code",
   "execution_count": 36,
   "metadata": {},
   "outputs": [
    {
     "name": "stdout",
     "output_type": "stream",
     "text": [
      "+-------+------------------+\n",
      "|summary|      countFriends|\n",
      "+-------+------------------+\n",
      "|  count|               409|\n",
      "|   mean|19.772616136919314|\n",
      "| stddev|22.494435766272833|\n",
      "|    min|                 1|\n",
      "|    max|               158|\n",
      "+-------+------------------+\n",
      "\n"
     ]
    }
   ],
   "source": [
    "num_friends_df.describe('countFriends')\\\n",
    "              .show()"
   ]
  },
  {
   "cell_type": "code",
   "execution_count": 37,
   "metadata": {},
   "outputs": [
    {
     "name": "stdout",
     "output_type": "stream",
     "text": [
      "+------+-------+-------------+---------------+-----------+-----------+------------+\n",
      "|userId|churned|countThumbsUp|countThumbsDown|totalThumbs|countLogins|countFriends|\n",
      "+------+-------+-------------+---------------+-----------+-----------+------------+\n",
      "|100010|      1|            4|              3|          7|          2|           3|\n",
      "|200002|      1|           15|              5|         20|          5|           2|\n",
      "|   296|      1|            8|              0|          8|          5|           2|\n",
      "|   125|      0|            3|              1|          4|          3|           3|\n",
      "|   124|      1|          102|             15|        117|         17|          26|\n",
      "+------+-------+-------------+---------------+-----------+-----------+------------+\n",
      "only showing top 5 rows\n",
      "\n"
     ]
    }
   ],
   "source": [
    "# Join data back to our user dataframe\n",
    "user_labeled_df = user_labeled_df.join(num_friends_df, 'userId')\n",
    "user_labeled_df.show(5)"
   ]
  },
  {
   "cell_type": "markdown",
   "metadata": {},
   "source": [
    "#### EDA Chart Churn and Number of Friends"
   ]
  },
  {
   "cell_type": "code",
   "execution_count": 38,
   "metadata": {},
   "outputs": [
    {
     "data": {
      "image/png": "[encoded data removed]",
      "text/plain": [
       "<Figure size 432x288 with 1 Axes>"
      ]
     },
     "metadata": {
      "needs_background": "light"
     },
     "output_type": "display_data"
    },
    {
     "name": "stdout",
     "output_type": "stream",
     "text": [
      "Median Active subscribers: 12.5\n",
      "Median Churned subscribers: 10.0\n"
     ]
    }
   ],
   "source": [
    "eda = user_labeled_df.toPandas()\n",
    "churn = eda[eda.churned==1]\n",
    "noChurn = eda[eda.churned==0]\n",
    "\n",
    "plot_dict = {'Active': noChurn.countFriends.values, 'Churned': churn.countFriends.values}\n",
    "plt.boxplot(plot_dict.values())\n",
    "\n",
    "plt.title(\"EDA for countFriends\")\n",
    "plt.xticks([1,2],plot_dict.keys())\n",
    "plt.ylabel(\"Number of Friends\")\n",
    "plt.show()\n",
    "print(\"Median Active subscribers:\",round(np.median(noChurn.countFriends.values),3))\n",
    "print(\"Median Churned subscribers:\",round(np.median(churn.countFriends.values),3))"
   ]
  },
  {
   "cell_type": "markdown",
   "metadata": {},
   "source": [
    "## Feature 4 : Number of Errors\n",
    "I assume that the more errors a user faces especially compared to the number of songs they listen to the more likely they are to churn"
   ]
  },
  {
   "cell_type": "code",
   "execution_count": 39,
   "metadata": {},
   "outputs": [],
   "source": [
    "num_errors_df = user_event_valid_id\\\n",
    "                   .filter(user_event_valid_id.page==\"Error\")\\\n",
    "                   .groupBy('userId')\\\n",
    "                   .count()\\\n",
    "                   .withColumnRenamed(\"count\",\"countErrors\")"
   ]
  },
  {
   "cell_type": "markdown",
   "metadata": {},
   "source": [
    "##### Feature Summary"
   ]
  },
  {
   "cell_type": "code",
   "execution_count": 40,
   "metadata": {},
   "outputs": [
    {
     "name": "stdout",
     "output_type": "stream",
     "text": [
      "+-------+------------------+\n",
      "|summary|       countErrors|\n",
      "+-------+------------------+\n",
      "|  count|               223|\n",
      "|   mean|2.2556053811659194|\n",
      "| stddev|1.7686337339924163|\n",
      "|    min|                 1|\n",
      "|    max|                13|\n",
      "+-------+------------------+\n",
      "\n"
     ]
    }
   ],
   "source": [
    "num_errors_df.describe('countErrors')\\\n",
    "              .show()"
   ]
  },
  {
   "cell_type": "code",
   "execution_count": 41,
   "metadata": {},
   "outputs": [
    {
     "name": "stdout",
     "output_type": "stream",
     "text": [
      "+------+-------+-------------+---------------+-----------+-----------+------------+-----------+\n",
      "|userId|churned|countThumbsUp|countThumbsDown|totalThumbs|countLogins|countFriends|countErrors|\n",
      "+------+-------+-------------+---------------+-----------+-----------+------------+-----------+\n",
      "|    51|      1|           16|              1|         17|          5|           3|          2|\n",
      "|   205|      0|           50|             10|         60|          5|          21|          1|\n",
      "|    15|      0|           93|             16|        109|         18|          32|          1|\n",
      "|   232|      0|           97|             17|        114|         23|          43|          1|\n",
      "|   234|      1|           91|             22|        113|         26|          17|          2|\n",
      "+------+-------+-------------+---------------+-----------+-----------+------------+-----------+\n",
      "only showing top 5 rows\n",
      "\n"
     ]
    }
   ],
   "source": [
    "# Join data back to our user dataframe\n",
    "user_labeled_df = user_labeled_df.join(num_errors_df, 'userId')\n",
    "user_labeled_df.show(5)"
   ]
  },
  {
   "cell_type": "markdown",
   "metadata": {},
   "source": [
    "#### EDA Chart Churn and Count of Errors"
   ]
  },
  {
   "cell_type": "code",
   "execution_count": 42,
   "metadata": {},
   "outputs": [
    {
     "data": {
      "image/png": "[encoded data removed]",
      "text/plain": [
       "<Figure size 432x288 with 1 Axes>"
      ]
     },
     "metadata": {
      "needs_background": "light"
     },
     "output_type": "display_data"
    },
    {
     "name": "stdout",
     "output_type": "stream",
     "text": [
      "Median for Active subscribers: 2.0\n",
      "Median for Churned subscribers: 2.0\n"
     ]
    }
   ],
   "source": [
    "eda = user_labeled_df.toPandas()\n",
    "churn = eda[eda.churned==1]\n",
    "noChurn = eda[eda.churned==0]\n",
    "\n",
    "plot_dict = {'Active': noChurn.countErrors.values, 'Churned': churn.countErrors.values}\n",
    "plt.boxplot(plot_dict.values())\n",
    "\n",
    "plt.title(\"EDA for countErrors\")\n",
    "plt.xticks([1,2],plot_dict.keys())\n",
    "plt.ylabel(\"Count of Errors\")\n",
    "plt.show()\n",
    "print(\"Median for Active subscribers:\",round(np.median(noChurn.countErrors.values),3))\n",
    "print(\"Median for Churned subscribers:\",round(np.median(churn.countErrors.values),3))"
   ]
  },
  {
   "cell_type": "markdown",
   "metadata": {},
   "source": [
    "## Feature 5 : Number of visits to the help page\n",
    "I assume that the more visits to the help page the more likely a user is to be having trouble with the service and is thus more likely to leave"
   ]
  },
  {
   "cell_type": "code",
   "execution_count": 43,
   "metadata": {},
   "outputs": [],
   "source": [
    "num_help_df = user_event_valid_id\\\n",
    "                   .filter(user_event_valid_id.page==\"Help\")\\\n",
    "                   .groupBy('userId')\\\n",
    "                   .count()\\\n",
    "                   .withColumnRenamed(\"count\",\"countHelp\")"
   ]
  },
  {
   "cell_type": "markdown",
   "metadata": {},
   "source": [
    "##### Feature Summary"
   ]
  },
  {
   "cell_type": "code",
   "execution_count": 44,
   "metadata": {},
   "outputs": [
    {
     "name": "stdout",
     "output_type": "stream",
     "text": [
      "+-------+-----------------+\n",
      "|summary|        countHelp|\n",
      "+-------+-----------------+\n",
      "|  count|              360|\n",
      "|   mean|7.344444444444444|\n",
      "| stddev|7.482065630371307|\n",
      "|    min|                1|\n",
      "|    max|               62|\n",
      "+-------+-----------------+\n",
      "\n"
     ]
    }
   ],
   "source": [
    "num_help_df.describe('countHelp')\\\n",
    "              .show()"
   ]
  },
  {
   "cell_type": "code",
   "execution_count": 45,
   "metadata": {},
   "outputs": [
    {
     "name": "stdout",
     "output_type": "stream",
     "text": [
      "+------+-------+-------------+---------------+-----------+-----------+------------+-----------+---------+\n",
      "|userId|churned|countThumbsUp|countThumbsDown|totalThumbs|countLogins|countFriends|countErrors|countHelp|\n",
      "+------+-------+-------------+---------------+-----------+-----------+------------+-----------+---------+\n",
      "|   205|      0|           50|             10|         60|          5|          21|          1|       11|\n",
      "|    15|      0|           93|             16|        109|         18|          32|          1|       12|\n",
      "|   232|      0|           97|             17|        114|         23|          43|          1|       21|\n",
      "|   234|      1|           91|             22|        113|         26|          17|          2|        7|\n",
      "|   282|      0|          133|             29|        162|         29|          79|          4|       19|\n",
      "+------+-------+-------------+---------------+-----------+-----------+------------+-----------+---------+\n",
      "only showing top 5 rows\n",
      "\n"
     ]
    }
   ],
   "source": [
    "# Join data back to our user dataframe\n",
    "user_labeled_df = user_labeled_df.join(num_help_df, 'userId')\n",
    "user_labeled_df.show(5)"
   ]
  },
  {
   "cell_type": "markdown",
   "metadata": {},
   "source": [
    "#### EDA Chart Churn and Count of Help Page Visits"
   ]
  },
  {
   "cell_type": "code",
   "execution_count": 46,
   "metadata": {},
   "outputs": [
    {
     "data": {
      "image/png": "[encoded data removed]",
      "text/plain": [
       "<Figure size 432x288 with 1 Axes>"
      ]
     },
     "metadata": {
      "needs_background": "light"
     },
     "output_type": "display_data"
    },
    {
     "name": "stdout",
     "output_type": "stream",
     "text": [
      "Median for Active subscribers: 8.0\n",
      "Median for Churned subscribers: 7.0\n"
     ]
    }
   ],
   "source": [
    "eda = user_labeled_df.toPandas()\n",
    "churn = eda[eda.churned==1]\n",
    "noChurn = eda[eda.churned==0]\n",
    "\n",
    "plot_dict = {'Active': noChurn.countHelp.values, 'Churned': churn.countHelp.values}\n",
    "plt.boxplot(plot_dict.values())\n",
    "\n",
    "plt.title(\"EDA for countHelp\")\n",
    "plt.xticks([1,2],plot_dict.keys())\n",
    "plt.ylabel(\"Count of Help Page Visits\")\n",
    "plt.show()\n",
    "print(\"Median for Active subscribers:\",round(np.median(noChurn.countHelp.values),3))\n",
    "print(\"Median for Churned subscribers:\",round(np.median(churn.countHelp.values),3))"
   ]
  },
  {
   "cell_type": "markdown",
   "metadata": {},
   "source": [
    "## Feature 6 : Number of Songs\n",
    "If a user listens to a lot of songs they are likely to be engaged and probably enjoy using the service"
   ]
  },
  {
   "cell_type": "code",
   "execution_count": 47,
   "metadata": {},
   "outputs": [],
   "source": [
    "num_songs_df = user_event_valid_id\\\n",
    "                   .select('userId','song')\\\n",
    "                   .groupBy('userId')\\\n",
    "                   .count()\\\n",
    "                   .withColumnRenamed(\"count\",\"countSong\")"
   ]
  },
  {
   "cell_type": "markdown",
   "metadata": {},
   "source": [
    "#### Feature Summary"
   ]
  },
  {
   "cell_type": "code",
   "execution_count": 48,
   "metadata": {},
   "outputs": [
    {
     "name": "stdout",
     "output_type": "stream",
     "text": [
      "+-------+------------------+\n",
      "|summary|         countSong|\n",
      "+-------+------------------+\n",
      "|  count|               448|\n",
      "|   mean|1178.5825892857142|\n",
      "| stddev|1380.6279647524045|\n",
      "|    min|                 3|\n",
      "|    max|              9767|\n",
      "+-------+------------------+\n",
      "\n"
     ]
    }
   ],
   "source": [
    "num_songs_df.describe('countSong')\\\n",
    "              .show()"
   ]
  },
  {
   "cell_type": "code",
   "execution_count": 49,
   "metadata": {},
   "outputs": [],
   "source": [
    "# Join data back to our user dataframe\n",
    "user_labeled_df = user_labeled_df.join(num_songs_df, 'userId')"
   ]
  },
  {
   "cell_type": "markdown",
   "metadata": {},
   "source": [
    "#### EDA Chart Churn and Count of Songs A User Has Listened To"
   ]
  },
  {
   "cell_type": "code",
   "execution_count": 50,
   "metadata": {},
   "outputs": [
    {
     "data": {
      "image/png": "[encoded data removed]",
      "text/plain": [
       "<Figure size 432x288 with 1 Axes>"
      ]
     },
     "metadata": {
      "needs_background": "light"
     },
     "output_type": "display_data"
    },
    {
     "name": "stdout",
     "output_type": "stream",
     "text": [
      "Median for Active subscribers: 1563.0\n",
      "Median for Churned subscribers: 1571.0\n"
     ]
    }
   ],
   "source": [
    "eda = user_labeled_df.toPandas()\n",
    "churn = eda[eda.churned==1]\n",
    "noChurn = eda[eda.churned==0]\n",
    "\n",
    "plot_dict = {'Active': noChurn.countSong.values, 'Churned': churn.countSong.values}\n",
    "plt.boxplot(plot_dict.values())\n",
    "\n",
    "plt.title(\"EDA for countSong\")\n",
    "plt.xticks([1,2],plot_dict.keys())\n",
    "plt.ylabel(\"Count of Songs Listened To\")\n",
    "plt.show()\n",
    "print(\"Median for Active subscribers:\",round(np.median(noChurn.countSong.values),3))\n",
    "print(\"Median for Churned subscribers:\",round(np.median(churn.countSong.values),3))"
   ]
  },
  {
   "cell_type": "markdown",
   "metadata": {},
   "source": [
    "## Feature 7 : Percent of Sessions Paid vs Free\n"
   ]
  },
  {
   "cell_type": "code",
   "execution_count": 51,
   "metadata": {},
   "outputs": [],
   "source": [
    "mean_level_df = user_event_valid_id\\\n",
    "                   .select('userId','level')\\\n",
    "                   .withColumn('levelBinary', (when(col('level')== 'free',0)\\\n",
    "                                                            .otherwise(1)))\\\n",
    "                   .groupBy('userId')\\\n",
    "                   .agg(avg('levelBinary')\\\n",
    "                       .alias('meanLevel'))"
   ]
  },
  {
   "cell_type": "markdown",
   "metadata": {},
   "source": [
    "#### Feature Summary"
   ]
  },
  {
   "cell_type": "code",
   "execution_count": 52,
   "metadata": {},
   "outputs": [
    {
     "name": "stdout",
     "output_type": "stream",
     "text": [
      "+-------+-------------------+\n",
      "|summary|          meanLevel|\n",
      "+-------+-------------------+\n",
      "|  count|                448|\n",
      "|   mean| 0.5608038780418371|\n",
      "| stddev|0.41286879860171066|\n",
      "|    min|                0.0|\n",
      "|    max|                1.0|\n",
      "+-------+-------------------+\n",
      "\n"
     ]
    }
   ],
   "source": [
    "mean_level_df.describe('meanLevel')\\\n",
    "              .show()"
   ]
  },
  {
   "cell_type": "code",
   "execution_count": 53,
   "metadata": {},
   "outputs": [],
   "source": [
    "# Join data back to our user dataframe\n",
    "user_labeled_df = user_labeled_df.join(mean_level_df, 'userId')"
   ]
  },
  {
   "cell_type": "markdown",
   "metadata": {},
   "source": [
    "#### EDA Chart Churn and Percent of Time on Paid vs Free Subscription"
   ]
  },
  {
   "cell_type": "code",
   "execution_count": 54,
   "metadata": {},
   "outputs": [
    {
     "data": {
      "image/png": "[encoded data removed]",
      "text/plain": [
       "<Figure size 432x288 with 1 Axes>"
      ]
     },
     "metadata": {
      "needs_background": "light"
     },
     "output_type": "display_data"
    },
    {
     "name": "stdout",
     "output_type": "stream",
     "text": [
      "Median for Active subscribers: 0.9\n",
      "Median for Churned subscribers: 0.813\n"
     ]
    }
   ],
   "source": [
    "eda = user_labeled_df.toPandas()\n",
    "churn = eda[eda.churned==1]\n",
    "noChurn = eda[eda.churned==0]\n",
    "\n",
    "plot_dict = {'Active': noChurn.meanLevel.values, 'Churned': churn.meanLevel.values}\n",
    "plt.boxplot(plot_dict.values())\n",
    "\n",
    "plt.title(\"EDA for meanLevel\")\n",
    "plt.xticks([1,2],plot_dict.keys())\n",
    "plt.ylabel(\"Percentage of Time Paid vs Free\")\n",
    "plt.show()\n",
    "print(\"Median for Active subscribers:\",round(np.median(noChurn.meanLevel.values),3))\n",
    "print(\"Median for Churned subscribers:\",round(np.median(churn.meanLevel.values),3))"
   ]
  },
  {
   "cell_type": "markdown",
   "metadata": {},
   "source": [
    "## Interaction Features\n",
    "The way features interact with eachother may be useful like the number of errors in a session or the percentage of thumbs up vs thumbs down a user gives to songs."
   ]
  },
  {
   "cell_type": "code",
   "execution_count": 55,
   "metadata": {},
   "outputs": [],
   "source": [
    "user_labeled_df = user_labeled_df.withColumn('percThumbsUp',\\\n",
    "                                             user_labeled_df.countThumbsUp / user_labeled_df.totalThumbs)"
   ]
  },
  {
   "cell_type": "markdown",
   "metadata": {},
   "source": [
    "#### EDA Chart Churn and Percent of Ratings that are Thumbs Up"
   ]
  },
  {
   "cell_type": "code",
   "execution_count": 56,
   "metadata": {},
   "outputs": [
    {
     "data": {
      "image/png": "[encoded data removed]",
      "text/plain": [
       "<Figure size 432x288 with 1 Axes>"
      ]
     },
     "metadata": {
      "needs_background": "light"
     },
     "output_type": "display_data"
    },
    {
     "name": "stdout",
     "output_type": "stream",
     "text": [
      "Median for Active subscribers: 0.841\n",
      "Median for Churned subscribers: 0.82\n"
     ]
    }
   ],
   "source": [
    "eda = user_labeled_df.toPandas()\n",
    "churn = eda[eda.churned==1]\n",
    "noChurn = eda[eda.churned==0]\n",
    "\n",
    "plot_dict = {'Active': noChurn.percThumbsUp.values, 'Churned': churn.percThumbsUp.values}\n",
    "plt.boxplot(plot_dict.values())\n",
    "\n",
    "plt.title(\"EDA for percThumbsUp\")\n",
    "plt.xticks([1,2],plot_dict.keys())\n",
    "plt.ylabel(\"Percentage of Ratings Thumbs Up\")\n",
    "plt.show()\n",
    "print(\"Median for Active subscribers:\",round(np.median(noChurn.percThumbsUp.values),3))\n",
    "print(\"Median for Churned subscribers:\",round(np.median(churn.percThumbsUp.values),3))"
   ]
  },
  {
   "cell_type": "code",
   "execution_count": 57,
   "metadata": {},
   "outputs": [],
   "source": [
    "user_labeled_df = user_labeled_df.withColumn('errorsPerLogin',\\\n",
    "                                             user_labeled_df.countErrors / user_labeled_df.countLogins)"
   ]
  },
  {
   "cell_type": "markdown",
   "metadata": {},
   "source": [
    "#### EDA Chart Churn and Errors per Login"
   ]
  },
  {
   "cell_type": "code",
   "execution_count": 58,
   "metadata": {},
   "outputs": [
    {
     "data": {
      "image/png": "[encoded data removed]",
      "text/plain": [
       "<Figure size 432x288 with 1 Axes>"
      ]
     },
     "metadata": {
      "needs_background": "light"
     },
     "output_type": "display_data"
    },
    {
     "name": "stdout",
     "output_type": "stream",
     "text": [
      "Median for Active subscribers: 0.1\n",
      "Median for Churned subscribers: 0.111\n"
     ]
    }
   ],
   "source": [
    "eda = user_labeled_df.toPandas()\n",
    "churn = eda[eda.churned==1]\n",
    "noChurn = eda[eda.churned==0]\n",
    "\n",
    "plot_dict = {'Active': noChurn.errorsPerLogin.values, 'Churned': churn.errorsPerLogin.values}\n",
    "plt.boxplot(plot_dict.values())\n",
    "\n",
    "plt.title(\"EDA for errorsPerLogin\")\n",
    "plt.xticks([1,2],plot_dict.keys())\n",
    "plt.ylabel(\"Errors Per Login\")\n",
    "plt.show()\n",
    "print(\"Median for Active subscribers:\",round(np.median(noChurn.errorsPerLogin.values),3))\n",
    "print(\"Median for Churned subscribers:\",round(np.median(churn.errorsPerLogin.values),3))"
   ]
  },
  {
   "cell_type": "code",
   "execution_count": 59,
   "metadata": {},
   "outputs": [],
   "source": [
    "user_labeled_df = user_labeled_df.withColumn('helpPerLogin',\\\n",
    "                                             user_labeled_df.countHelp / user_labeled_df.countLogins)"
   ]
  },
  {
   "cell_type": "markdown",
   "metadata": {},
   "source": [
    "#### EDA Chart Churn and Help Page Visits per Login"
   ]
  },
  {
   "cell_type": "code",
   "execution_count": 60,
   "metadata": {},
   "outputs": [
    {
     "data": {
      "image/png": "[encoded data removed]",
      "text/plain": [
       "<Figure size 432x288 with 1 Axes>"
      ]
     },
     "metadata": {
      "needs_background": "light"
     },
     "output_type": "display_data"
    },
    {
     "name": "stdout",
     "output_type": "stream",
     "text": [
      "Median for Active subscribers: 0.429\n",
      "Median for Churned subscribers: 0.419\n"
     ]
    }
   ],
   "source": [
    "eda = user_labeled_df.toPandas()\n",
    "churn = eda[eda.churned==1]\n",
    "noChurn = eda[eda.churned==0]\n",
    "\n",
    "plot_dict = {'Active': noChurn.helpPerLogin.values, 'Churned': churn.helpPerLogin.values}\n",
    "plt.boxplot(plot_dict.values())\n",
    "\n",
    "plt.title(\"EDA for helpPerLogin\")\n",
    "plt.xticks([1,2],plot_dict.keys())\n",
    "plt.ylabel(\"Help Page Visits per Login\")\n",
    "plt.show()\n",
    "print(\"Median for Active subscribers:\",round(np.median(noChurn.helpPerLogin.values),3))\n",
    "print(\"Median for Churned subscribers:\",round(np.median(churn.helpPerLogin.values),3))"
   ]
  },
  {
   "cell_type": "code",
   "execution_count": 61,
   "metadata": {},
   "outputs": [],
   "source": [
    "user_labeled_df = user_labeled_df.withColumn('songsPerLogin',\\\n",
    "                                             user_labeled_df.countSong / user_labeled_df.countLogins)"
   ]
  },
  {
   "cell_type": "markdown",
   "metadata": {},
   "source": [
    "#### EDA Chart Churn and Songs per Login"
   ]
  },
  {
   "cell_type": "code",
   "execution_count": 62,
   "metadata": {},
   "outputs": [
    {
     "data": {
      "image/png": "[encoded data removed]",
      "text/plain": [
       "<Figure size 432x288 with 1 Axes>"
      ]
     },
     "metadata": {
      "needs_background": "light"
     },
     "output_type": "display_data"
    },
    {
     "name": "stdout",
     "output_type": "stream",
     "text": [
      "Median for Active subscribers: 95.25\n",
      "Median for Churned subscribers: 91.889\n"
     ]
    }
   ],
   "source": [
    "eda = user_labeled_df.toPandas()\n",
    "churn = eda[eda.churned==1]\n",
    "noChurn = eda[eda.churned==0]\n",
    "\n",
    "plot_dict = {'Active': noChurn.songsPerLogin.values, 'Churned': churn.songsPerLogin.values}\n",
    "plt.boxplot(plot_dict.values())\n",
    "\n",
    "plt.title(\"EDA for songsPerLogin\")\n",
    "plt.xticks([1,2],plot_dict.keys())\n",
    "plt.ylabel(\"Songs per Login\")\n",
    "plt.show()\n",
    "print(\"Median for Active subscribers:\",round(np.median(noChurn.songsPerLogin.values),3))\n",
    "print(\"Median for Churned subscribers:\",round(np.median(churn.songsPerLogin.values),3))"
   ]
  },
  {
   "cell_type": "markdown",
   "metadata": {},
   "source": [
    "### Final Dataframe"
   ]
  },
  {
   "cell_type": "code",
   "execution_count": 63,
   "metadata": {},
   "outputs": [
    {
     "name": "stdout",
     "output_type": "stream",
     "text": [
      "+-------------+------------------+---------------+-----------+-----------+------------+-----------+--------------------+---------+------------------+---------+------------------+------------------+-------+\n",
      "|countThumbsUp|      percThumbsUp|countThumbsDown|totalThumbs|countLogins|countFriends|countErrors|      errorsPerLogin|countHelp|      helpPerLogin|countSong|     songsPerLogin|         meanLevel|churned|\n",
      "+-------------+------------------+---------------+-----------+-----------+------------+-----------+--------------------+---------+------------------+---------+------------------+------------------+-------+\n",
      "|           50|0.8333333333333334|             10|         60|          5|          21|          1|                 0.2|       11|               2.2|     1244|             248.8|               1.0|      0|\n",
      "|           93|0.8532110091743119|             16|        109|         18|          32|          1| 0.05555555555555555|       12|0.6666666666666666|     2173|120.72222222222223|               1.0|      0|\n",
      "|           97|0.8508771929824561|             17|        114|         23|          43|          1|0.043478260869565216|       21|0.9130434782608695|     2325|101.08695652173913|0.7058064516129032|      0|\n",
      "|           91|0.8053097345132744|             22|        113|         26|          17|          2| 0.07692307692307693|        7|0.2692307692307692|     2021| 77.73076923076923|0.8129638792676893|      1|\n",
      "|          133|0.8209876543209876|             29|        162|         29|          79|          4| 0.13793103448275862|       19|0.6551724137931034|     3191|110.03448275862068|0.8467565026637418|      0|\n",
      "+-------------+------------------+---------------+-----------+-----------+------------+-----------+--------------------+---------+------------------+---------+------------------+------------------+-------+\n",
      "only showing top 5 rows\n",
      "\n"
     ]
    }
   ],
   "source": [
    "# reorder for ML feature selection and remove userId\n",
    "final_user_labeled_df = user_labeled_df.select('countThumbsUp','percThumbsUp','countThumbsDown','totalThumbs',\n",
    "                                         'countLogins','countFriends','countErrors','errorsPerLogin',\n",
    "                                         'countHelp','helpPerLogin','countSong','songsPerLogin','meanLevel',\n",
    "                                         'churned')\n",
    "final_user_labeled_df.show(5)"
   ]
  },
  {
   "cell_type": "markdown",
   "metadata": {},
   "source": [
    "# Training & Test Split\n",
    "In order to ensure the fitted model is extensible to new data that it hasnt trained on I am going to split 80% for training data and 20% for test data"
   ]
  },
  {
   "cell_type": "code",
   "execution_count": 64,
   "metadata": {},
   "outputs": [
    {
     "name": "stdout",
     "output_type": "stream",
     "text": [
      "+--------------------+-----+\n",
      "|            features|label|\n",
      "+--------------------+-----+\n",
      "|[50.0,0.833333333...|    0|\n",
      "|[93.0,0.853211009...|    0|\n",
      "|[97.0,0.850877192...|    0|\n",
      "|[91.0,0.805309734...|    1|\n",
      "|[133.0,0.82098765...|    0|\n",
      "+--------------------+-----+\n",
      "only showing top 5 rows\n",
      "\n"
     ]
    }
   ],
   "source": [
    "# the data needs to be mapped into a features column with a vector of the features and a label column with the target\n",
    "trainingData=final_user_labeled_df.rdd.map(lambda x:(Vectors.dense(x[0:-1]), x[-1])).toDF([\"features\", \"label\"])\n",
    "trainingData.show(5)"
   ]
  },
  {
   "cell_type": "code",
   "execution_count": 65,
   "metadata": {},
   "outputs": [],
   "source": [
    "train, validation = trainingData.randomSplit([0.9, 0.1], seed=1842)"
   ]
  },
  {
   "cell_type": "markdown",
   "metadata": {},
   "source": [
    "## Metrics and Plot Helper functions"
   ]
  },
  {
   "cell_type": "code",
   "execution_count": 66,
   "metadata": {},
   "outputs": [],
   "source": [
    "def plot_roc(y,preds):\n",
    "    \"\"\"\n",
    "    This function takes in:\n",
    "    y - the label\n",
    "    preds - the predicted probability that the model gives for a 1\n",
    "    \"\"\"\n",
    "    fpr, tpr, threshold = metrics.roc_curve(y, preds)\n",
    "    roc_auc = metrics.auc(fpr, tpr)\n",
    "    plt.title('Receiver Operating Characteristic')\n",
    "    plt.plot(fpr, tpr, 'b', label = 'AUC = %0.3f' % roc_auc)\n",
    "    plt.legend(loc = 'lower right')\n",
    "    plt.plot([0, 1], [0, 1],'r--')\n",
    "    plt.xlim([-.01, 1])\n",
    "    plt.ylim([0, 1.01])\n",
    "    plt.ylabel('True Positive Rate')\n",
    "    plt.xlabel('False Positive Rate')\n",
    "    plt.show()"
   ]
  },
  {
   "cell_type": "code",
   "execution_count": 67,
   "metadata": {},
   "outputs": [],
   "source": [
    "\"\"\"\n",
    "PySpark User defined functions to parse out values from an array in a column\n",
    "this is useful for parsing out the probablility of a 0 and 1 from the predictions made from model.transform(df)\n",
    "\"\"\"\n",
    "split0_udf = udf(lambda value: value[0].item(), FloatType())\n",
    "split1_udf = udf(lambda value: value[1].item(), FloatType())"
   ]
  },
  {
   "cell_type": "markdown",
   "metadata": {},
   "source": [
    "# Logistic Regression Model \n",
    "both basic and with Grid Search and Train/Validation Split"
   ]
  },
  {
   "cell_type": "code",
   "execution_count": 68,
   "metadata": {},
   "outputs": [],
   "source": [
    "lr = LogisticRegression(maxIter=10)\n",
    "\n",
    "model = lr.fit(train)"
   ]
  },
  {
   "cell_type": "code",
   "execution_count": 69,
   "metadata": {},
   "outputs": [],
   "source": [
    "lr_train_preds = model.transform(train)\n",
    "lr_test_preds = model.transform(validation)"
   ]
  },
  {
   "cell_type": "code",
   "execution_count": 70,
   "metadata": {},
   "outputs": [
    {
     "data": {
      "image/png": "[encoded data removed]",
      "text/plain": [
       "<Figure size 432x288 with 1 Axes>"
      ]
     },
     "metadata": {
      "needs_background": "light"
     },
     "output_type": "display_data"
    }
   ],
   "source": [
    "train_preds = lr_train_preds.withColumn('prob0', split0_udf('probability'))\\\n",
    "                                      .withColumn('prob1', split1_udf('probability'))\\\n",
    "                                      .drop('features','rawPrediction','probability')\\\n",
    "                                      .toPandas()\n",
    "preds = train_preds.prob1\n",
    "y = train_preds.label\n",
    "plot_roc(y,preds)"
   ]
  },
  {
   "cell_type": "code",
   "execution_count": 71,
   "metadata": {},
   "outputs": [
    {
     "data": {
      "image/png": "[encoded data removed]",
      "text/plain": [
       "<Figure size 432x288 with 1 Axes>"
      ]
     },
     "metadata": {
      "needs_background": "light"
     },
     "output_type": "display_data"
    }
   ],
   "source": [
    "test_preds = lr_test_preds.withColumn('prob0', split0_udf('probability'))\\\n",
    "                                      .withColumn('prob1', split1_udf('probability'))\\\n",
    "                                      .drop('features','rawPrediction','probability')\\\n",
    "                                      .toPandas()\n",
    "preds = test_preds.prob1\n",
    "y = test_preds.label\n",
    "plot_roc(y,preds)"
   ]
  },
  {
   "cell_type": "markdown",
   "metadata": {},
   "source": [
    "### Analysis of Logistic Regression\n",
    "\n",
    "This model is obviously overfit because the AUC drops by about .4 from training to test sets! In order to combat the overfitting a parameter grid search can be used to use some elastic net regularization as well as if an intercept should be fit or not. That should make a more generalizable model"
   ]
  },
  {
   "cell_type": "markdown",
   "metadata": {},
   "source": [
    "### Train Validation Split Logistic Regression"
   ]
  },
  {
   "cell_type": "code",
   "execution_count": 72,
   "metadata": {},
   "outputs": [],
   "source": [
    "paramGrid = ParamGridBuilder()\\\n",
    "    .addGrid(lr.regParam, [0.1, 0.01]) \\\n",
    "    .addGrid(lr.fitIntercept, [False, True])\\\n",
    "    .addGrid(lr.elasticNetParam, [0.0, 0.5, 1.0])\\\n",
    "    .build()\n",
    "\n",
    "tvs = TrainValidationSplit(estimator=lr,\n",
    "                           estimatorParamMaps=paramGrid,\n",
    "                           evaluator=BinaryClassificationEvaluator(),\n",
    "                           # 80% of the data will be used for training, 20% for validation.\n",
    "                           trainRatio=0.8)\n",
    "\n",
    "tvs_model = tvs.fit(train)\n",
    "tvs_train_preds = tvs_model.transform(train)\n",
    "tvs_test_predictions = tvs_model.transform(validation)"
   ]
  },
  {
   "cell_type": "markdown",
   "metadata": {},
   "source": [
    "### Train Results"
   ]
  },
  {
   "cell_type": "code",
   "execution_count": 73,
   "metadata": {},
   "outputs": [
    {
     "data": {
      "image/png": "[encoded data removed]",
      "text/plain": [
       "<Figure size 432x288 with 1 Axes>"
      ]
     },
     "metadata": {
      "needs_background": "light"
     },
     "output_type": "display_data"
    }
   ],
   "source": [
    "train_preds = tvs_train_preds.withColumn('prob0', split0_udf('probability'))\\\n",
    "                                      .withColumn('prob1', split1_udf('probability'))\\\n",
    "                                      .drop('features','rawPrediction','probability')\\\n",
    "                                      .toPandas()\n",
    "preds = train_preds.prob1\n",
    "y = train_preds.label\n",
    "plot_roc(y,preds)"
   ]
  },
  {
   "cell_type": "markdown",
   "metadata": {},
   "source": [
    "### Test Results"
   ]
  },
  {
   "cell_type": "code",
   "execution_count": 74,
   "metadata": {},
   "outputs": [
    {
     "data": {
      "image/png": "[encoded data removed]",
      "text/plain": [
       "<Figure size 432x288 with 1 Axes>"
      ]
     },
     "metadata": {
      "needs_background": "light"
     },
     "output_type": "display_data"
    }
   ],
   "source": [
    "test_preds = tvs_test_predictions.withColumn('prob0', split0_udf('probability'))\\\n",
    "                                      .withColumn('prob1', split1_udf('probability'))\\\n",
    "                                      .drop('features','rawPrediction','probability')\\\n",
    "                                      .toPandas()\n",
    "preds = test_preds.prob1\n",
    "y = test_preds.label\n",
    "plot_roc(y,preds)"
   ]
  },
  {
   "cell_type": "markdown",
   "metadata": {},
   "source": [
    "### Analysis of Logistic Regression with Parameter Tuning\n",
    "\n",
    "This model is still overfit because the AUC drops by about .1 from training to test sets but it is a lot better than the first logistic regression with no regularization. An AUC of .58 is not that good though another type of model can be used like GBTree that may model our data better."
   ]
  },
  {
   "cell_type": "markdown",
   "metadata": {},
   "source": [
    "## GBTree"
   ]
  },
  {
   "cell_type": "code",
   "execution_count": 75,
   "metadata": {},
   "outputs": [],
   "source": [
    "gbt = GBTClassifier(maxIter=10)\n",
    "\n",
    "model = gbt.fit(train)\n",
    "# Make predictions\n",
    "gbt_train_predictions = model.transform(train)\n",
    "gbt_predictions = model.transform(validation)"
   ]
  },
  {
   "cell_type": "code",
   "execution_count": 76,
   "metadata": {},
   "outputs": [
    {
     "data": {
      "image/png": "[encoded data removed]",
      "text/plain": [
       "<Figure size 432x288 with 1 Axes>"
      ]
     },
     "metadata": {
      "needs_background": "light"
     },
     "output_type": "display_data"
    }
   ],
   "source": [
    "training_preds = gbt_train_predictions.withColumn('prob0', split0_udf('probability'))\\\n",
    "                                      .withColumn('prob1', split1_udf('probability'))\\\n",
    "                                      .drop('features','rawPrediction','probability')\\\n",
    "                                      .toPandas()\n",
    "preds = training_preds.prob1\n",
    "y = training_preds.label\n",
    "plot_roc(y,preds)"
   ]
  },
  {
   "cell_type": "markdown",
   "metadata": {},
   "source": [
    "### Test Results"
   ]
  },
  {
   "cell_type": "code",
   "execution_count": 77,
   "metadata": {},
   "outputs": [
    {
     "data": {
      "image/png": "[encoded data removed]",
      "text/plain": [
       "<Figure size 432x288 with 1 Axes>"
      ]
     },
     "metadata": {
      "needs_background": "light"
     },
     "output_type": "display_data"
    }
   ],
   "source": [
    "test_preds = gbt_predictions.withColumn('prob0', split0_udf('probability'))\\\n",
    "                                      .withColumn('prob1', split1_udf('probability'))\\\n",
    "                                      .drop('features','rawPrediction','probability')\\\n",
    "                                      .toPandas()\n",
    "preds = test_preds.prob1\n",
    "y = test_preds.label\n",
    "plot_roc(y,preds)"
   ]
  },
  {
   "cell_type": "markdown",
   "metadata": {},
   "source": [
    "### Feature Analysis"
   ]
  },
  {
   "cell_type": "code",
   "execution_count": 78,
   "metadata": {},
   "outputs": [
    {
     "data": {
      "text/html": [
       "<div>\n",
       "<style scoped>\n",
       "    .dataframe tbody tr th:only-of-type {\n",
       "        vertical-align: middle;\n",
       "    }\n",
       "\n",
       "    .dataframe tbody tr th {\n",
       "        vertical-align: top;\n",
       "    }\n",
       "\n",
       "    .dataframe thead th {\n",
       "        text-align: right;\n",
       "    }\n",
       "</style>\n",
       "<table border=\"1\" class=\"dataframe\">\n",
       "  <thead>\n",
       "    <tr style=\"text-align: right;\">\n",
       "      <th></th>\n",
       "      <th>FeatureImportance</th>\n",
       "      <th>Names</th>\n",
       "    </tr>\n",
       "  </thead>\n",
       "  <tbody>\n",
       "    <tr>\n",
       "      <th>7</th>\n",
       "      <td>0.151113</td>\n",
       "      <td>errorsPerLogin</td>\n",
       "    </tr>\n",
       "    <tr>\n",
       "      <th>2</th>\n",
       "      <td>0.148080</td>\n",
       "      <td>countThumbsDown</td>\n",
       "    </tr>\n",
       "    <tr>\n",
       "      <th>0</th>\n",
       "      <td>0.109106</td>\n",
       "      <td>countThumbsUp</td>\n",
       "    </tr>\n",
       "    <tr>\n",
       "      <th>12</th>\n",
       "      <td>0.105253</td>\n",
       "      <td>meanLevel</td>\n",
       "    </tr>\n",
       "    <tr>\n",
       "      <th>5</th>\n",
       "      <td>0.095961</td>\n",
       "      <td>countFriends</td>\n",
       "    </tr>\n",
       "    <tr>\n",
       "      <th>4</th>\n",
       "      <td>0.089919</td>\n",
       "      <td>countLogins</td>\n",
       "    </tr>\n",
       "    <tr>\n",
       "      <th>11</th>\n",
       "      <td>0.085595</td>\n",
       "      <td>songsPerLogin</td>\n",
       "    </tr>\n",
       "    <tr>\n",
       "      <th>8</th>\n",
       "      <td>0.080834</td>\n",
       "      <td>countHelp</td>\n",
       "    </tr>\n",
       "    <tr>\n",
       "      <th>9</th>\n",
       "      <td>0.038104</td>\n",
       "      <td>helpPerLogin</td>\n",
       "    </tr>\n",
       "    <tr>\n",
       "      <th>10</th>\n",
       "      <td>0.035911</td>\n",
       "      <td>countSong</td>\n",
       "    </tr>\n",
       "    <tr>\n",
       "      <th>1</th>\n",
       "      <td>0.031780</td>\n",
       "      <td>percThumbsUp</td>\n",
       "    </tr>\n",
       "    <tr>\n",
       "      <th>3</th>\n",
       "      <td>0.028344</td>\n",
       "      <td>totalThumbs</td>\n",
       "    </tr>\n",
       "    <tr>\n",
       "      <th>6</th>\n",
       "      <td>0.000000</td>\n",
       "      <td>countErrors</td>\n",
       "    </tr>\n",
       "  </tbody>\n",
       "</table>\n",
       "</div>"
      ],
      "text/plain": [
       "    FeatureImportance            Names\n",
       "7            0.151113   errorsPerLogin\n",
       "2            0.148080  countThumbsDown\n",
       "0            0.109106    countThumbsUp\n",
       "12           0.105253        meanLevel\n",
       "5            0.095961     countFriends\n",
       "4            0.089919      countLogins\n",
       "11           0.085595    songsPerLogin\n",
       "8            0.080834        countHelp\n",
       "9            0.038104     helpPerLogin\n",
       "10           0.035911        countSong\n",
       "1            0.031780     percThumbsUp\n",
       "3            0.028344      totalThumbs\n",
       "6            0.000000      countErrors"
      ]
     },
     "execution_count": 78,
     "metadata": {},
     "output_type": "execute_result"
    }
   ],
   "source": [
    "featImps = model.featureImportances.toArray()\n",
    "varNames = ['countThumbsUp','percThumbsUp','countThumbsDown','totalThumbs','countLogins','countFriends',\n",
    " 'countErrors','errorsPerLogin','countHelp','helpPerLogin','countSong','songsPerLogin','meanLevel']\n",
    "\n",
    "importance = pd.DataFrame({\"FeatureImportance\":featImps,\"Names\":varNames}).sort_values(\"FeatureImportance\")\n",
    "importance.sort_values(\"FeatureImportance\",ascending = False)"
   ]
  },
  {
   "cell_type": "code",
   "execution_count": 79,
   "metadata": {},
   "outputs": [
    {
     "data": {
      "image/png": "[encoded data removed]",
      "text/plain": [
       "<Figure size 432x288 with 1 Axes>"
      ]
     },
     "metadata": {
      "needs_background": "light"
     },
     "output_type": "display_data"
    }
   ],
   "source": [
    "y_pos = np.arange(len(importance.Names))\n",
    "\n",
    "plt.barh(y_pos, importance.FeatureImportance, align='center', alpha=0.5)\n",
    "plt.yticks(y_pos, importance.Names)\n",
    "plt.xlabel('Usage')\n",
    "plt.title('Programming language usage')\n",
    "\n",
    "plt.show()"
   ]
  },
  {
   "cell_type": "markdown",
   "metadata": {},
   "source": [
    "### Analysis of Logistic Regression with Parameter Tuning\n",
    "\n",
    "This model is performs really well especially for only a few features. We can see that the most important features to the model are errors per login and count of thumbs down with the rest of the features still having a moderate importance.\n",
    "\n",
    "We are able to predict the training data perfectly with an AUC of 1 and the test data very well with an AUC of 0.979\n",
    "\n",
    "The main thing that would help to determine how extensible this model is to the entire userbase would be to get more data and apply the GBTree method I demonstrated with the same features and see how it extends to the rest of the users. "
   ]
  },
  {
   "cell_type": "code",
   "execution_count": null,
   "metadata": {},
   "outputs": [],
   "source": []
  }
 ],
 "metadata": {
  "kernelspec": {
   "display_name": "Python 3",
   "language": "python",
   "name": "python3"
  },
  "language_info": {
   "codemirror_mode": {
    "name": "ipython",
    "version": 3
   },
   "file_extension": ".py",
   "mimetype": "text/x-python",
   "name": "python",
   "nbconvert_exporter": "python",
   "pygments_lexer": "ipython3",
   "version": "3.7.3"
  }
 },
 "nbformat": 4,
 "nbformat_minor": 4
}
